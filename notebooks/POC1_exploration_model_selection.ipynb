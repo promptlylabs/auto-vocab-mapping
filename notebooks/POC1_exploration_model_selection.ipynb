{
 "cells": [
  {
   "cell_type": "markdown",
   "metadata": {},
   "source": [
    "# Auto Vocab Mapping\n",
    "___\n",
    "\n",
    "## POC 1 - Vector Space Search\n",
    "\n",
    "For the first POC I'll focus on source and target descriptions only. So I just need previously matched sources and targets."
   ]
  },
  {
   "cell_type": "code",
   "execution_count": 1,
   "metadata": {},
   "outputs": [],
   "source": [
    "import pandas as pd"
   ]
  },
  {
   "cell_type": "markdown",
   "metadata": {},
   "source": [
    "Read CHUC example files and see what's in it"
   ]
  },
  {
   "cell_type": "code",
   "execution_count": 2,
   "metadata": {},
   "outputs": [],
   "source": [
    "chuc_s_df = pd.read_csv(\"../lib/data/raw/source_codes_description/chuc/analises_cod_acto.csv\")\n",
    "chuc_s2c_df = pd.read_csv(\"../lib/data/raw/source_to_concept/chuc/source_to_standard_analises_cod_acto.csv\")\n",
    "concept = pd.read_csv(\"../lib/data/raw/vocabularies/CONCEPT.csv\", low_memory=False)"
   ]
  },
  {
   "cell_type": "code",
   "execution_count": 3,
   "metadata": {},
   "outputs": [
    {
     "data": {
      "text/html": [
       "<div>\n",
       "<style scoped>\n",
       "    .dataframe tbody tr th:only-of-type {\n",
       "        vertical-align: middle;\n",
       "    }\n",
       "\n",
       "    .dataframe tbody tr th {\n",
       "        vertical-align: top;\n",
       "    }\n",
       "\n",
       "    .dataframe thead th {\n",
       "        text-align: right;\n",
       "    }\n",
       "</style>\n",
       "<table border=\"1\" class=\"dataframe\">\n",
       "  <thead>\n",
       "    <tr style=\"text-align: right;\">\n",
       "      <th></th>\n",
       "      <th>concept_id</th>\n",
       "      <th>concept_name</th>\n",
       "      <th>domain_id</th>\n",
       "      <th>vocabulary_id</th>\n",
       "      <th>concept_class_id</th>\n",
       "      <th>standard_concept</th>\n",
       "      <th>concept_code</th>\n",
       "      <th>valid_start_date</th>\n",
       "      <th>valid_end_date</th>\n",
       "      <th>invalid_reason</th>\n",
       "    </tr>\n",
       "  </thead>\n",
       "  <tbody>\n",
       "    <tr>\n",
       "      <th>0</th>\n",
       "      <td>45756805</td>\n",
       "      <td>Pediatric Cardiology</td>\n",
       "      <td>Provider</td>\n",
       "      <td>ABMS</td>\n",
       "      <td>Physician Specialty</td>\n",
       "      <td>S</td>\n",
       "      <td>OMOP4821938</td>\n",
       "      <td>19700101</td>\n",
       "      <td>20991231</td>\n",
       "      <td>NaN</td>\n",
       "    </tr>\n",
       "    <tr>\n",
       "      <th>1</th>\n",
       "      <td>45756804</td>\n",
       "      <td>Pediatric Anesthesiology</td>\n",
       "      <td>Provider</td>\n",
       "      <td>ABMS</td>\n",
       "      <td>Physician Specialty</td>\n",
       "      <td>S</td>\n",
       "      <td>OMOP4821939</td>\n",
       "      <td>19700101</td>\n",
       "      <td>20991231</td>\n",
       "      <td>NaN</td>\n",
       "    </tr>\n",
       "    <tr>\n",
       "      <th>2</th>\n",
       "      <td>45756803</td>\n",
       "      <td>Pathology-Anatomic / Pathology-Clinical</td>\n",
       "      <td>Provider</td>\n",
       "      <td>ABMS</td>\n",
       "      <td>Physician Specialty</td>\n",
       "      <td>S</td>\n",
       "      <td>OMOP4821940</td>\n",
       "      <td>19700101</td>\n",
       "      <td>20991231</td>\n",
       "      <td>NaN</td>\n",
       "    </tr>\n",
       "    <tr>\n",
       "      <th>3</th>\n",
       "      <td>45756802</td>\n",
       "      <td>Pathology - Pediatric</td>\n",
       "      <td>Provider</td>\n",
       "      <td>ABMS</td>\n",
       "      <td>Physician Specialty</td>\n",
       "      <td>S</td>\n",
       "      <td>OMOP4821941</td>\n",
       "      <td>19700101</td>\n",
       "      <td>20991231</td>\n",
       "      <td>NaN</td>\n",
       "    </tr>\n",
       "    <tr>\n",
       "      <th>4</th>\n",
       "      <td>45756801</td>\n",
       "      <td>Pathology - Molecular Genetic</td>\n",
       "      <td>Provider</td>\n",
       "      <td>ABMS</td>\n",
       "      <td>Physician Specialty</td>\n",
       "      <td>S</td>\n",
       "      <td>OMOP4821942</td>\n",
       "      <td>19700101</td>\n",
       "      <td>20991231</td>\n",
       "      <td>NaN</td>\n",
       "    </tr>\n",
       "  </tbody>\n",
       "</table>\n",
       "</div>"
      ],
      "text/plain": [
       "   concept_id                             concept_name domain_id  \\\n",
       "0    45756805                     Pediatric Cardiology  Provider   \n",
       "1    45756804                 Pediatric Anesthesiology  Provider   \n",
       "2    45756803  Pathology-Anatomic / Pathology-Clinical  Provider   \n",
       "3    45756802                    Pathology - Pediatric  Provider   \n",
       "4    45756801            Pathology - Molecular Genetic  Provider   \n",
       "\n",
       "  vocabulary_id     concept_class_id standard_concept concept_code  \\\n",
       "0          ABMS  Physician Specialty                S  OMOP4821938   \n",
       "1          ABMS  Physician Specialty                S  OMOP4821939   \n",
       "2          ABMS  Physician Specialty                S  OMOP4821940   \n",
       "3          ABMS  Physician Specialty                S  OMOP4821941   \n",
       "4          ABMS  Physician Specialty                S  OMOP4821942   \n",
       "\n",
       "   valid_start_date  valid_end_date invalid_reason  \n",
       "0          19700101        20991231            NaN  \n",
       "1          19700101        20991231            NaN  \n",
       "2          19700101        20991231            NaN  \n",
       "3          19700101        20991231            NaN  \n",
       "4          19700101        20991231            NaN  "
      ]
     },
     "execution_count": 3,
     "metadata": {},
     "output_type": "execute_result"
    }
   ],
   "source": [
    "concept.head()"
   ]
  },
  {
   "cell_type": "code",
   "execution_count": 4,
   "metadata": {},
   "outputs": [
    {
     "data": {
      "text/plain": [
       "dtype('int64')"
      ]
     },
     "execution_count": 4,
     "metadata": {},
     "output_type": "execute_result"
    }
   ],
   "source": [
    "concept['concept_id'].dtype"
   ]
  },
  {
   "cell_type": "code",
   "execution_count": 5,
   "metadata": {},
   "outputs": [],
   "source": [
    "set_dtype = concept['concept_id'].dtype"
   ]
  },
  {
   "cell_type": "markdown",
   "metadata": {},
   "source": [
    "Make dict to map quickly"
   ]
  },
  {
   "cell_type": "code",
   "execution_count": 6,
   "metadata": {},
   "outputs": [],
   "source": [
    "target_dict = dict(zip(concept['concept_id'], concept['concept_name']))"
   ]
  },
  {
   "cell_type": "markdown",
   "metadata": {},
   "source": [
    "From here I need concept_id and concept_name to map"
   ]
  },
  {
   "cell_type": "code",
   "execution_count": 7,
   "metadata": {},
   "outputs": [
    {
     "data": {
      "text/html": [
       "<div>\n",
       "<style scoped>\n",
       "    .dataframe tbody tr th:only-of-type {\n",
       "        vertical-align: middle;\n",
       "    }\n",
       "\n",
       "    .dataframe tbody tr th {\n",
       "        vertical-align: top;\n",
       "    }\n",
       "\n",
       "    .dataframe thead th {\n",
       "        text-align: right;\n",
       "    }\n",
       "</style>\n",
       "<table border=\"1\" class=\"dataframe\">\n",
       "  <thead>\n",
       "    <tr style=\"text-align: right;\">\n",
       "      <th></th>\n",
       "      <th>source_code</th>\n",
       "      <th>source_description</th>\n",
       "      <th>translated_source_description</th>\n",
       "    </tr>\n",
       "  </thead>\n",
       "  <tbody>\n",
       "    <tr>\n",
       "      <th>0</th>\n",
       "      <td>A21900</td>\n",
       "      <td>FERRO, S</td>\n",
       "      <td>Ferro, s</td>\n",
       "    </tr>\n",
       "    <tr>\n",
       "      <th>1</th>\n",
       "      <td>X34281</td>\n",
       "      <td>AN¡LISE POR SEQUENCIA«√O EM LARGA ESCALA (~0,5MB</td>\n",
       "      <td>LARGE SCALE SEQUENCE ANALYSIS (~0.5MB</td>\n",
       "    </tr>\n",
       "    <tr>\n",
       "      <th>2</th>\n",
       "      <td>A22375</td>\n",
       "      <td>CYFRA 21-1</td>\n",
       "      <td>DIGIT 21-1</td>\n",
       "    </tr>\n",
       "    <tr>\n",
       "      <th>3</th>\n",
       "      <td>A21646</td>\n",
       "      <td>DELTA-4-ANDROSTENEDIONA, S</td>\n",
       "      <td>DELTA-4-ANDROSTENEDIONA, S</td>\n",
       "    </tr>\n",
       "    <tr>\n",
       "      <th>4</th>\n",
       "      <td>A25520</td>\n",
       "      <td>ANTICORPOS ANTI-NUCLEARES E CITOPLASMATICOS (A...</td>\n",
       "      <td>ANTI-NUCLEAR AND CYTOPLASMATIC ANTIBODIES (ANT...</td>\n",
       "    </tr>\n",
       "  </tbody>\n",
       "</table>\n",
       "</div>"
      ],
      "text/plain": [
       "  source_code                                 source_description  \\\n",
       "0      A21900                                           FERRO, S   \n",
       "1      X34281   AN¡LISE POR SEQUENCIA«√O EM LARGA ESCALA (~0,5MB   \n",
       "2      A22375                                        CYFRA 21-1    \n",
       "3      A21646                         DELTA-4-ANDROSTENEDIONA, S   \n",
       "4      A25520  ANTICORPOS ANTI-NUCLEARES E CITOPLASMATICOS (A...   \n",
       "\n",
       "                       translated_source_description  \n",
       "0                                           Ferro, s  \n",
       "1              LARGE SCALE SEQUENCE ANALYSIS (~0.5MB  \n",
       "2                                         DIGIT 21-1  \n",
       "3                         DELTA-4-ANDROSTENEDIONA, S  \n",
       "4  ANTI-NUCLEAR AND CYTOPLASMATIC ANTIBODIES (ANT...  "
      ]
     },
     "execution_count": 7,
     "metadata": {},
     "output_type": "execute_result"
    }
   ],
   "source": [
    "chuc_s_df.head()"
   ]
  },
  {
   "cell_type": "markdown",
   "metadata": {},
   "source": [
    "These are translations. We're not going into this for now. A separate exploration will be carried out for this topic alone. We could fine-tune our own medical data whichi has its specificities. We'll need: \n",
    "- Medical terms translation\n",
    "- Acronym desambiguation"
   ]
  },
  {
   "cell_type": "code",
   "execution_count": 8,
   "metadata": {},
   "outputs": [
    {
     "data": {
      "text/html": [
       "<div>\n",
       "<style scoped>\n",
       "    .dataframe tbody tr th:only-of-type {\n",
       "        vertical-align: middle;\n",
       "    }\n",
       "\n",
       "    .dataframe tbody tr th {\n",
       "        vertical-align: top;\n",
       "    }\n",
       "\n",
       "    .dataframe thead th {\n",
       "        text-align: right;\n",
       "    }\n",
       "</style>\n",
       "<table border=\"1\" class=\"dataframe\">\n",
       "  <thead>\n",
       "    <tr style=\"text-align: right;\">\n",
       "      <th></th>\n",
       "      <th>source_code</th>\n",
       "      <th>source_concept_id</th>\n",
       "      <th>source_vocabulary_id</th>\n",
       "      <th>source_code_description</th>\n",
       "      <th>target_concept_id</th>\n",
       "      <th>target_vocabulary_id</th>\n",
       "      <th>valid_start_date</th>\n",
       "      <th>valid_end_date</th>\n",
       "      <th>invalid_reason</th>\n",
       "    </tr>\n",
       "  </thead>\n",
       "  <tbody>\n",
       "    <tr>\n",
       "      <th>0</th>\n",
       "      <td>A22793</td>\n",
       "      <td>0</td>\n",
       "      <td>analises_cod_acto</td>\n",
       "      <td>SODIO, S/U</td>\n",
       "      <td>3022810</td>\n",
       "      <td>LOINC</td>\n",
       "      <td>1970-01-01</td>\n",
       "      <td>2099-12-31</td>\n",
       "      <td>NaN</td>\n",
       "    </tr>\n",
       "    <tr>\n",
       "      <th>1</th>\n",
       "      <td>A24347</td>\n",
       "      <td>0</td>\n",
       "      <td>analises_cod_acto</td>\n",
       "      <td>TEMPO DE PROTROMBINA, S</td>\n",
       "      <td>4245261</td>\n",
       "      <td>SNOMED</td>\n",
       "      <td>1970-01-01</td>\n",
       "      <td>2099-12-31</td>\n",
       "      <td>NaN</td>\n",
       "    </tr>\n",
       "    <tr>\n",
       "      <th>2</th>\n",
       "      <td>A21789</td>\n",
       "      <td>0</td>\n",
       "      <td>analises_cod_acto</td>\n",
       "      <td>EQUILIBRIO ACIDO BASICO (PH, PC02,SAT O2,CO2,), S</td>\n",
       "      <td>3013290</td>\n",
       "      <td>LOINC</td>\n",
       "      <td>1970-01-01</td>\n",
       "      <td>2099-12-31</td>\n",
       "      <td>NaN</td>\n",
       "    </tr>\n",
       "    <tr>\n",
       "      <th>3</th>\n",
       "      <td>A21789</td>\n",
       "      <td>0</td>\n",
       "      <td>analises_cod_acto</td>\n",
       "      <td>EQUILIBRIO ACIDO BASICO (PH, PC02,SAT O2,CO2,), S</td>\n",
       "      <td>3027315</td>\n",
       "      <td>LOINC</td>\n",
       "      <td>1970-01-01</td>\n",
       "      <td>2099-12-31</td>\n",
       "      <td>NaN</td>\n",
       "    </tr>\n",
       "    <tr>\n",
       "      <th>4</th>\n",
       "      <td>A21789</td>\n",
       "      <td>0</td>\n",
       "      <td>analises_cod_acto</td>\n",
       "      <td>EQUILIBRIO ACIDO BASICO (PH, PC02,SAT O2,CO2,), S</td>\n",
       "      <td>4013965</td>\n",
       "      <td>SNOMED</td>\n",
       "      <td>1970-01-01</td>\n",
       "      <td>2099-12-31</td>\n",
       "      <td>NaN</td>\n",
       "    </tr>\n",
       "  </tbody>\n",
       "</table>\n",
       "</div>"
      ],
      "text/plain": [
       "  source_code  source_concept_id source_vocabulary_id  \\\n",
       "0      A22793                  0    analises_cod_acto   \n",
       "1      A24347                  0    analises_cod_acto   \n",
       "2      A21789                  0    analises_cod_acto   \n",
       "3      A21789                  0    analises_cod_acto   \n",
       "4      A21789                  0    analises_cod_acto   \n",
       "\n",
       "                             source_code_description  target_concept_id  \\\n",
       "0                                         SODIO, S/U            3022810   \n",
       "1                            TEMPO DE PROTROMBINA, S            4245261   \n",
       "2  EQUILIBRIO ACIDO BASICO (PH, PC02,SAT O2,CO2,), S            3013290   \n",
       "3  EQUILIBRIO ACIDO BASICO (PH, PC02,SAT O2,CO2,), S            3027315   \n",
       "4  EQUILIBRIO ACIDO BASICO (PH, PC02,SAT O2,CO2,), S            4013965   \n",
       "\n",
       "  target_vocabulary_id valid_start_date valid_end_date  invalid_reason  \n",
       "0                LOINC       1970-01-01     2099-12-31             NaN  \n",
       "1               SNOMED       1970-01-01     2099-12-31             NaN  \n",
       "2                LOINC       1970-01-01     2099-12-31             NaN  \n",
       "3                LOINC       1970-01-01     2099-12-31             NaN  \n",
       "4               SNOMED       1970-01-01     2099-12-31             NaN  "
      ]
     },
     "execution_count": 8,
     "metadata": {},
     "output_type": "execute_result"
    }
   ],
   "source": [
    "chuc_s2c_df.head()"
   ]
  },
  {
   "cell_type": "markdown",
   "metadata": {},
   "source": [
    "From here I need the source code description and the target concept id. This is what well need in large quantities if we want to train a translator or a classifier. "
   ]
  },
  {
   "cell_type": "code",
   "execution_count": 9,
   "metadata": {},
   "outputs": [
    {
     "data": {
      "text/html": [
       "<div>\n",
       "<style scoped>\n",
       "    .dataframe tbody tr th:only-of-type {\n",
       "        vertical-align: middle;\n",
       "    }\n",
       "\n",
       "    .dataframe tbody tr th {\n",
       "        vertical-align: top;\n",
       "    }\n",
       "\n",
       "    .dataframe thead th {\n",
       "        text-align: right;\n",
       "    }\n",
       "</style>\n",
       "<table border=\"1\" class=\"dataframe\">\n",
       "  <thead>\n",
       "    <tr style=\"text-align: right;\">\n",
       "      <th></th>\n",
       "      <th>source_code_description</th>\n",
       "      <th>target_concept_id</th>\n",
       "    </tr>\n",
       "  </thead>\n",
       "  <tbody>\n",
       "    <tr>\n",
       "      <th>0</th>\n",
       "      <td>SODIO, S/U</td>\n",
       "      <td>3022810</td>\n",
       "    </tr>\n",
       "    <tr>\n",
       "      <th>1</th>\n",
       "      <td>TEMPO DE PROTROMBINA, S</td>\n",
       "      <td>4245261</td>\n",
       "    </tr>\n",
       "    <tr>\n",
       "      <th>2</th>\n",
       "      <td>EQUILIBRIO ACIDO BASICO (PH, PC02,SAT O2,CO2,), S</td>\n",
       "      <td>3013290</td>\n",
       "    </tr>\n",
       "    <tr>\n",
       "      <th>3</th>\n",
       "      <td>EQUILIBRIO ACIDO BASICO (PH, PC02,SAT O2,CO2,), S</td>\n",
       "      <td>3027315</td>\n",
       "    </tr>\n",
       "    <tr>\n",
       "      <th>4</th>\n",
       "      <td>EQUILIBRIO ACIDO BASICO (PH, PC02,SAT O2,CO2,), S</td>\n",
       "      <td>4013965</td>\n",
       "    </tr>\n",
       "  </tbody>\n",
       "</table>\n",
       "</div>"
      ],
      "text/plain": [
       "                             source_code_description  target_concept_id\n",
       "0                                         SODIO, S/U            3022810\n",
       "1                            TEMPO DE PROTROMBINA, S            4245261\n",
       "2  EQUILIBRIO ACIDO BASICO (PH, PC02,SAT O2,CO2,), S            3013290\n",
       "3  EQUILIBRIO ACIDO BASICO (PH, PC02,SAT O2,CO2,), S            3027315\n",
       "4  EQUILIBRIO ACIDO BASICO (PH, PC02,SAT O2,CO2,), S            4013965"
      ]
     },
     "execution_count": 9,
     "metadata": {},
     "output_type": "execute_result"
    }
   ],
   "source": [
    "chuc_df = chuc_s2c_df[[\"source_code_description\", \"target_concept_id\"]]\n",
    "chuc_df.head()"
   ]
  },
  {
   "cell_type": "markdown",
   "metadata": {},
   "source": [
    "### Map target concepts and check missing values"
   ]
  },
  {
   "cell_type": "code",
   "execution_count": 10,
   "metadata": {},
   "outputs": [
    {
     "name": "stderr",
     "output_type": "stream",
     "text": [
      "/var/folders/d4/zjykh2gs0ddchpt100y0llr40000gp/T/ipykernel_10268/3434074019.py:1: SettingWithCopyWarning: \n",
      "A value is trying to be set on a copy of a slice from a DataFrame.\n",
      "Try using .loc[row_indexer,col_indexer] = value instead\n",
      "\n",
      "See the caveats in the documentation: https://pandas.pydata.org/pandas-docs/stable/user_guide/indexing.html#returning-a-view-versus-a-copy\n",
      "  chuc_df.loc[:, 'concept_name'] = chuc_df['target_concept_id'].astype(set_dtype).map(target_dict)\n"
     ]
    }
   ],
   "source": [
    "chuc_df.loc[:, 'concept_name'] = chuc_df['target_concept_id'].astype(set_dtype).map(target_dict)"
   ]
  },
  {
   "cell_type": "code",
   "execution_count": 11,
   "metadata": {},
   "outputs": [
    {
     "data": {
      "text/html": [
       "<div>\n",
       "<style scoped>\n",
       "    .dataframe tbody tr th:only-of-type {\n",
       "        vertical-align: middle;\n",
       "    }\n",
       "\n",
       "    .dataframe tbody tr th {\n",
       "        vertical-align: top;\n",
       "    }\n",
       "\n",
       "    .dataframe thead th {\n",
       "        text-align: right;\n",
       "    }\n",
       "</style>\n",
       "<table border=\"1\" class=\"dataframe\">\n",
       "  <thead>\n",
       "    <tr style=\"text-align: right;\">\n",
       "      <th></th>\n",
       "      <th>source_code_description</th>\n",
       "      <th>target_concept_id</th>\n",
       "      <th>concept_name</th>\n",
       "    </tr>\n",
       "  </thead>\n",
       "  <tbody>\n",
       "  </tbody>\n",
       "</table>\n",
       "</div>"
      ],
      "text/plain": [
       "Empty DataFrame\n",
       "Columns: [source_code_description, target_concept_id, concept_name]\n",
       "Index: []"
      ]
     },
     "execution_count": 11,
     "metadata": {},
     "output_type": "execute_result"
    }
   ],
   "source": [
    "chuc_df[chuc_df.isna().any(axis=1)]"
   ]
  },
  {
   "cell_type": "code",
   "execution_count": 12,
   "metadata": {},
   "outputs": [],
   "source": [
    "chuc_s2c = chuc_df.dropna()"
   ]
  },
  {
   "cell_type": "code",
   "execution_count": 13,
   "metadata": {},
   "outputs": [
    {
     "data": {
      "text/html": [
       "<div>\n",
       "<style scoped>\n",
       "    .dataframe tbody tr th:only-of-type {\n",
       "        vertical-align: middle;\n",
       "    }\n",
       "\n",
       "    .dataframe tbody tr th {\n",
       "        vertical-align: top;\n",
       "    }\n",
       "\n",
       "    .dataframe thead th {\n",
       "        text-align: right;\n",
       "    }\n",
       "</style>\n",
       "<table border=\"1\" class=\"dataframe\">\n",
       "  <thead>\n",
       "    <tr style=\"text-align: right;\">\n",
       "      <th></th>\n",
       "      <th>source_code_description</th>\n",
       "      <th>target_concept_id</th>\n",
       "      <th>concept_name</th>\n",
       "    </tr>\n",
       "  </thead>\n",
       "  <tbody>\n",
       "    <tr>\n",
       "      <th>0</th>\n",
       "      <td>SODIO, S/U</td>\n",
       "      <td>3022810</td>\n",
       "      <td>Sodium [Moles/volume] in Body fluid</td>\n",
       "    </tr>\n",
       "    <tr>\n",
       "      <th>1</th>\n",
       "      <td>TEMPO DE PROTROMBINA, S</td>\n",
       "      <td>4245261</td>\n",
       "      <td>Prothrombin time</td>\n",
       "    </tr>\n",
       "    <tr>\n",
       "      <th>2</th>\n",
       "      <td>EQUILIBRIO ACIDO BASICO (PH, PC02,SAT O2,CO2,), S</td>\n",
       "      <td>3013290</td>\n",
       "      <td>Carbon dioxide [Partial pressure] in Blood</td>\n",
       "    </tr>\n",
       "    <tr>\n",
       "      <th>3</th>\n",
       "      <td>EQUILIBRIO ACIDO BASICO (PH, PC02,SAT O2,CO2,), S</td>\n",
       "      <td>3027315</td>\n",
       "      <td>Oxygen [Partial pressure] in Blood</td>\n",
       "    </tr>\n",
       "    <tr>\n",
       "      <th>4</th>\n",
       "      <td>EQUILIBRIO ACIDO BASICO (PH, PC02,SAT O2,CO2,), S</td>\n",
       "      <td>4013965</td>\n",
       "      <td>Oxygen saturation measurement, arterial</td>\n",
       "    </tr>\n",
       "  </tbody>\n",
       "</table>\n",
       "</div>"
      ],
      "text/plain": [
       "                             source_code_description  target_concept_id  \\\n",
       "0                                         SODIO, S/U            3022810   \n",
       "1                            TEMPO DE PROTROMBINA, S            4245261   \n",
       "2  EQUILIBRIO ACIDO BASICO (PH, PC02,SAT O2,CO2,), S            3013290   \n",
       "3  EQUILIBRIO ACIDO BASICO (PH, PC02,SAT O2,CO2,), S            3027315   \n",
       "4  EQUILIBRIO ACIDO BASICO (PH, PC02,SAT O2,CO2,), S            4013965   \n",
       "\n",
       "                                 concept_name  \n",
       "0         Sodium [Moles/volume] in Body fluid  \n",
       "1                            Prothrombin time  \n",
       "2  Carbon dioxide [Partial pressure] in Blood  \n",
       "3          Oxygen [Partial pressure] in Blood  \n",
       "4     Oxygen saturation measurement, arterial  "
      ]
     },
     "execution_count": 13,
     "metadata": {},
     "output_type": "execute_result"
    }
   ],
   "source": [
    "chuc_s2c.head()"
   ]
  },
  {
   "cell_type": "code",
   "execution_count": 14,
   "metadata": {},
   "outputs": [
    {
     "data": {
      "text/plain": [
       "['SODIO, S/U',\n",
       " 'TEMPO DE PROTROMBINA, S',\n",
       " 'EQUILIBRIO ACIDO BASICO (PH, PC02,SAT O2,CO2,), S',\n",
       " 'EQUILIBRIO ACIDO BASICO (PH, PC02,SAT O2,CO2,), S',\n",
       " 'EQUILIBRIO ACIDO BASICO (PH, PC02,SAT O2,CO2,), S',\n",
       " 'EQUILIBRIO ACIDO BASICO (PH, PC02,SAT O2,CO2,), S',\n",
       " 'PESQUISA DE RNA DO VÕRUS SARS-COV-2 POR PCR EM TEMPO REAL',\n",
       " 'SODIO, S/U',\n",
       " 'POTASSIO, S/U',\n",
       " 'GLUCOSE, DOSEAMENTO, S/U/L']"
      ]
     },
     "execution_count": 14,
     "metadata": {},
     "output_type": "execute_result"
    }
   ],
   "source": [
    "sources = chuc_s2c[\"source_code_description\"].tolist()\n",
    "sources[:10]"
   ]
  },
  {
   "cell_type": "code",
   "execution_count": 15,
   "metadata": {},
   "outputs": [
    {
     "data": {
      "text/plain": [
       "['Sodium [Moles/volume] in Body fluid',\n",
       " 'Prothrombin time',\n",
       " 'Carbon dioxide [Partial pressure] in Blood',\n",
       " 'Oxygen [Partial pressure] in Blood',\n",
       " 'Oxygen saturation measurement, arterial',\n",
       " 'Hydrogen ion concentration',\n",
       " 'PCR test for SARS',\n",
       " 'Sodium measurement, serum',\n",
       " 'Potassium level',\n",
       " 'Glucose measurement, plasma']"
      ]
     },
     "execution_count": 15,
     "metadata": {},
     "output_type": "execute_result"
    }
   ],
   "source": [
    "targets = chuc_s2c[\"concept_name\"].tolist()\n",
    "targets[:10]"
   ]
  },
  {
   "cell_type": "markdown",
   "metadata": {},
   "source": [
    "Some lm are trained as seq2seq and need the `query` and `passage` prefixes."
   ]
  },
  {
   "cell_type": "code",
   "execution_count": 16,
   "metadata": {},
   "outputs": [],
   "source": [
    "sources = [(\"query: \" + i) for i in sources]\n",
    "targets = [(\"query: \" + i) for i in targets]"
   ]
  },
  {
   "cell_type": "code",
   "execution_count": 17,
   "metadata": {},
   "outputs": [],
   "source": [
    "assert len(sources) == len(targets)"
   ]
  },
  {
   "cell_type": "markdown",
   "metadata": {},
   "source": [
    "### Encode texts into fixed sized mean pooled vectors. "
   ]
  },
  {
   "cell_type": "markdown",
   "metadata": {},
   "source": [
    "Encode using torch. "
   ]
  },
  {
   "cell_type": "code",
   "execution_count": 18,
   "metadata": {},
   "outputs": [],
   "source": [
    "import torch.nn.functional as F\n",
    "\n",
    "from torch import Tensor\n",
    "from transformers import AutoTokenizer, AutoModel\n",
    "import numpy as np\n",
    "\n",
    "\n",
    "class TextEncoder:\n",
    "    def __init__(self, model):\n",
    "        self.tokenizer = AutoTokenizer.from_pretrained(model)\n",
    "        self.model = AutoModel.from_pretrained(model)\n",
    "\n",
    "    def encode(self, texts):\n",
    "        # Tokenize the input texts\n",
    "        batch_dict = self.tokenizer(texts,\n",
    "                                    max_length=512,\n",
    "                                    padding=True,\n",
    "                                    truncation=True,\n",
    "                                    return_tensors='pt')\n",
    "        outputs = self.model(**batch_dict)\n",
    "        embeddings = TextEncoder.__average_pool(\n",
    "            outputs.last_hidden_state, batch_dict['attention_mask'])\n",
    "\n",
    "        # Normalize embeddings\n",
    "        embeddings = F.normalize(embeddings, p=2, dim=1)\n",
    "        return np.array(embeddings.detach(), dtype=np.float32)\n",
    "\n",
    "    @staticmethod\n",
    "    def __average_pool(last_hidden_states: Tensor,\n",
    "                       attention_mask: Tensor) -> Tensor:\n",
    "        last_hidden = last_hidden_states.masked_fill(\n",
    "            ~attention_mask[..., None].bool(), 0.0)\n",
    "        return last_hidden.sum(dim=1) / attention_mask.sum(dim=1)[..., None]"
   ]
  },
  {
   "cell_type": "code",
   "execution_count": 19,
   "metadata": {},
   "outputs": [],
   "source": [
    "model_name = 'intfloat/multilingual-e5-small'\n",
    "embeddings = TextEncoder(model_name).encode(sources)"
   ]
  },
  {
   "cell_type": "markdown",
   "metadata": {},
   "source": [
    "By default, sentence_transformers disables the parallelism to avoid any hidden deadlock that would be hard to debug"
   ]
  },
  {
   "cell_type": "code",
   "execution_count": 20,
   "metadata": {},
   "outputs": [],
   "source": [
    "import os\n",
    "os.environ[\"TOKENIZERS_PARALLELISM\"] = \"true\""
   ]
  },
  {
   "cell_type": "code",
   "execution_count": 21,
   "metadata": {},
   "outputs": [],
   "source": [
    "from sentence_transformers import SentenceTransformer\n",
    "\n",
    "model = SentenceTransformer('intfloat/multilingual-e5-small')\n",
    "sources_emb = model.encode(sources, normalize_embeddings=True)\n",
    "targets_emb = model.encode(targets, normalize_embeddings=True)"
   ]
  },
  {
   "cell_type": "markdown",
   "metadata": {},
   "source": [
    "Sentence_transformer's implementation is faster than my manual approach so I'll stick to that. If in any case it has some incopatibility with a newer model I'll use mine. "
   ]
  },
  {
   "cell_type": "code",
   "execution_count": 22,
   "metadata": {},
   "outputs": [
    {
     "data": {
      "text/plain": [
       "(428, 384)"
      ]
     },
     "execution_count": 22,
     "metadata": {},
     "output_type": "execute_result"
    }
   ],
   "source": [
    "embeddings.shape"
   ]
  },
  {
   "cell_type": "code",
   "execution_count": 23,
   "metadata": {},
   "outputs": [
    {
     "data": {
      "text/plain": [
       "array([[ 0.04107222, -0.02139925, -0.0353516 , ...,  0.10612641,\n",
       "         0.06803897,  0.00305798],\n",
       "       [ 0.03053902,  0.00532008, -0.00736805, ...,  0.07866557,\n",
       "         0.07970123,  0.03390224],\n",
       "       [ 0.03296087, -0.02778542, -0.01535674, ...,  0.06343906,\n",
       "         0.08069205,  0.02741423],\n",
       "       ...,\n",
       "       [ 0.04107222, -0.02139925, -0.0353516 , ...,  0.10612641,\n",
       "         0.06803897,  0.00305798],\n",
       "       [ 0.06119867, -0.0139116 , -0.02081711, ...,  0.07180168,\n",
       "         0.05883745,  0.0364945 ],\n",
       "       [ 0.04395493,  0.00539457, -0.05504538, ...,  0.07089277,\n",
       "         0.07933093,  0.05188119]], dtype=float32)"
      ]
     },
     "execution_count": 23,
     "metadata": {},
     "output_type": "execute_result"
    }
   ],
   "source": [
    "embeddings[:10]"
   ]
  },
  {
   "cell_type": "markdown",
   "metadata": {},
   "source": [
    "Everything seems fine with the resulting vector space."
   ]
  },
  {
   "cell_type": "markdown",
   "metadata": {},
   "source": [
    "# PCA\n",
    "Exploring projections in the vector space"
   ]
  },
  {
   "cell_type": "code",
   "execution_count": 24,
   "metadata": {},
   "outputs": [],
   "source": [
    "from sklearn.decomposition import PCA\n",
    "\n",
    "def compute_pca(vectors):\n",
    "    pca = PCA()\n",
    "    pca.fit(vectors)\n",
    "    pcs = pca.transform(vectors)\n",
    "    return pcs"
   ]
  },
  {
   "cell_type": "code",
   "execution_count": 25,
   "metadata": {},
   "outputs": [],
   "source": [
    "import sys\n",
    "sys.path.insert(0, '..') # add parent folder path\n",
    "\n",
    "from utils.plotting import plot_pca, parallel"
   ]
  },
  {
   "cell_type": "code",
   "execution_count": 26,
   "metadata": {},
   "outputs": [
    {
     "name": "stdout",
     "output_type": "stream",
     "text": [
      "(856, 384)\n"
     ]
    }
   ],
   "source": [
    "stacked = np.vstack([sources_emb, targets_emb])\n",
    "print(stacked.shape)"
   ]
  },
  {
   "cell_type": "code",
   "execution_count": 27,
   "metadata": {},
   "outputs": [],
   "source": [
    "stacked_pcs = compute_pca(stacked)"
   ]
  },
  {
   "cell_type": "markdown",
   "metadata": {},
   "source": [
    "Prepare labels, clusters and colors for PCA"
   ]
  },
  {
   "cell_type": "code",
   "execution_count": 28,
   "metadata": {},
   "outputs": [],
   "source": [
    "# labels\n",
    "names = sources + targets\n",
    "sources_ids = [\"source\" for _ in sources]\n",
    "targets_ids = [\"target\" for _ in targets]\n",
    "group_names = sources_ids + targets_ids\n",
    "# colors\n",
    "color_by_group = sources_ids + targets_ids\n",
    "individual_names = targets + targets"
   ]
  },
  {
   "cell_type": "code",
   "execution_count": 29,
   "metadata": {},
   "outputs": [
    {
     "data": {
      "application/vnd.plotly.v1+json": {
       "config": {
        "plotlyServerURL": "https://plot.ly"
       },
       "data": [
        {
         "hovertemplate": "<b>%{hovertext}</b><br><br>color=source<br>PC1=%{x}<br>PC2=%{y}<br>PC3=%{z}<extra></extra>",
         "hovertext": [
          "source",
          "source",
          "source",
          "source",
          "source",
          "source",
          "source",
          "source",
          "source",
          "source",
          "source",
          "source",
          "source",
          "source",
          "source",
          "source",
          "source",
          "source",
          "source",
          "source",
          "source",
          "source",
          "source",
          "source",
          "source",
          "source",
          "source",
          "source",
          "source",
          "source",
          "source",
          "source",
          "source",
          "source",
          "source",
          "source",
          "source",
          "source",
          "source",
          "source",
          "source",
          "source",
          "source",
          "source",
          "source",
          "source",
          "source",
          "source",
          "source",
          "source",
          "source",
          "source",
          "source",
          "source",
          "source",
          "source",
          "source",
          "source",
          "source",
          "source",
          "source",
          "source",
          "source",
          "source",
          "source",
          "source",
          "source",
          "source",
          "source",
          "source",
          "source",
          "source",
          "source",
          "source",
          "source",
          "source",
          "source",
          "source",
          "source",
          "source",
          "source",
          "source",
          "source",
          "source",
          "source",
          "source",
          "source",
          "source",
          "source",
          "source",
          "source",
          "source",
          "source",
          "source",
          "source",
          "source",
          "source",
          "source",
          "source",
          "source",
          "source",
          "source",
          "source",
          "source",
          "source",
          "source",
          "source",
          "source",
          "source",
          "source",
          "source",
          "source",
          "source",
          "source",
          "source",
          "source",
          "source",
          "source",
          "source",
          "source",
          "source",
          "source",
          "source",
          "source",
          "source",
          "source",
          "source",
          "source",
          "source",
          "source",
          "source",
          "source",
          "source",
          "source",
          "source",
          "source",
          "source",
          "source",
          "source",
          "source",
          "source",
          "source",
          "source",
          "source",
          "source",
          "source",
          "source",
          "source",
          "source",
          "source",
          "source",
          "source",
          "source",
          "source",
          "source",
          "source",
          "source",
          "source",
          "source",
          "source",
          "source",
          "source",
          "source",
          "source",
          "source",
          "source",
          "source",
          "source",
          "source",
          "source",
          "source",
          "source",
          "source",
          "source",
          "source",
          "source",
          "source",
          "source",
          "source",
          "source",
          "source",
          "source",
          "source",
          "source",
          "source",
          "source",
          "source",
          "source",
          "source",
          "source",
          "source",
          "source",
          "source",
          "source",
          "source",
          "source",
          "source",
          "source",
          "source",
          "source",
          "source",
          "source",
          "source",
          "source",
          "source",
          "source",
          "source",
          "source",
          "source",
          "source",
          "source",
          "source",
          "source",
          "source",
          "source",
          "source",
          "source",
          "source",
          "source",
          "source",
          "source",
          "source",
          "source",
          "source",
          "source",
          "source",
          "source",
          "source",
          "source",
          "source",
          "source",
          "source",
          "source",
          "source",
          "source",
          "source",
          "source",
          "source",
          "source",
          "source",
          "source",
          "source",
          "source",
          "source",
          "source",
          "source",
          "source",
          "source",
          "source",
          "source",
          "source",
          "source",
          "source",
          "source",
          "source",
          "source",
          "source",
          "source",
          "source",
          "source",
          "source",
          "source",
          "source",
          "source",
          "source",
          "source",
          "source",
          "source",
          "source",
          "source",
          "source",
          "source",
          "source",
          "source",
          "source",
          "source",
          "source",
          "source",
          "source",
          "source",
          "source",
          "source",
          "source",
          "source",
          "source",
          "source",
          "source",
          "source",
          "source",
          "source",
          "source",
          "source",
          "source",
          "source",
          "source",
          "source",
          "source",
          "source",
          "source",
          "source",
          "source",
          "source",
          "source",
          "source",
          "source",
          "source",
          "source",
          "source",
          "source",
          "source",
          "source",
          "source",
          "source",
          "source",
          "source",
          "source",
          "source",
          "source",
          "source",
          "source",
          "source",
          "source",
          "source",
          "source",
          "source",
          "source",
          "source",
          "source",
          "source",
          "source",
          "source",
          "source",
          "source",
          "source",
          "source",
          "source",
          "source",
          "source",
          "source",
          "source",
          "source",
          "source",
          "source",
          "source",
          "source",
          "source",
          "source",
          "source",
          "source",
          "source",
          "source",
          "source",
          "source",
          "source",
          "source",
          "source",
          "source",
          "source",
          "source",
          "source",
          "source",
          "source",
          "source",
          "source",
          "source",
          "source",
          "source",
          "source",
          "source",
          "source",
          "source",
          "source",
          "source",
          "source",
          "source",
          "source",
          "source",
          "source",
          "source",
          "source",
          "source",
          "source",
          "source",
          "source",
          "source",
          "source",
          "source",
          "source",
          "source",
          "source",
          "source",
          "source",
          "source",
          "source",
          "source",
          "source",
          "source",
          "source",
          "source",
          "source",
          "source",
          "source",
          "source",
          "source",
          "source",
          "source",
          "source",
          "source",
          "source",
          "source",
          "source",
          "source",
          "source",
          "source",
          "source",
          "source",
          "source",
          "source",
          "source",
          "source",
          "source",
          "source",
          "source",
          "source",
          "source",
          "source",
          "source",
          "source"
         ],
         "legendgroup": "source",
         "marker": {
          "color": "#636efa",
          "opacity": 0.7,
          "symbol": "circle"
         },
         "mode": "markers",
         "name": "source",
         "scene": "scene",
         "showlegend": true,
         "type": "scatter3d",
         "x": [
          -0.07006324082612991,
          -0.1494797021150589,
          -0.14734461903572083,
          -0.14734461903572083,
          -0.14734461903572083,
          -0.14734461903572083,
          -0.10026133060455322,
          -0.0700632631778717,
          -0.08735224604606628,
          -0.1042540967464447,
          -0.1042540967464447,
          -0.1042540967464447,
          -0.09060436487197876,
          -0.07162599265575409,
          -0.07162599265575409,
          -0.1016843169927597,
          -0.09113868325948715,
          -0.14723511040210724,
          -0.10591191053390503,
          -0.12778781354427338,
          -0.19545748829841614,
          -0.2114306539297104,
          -0.17539432644844055,
          -0.08868049085140228,
          -0.11314797401428223,
          -0.15617415308952332,
          -0.16707263886928558,
          -0.10539921373128891,
          -0.12033715844154358,
          -0.0816555917263031,
          -0.14079628884792328,
          -0.14380091428756714,
          -0.02660660445690155,
          -0.1004190742969513,
          -0.11306113004684448,
          -0.11306113004684448,
          -0.11306113004684448,
          -0.1323910504579544,
          -0.12801633775234222,
          -0.10264100134372711,
          -0.07962943613529205,
          -0.011217916384339333,
          -0.13555091619491577,
          -0.0653705894947052,
          -0.13396885991096497,
          -0.020185785368084908,
          -0.1491011083126068,
          -0.1491011083126068,
          -0.1455956995487213,
          -0.1659613698720932,
          -0.14028984308242798,
          -0.012115208432078362,
          -0.09083174169063568,
          -0.09083174169063568,
          -0.042000338435173035,
          -0.13532772660255432,
          -0.09750451147556305,
          -0.18420182168483734,
          -0.12627816200256348,
          -0.09536463022232056,
          -0.14033588767051697,
          -0.1466328501701355,
          -0.17602819204330444,
          -0.17905065417289734,
          -0.1899213343858719,
          -0.19213105738162994,
          -0.034154076129198074,
          -0.17862343788146973,
          -0.028452960774302483,
          -0.20792779326438904,
          -0.12372099608182907,
          -0.12510766088962555,
          -0.10150620341300964,
          -0.16516783833503723,
          -0.08140692114830017,
          -0.1269521713256836,
          -0.0514037162065506,
          -0.04869937151670456,
          -0.06952908635139465,
          -0.1274614930152893,
          -0.12702998518943787,
          -0.17859657108783722,
          -0.13508358597755432,
          -0.13508358597755432,
          -0.12058036029338837,
          -0.186135932803154,
          -0.18819725513458252,
          -0.2207922488451004,
          -0.07694369554519653,
          -0.15991181135177612,
          -0.15991181135177612,
          -0.16034893691539764,
          -0.09640011191368103,
          -0.19660186767578125,
          -0.19660186767578125,
          -0.19660186767578125,
          -0.11962679773569107,
          -0.07510542869567871,
          -0.08333925902843475,
          -0.19255706667900085,
          -0.12100076675415039,
          -0.09481751918792725,
          -0.027043994516134262,
          -0.027043994516134262,
          -0.027043994516134262,
          -0.027043994516134262,
          -0.16806842386722565,
          -0.18950155377388,
          -0.058947544544935226,
          -0.17952506244182587,
          -0.1683090627193451,
          -0.1562463939189911,
          -0.09974432736635208,
          -0.1195400208234787,
          -0.1202659159898758,
          -0.15697592496871948,
          -0.08170975744724274,
          -0.13731414079666138,
          -0.1679539680480957,
          -0.09691034257411957,
          -0.14458389580249786,
          -0.158234640955925,
          -0.09930474311113358,
          -0.06380096077919006,
          -0.07406803220510483,
          -0.14737568795681,
          -0.1393161118030548,
          -0.20775249600410461,
          -0.10833457112312317,
          -0.112033411860466,
          -0.10914935171604156,
          -0.13144433498382568,
          -0.07593962550163269,
          -0.1601581871509552,
          -0.1601581871509552,
          -0.1601581871509552,
          -0.1601581871509552,
          -0.1601581871509552,
          -0.23257213830947876,
          -0.14875741302967072,
          -0.14875741302967072,
          -0.14875741302967072,
          -0.14875741302967072,
          -0.14875741302967072,
          -0.14875741302967072,
          -0.14875741302967072,
          -0.14875741302967072,
          -0.14875741302967072,
          -0.14875741302967072,
          -0.14875741302967072,
          -0.11684108525514603,
          -0.11059066653251648,
          -0.1189502626657486,
          -0.11817330121994019,
          -0.06677308678627014,
          -0.19876737892627716,
          -0.07022375613451004,
          -0.18757078051567078,
          -0.1922815591096878,
          -0.20807026326656342,
          -0.14348623156547546,
          -0.15825296938419342,
          -0.16851140558719635,
          -0.11634554713964462,
          -0.2149447500705719,
          -0.21519941091537476,
          -0.2061581313610077,
          -0.16776368021965027,
          -0.17231029272079468,
          -0.1580139696598053,
          -0.12098178267478943,
          -0.12098178267478943,
          -0.12098178267478943,
          -0.12098178267478943,
          -0.14981290698051453,
          -0.11076104640960693,
          -0.14812421798706055,
          -0.21067699790000916,
          -0.142012357711792,
          -0.14892832934856415,
          -0.11436331272125244,
          -0.11436331272125244,
          -0.097934789955616,
          -0.10978269577026367,
          -0.10166049748659134,
          -0.10690346360206604,
          -0.12840481102466583,
          -0.1108722984790802,
          -0.08406979590654373,
          -0.09188927710056305,
          -0.11257095634937286,
          -0.11253438889980316,
          -0.19478769600391388,
          -0.05548575520515442,
          -0.03214209899306297,
          -0.060062192380428314,
          -0.07554782927036285,
          -0.0906006470322609,
          -0.09807197749614716,
          -0.061792969703674316,
          -0.16239182651042938,
          -0.16458605229854584,
          -0.07708174735307693,
          -0.1303650140762329,
          -0.14183658361434937,
          -0.08819739520549774,
          -0.10289965569972992,
          -0.12692028284072876,
          -0.06004709377884865,
          -0.12587589025497437,
          -0.08647418022155762,
          -0.124564528465271,
          -0.13769850134849548,
          -0.10515869408845901,
          -0.10515869408845901,
          -0.10515869408845901,
          -0.1192966103553772,
          -0.038804277777671814,
          -0.11542218923568726,
          -0.043915003538131714,
          -0.0993737280368805,
          -0.09101720154285431,
          -0.09787718206644058,
          -0.11318789422512054,
          -0.07784341275691986,
          -0.1762058138847351,
          -0.1171872690320015,
          -0.1945641040802002,
          -0.1945641040802002,
          -0.1945641040802002,
          -0.1945641040802002,
          -0.1945641040802002,
          -0.13989245891571045,
          -0.0742075964808464,
          -0.18228016793727875,
          -0.1718696653842926,
          -0.13832072913646698,
          -0.11895211040973663,
          -0.12325010448694229,
          -0.10258927941322327,
          -0.032443128526210785,
          -0.17059245705604553,
          -0.06801818311214447,
          -0.20918743312358856,
          -0.09781664609909058,
          -0.06452088803052902,
          -0.11681972444057465,
          -0.11496075987815857,
          -0.11496075987815857,
          -0.11496075987815857,
          -0.11496075987815857,
          -0.11496075987815857,
          -0.11496075987815857,
          -0.11496075987815857,
          -0.11496075987815857,
          -0.11496075987815857,
          -0.11496075987815857,
          -0.11496075987815857,
          -0.11496075987815857,
          -0.11496075987815857,
          -0.11496075987815857,
          -0.11496075987815857,
          -0.11496075987815857,
          -0.11496075987815857,
          -0.11496075987815857,
          -0.11496075987815857,
          -0.10608385503292084,
          -0.10608385503292084,
          -0.10608385503292084,
          -0.10608385503292084,
          -0.17437590658664703,
          -0.20153743028640747,
          -0.1041303351521492,
          -0.07677161693572998,
          -0.12939925491809845,
          -0.1267825961112976,
          -0.1267825961112976,
          -0.1267825961112976,
          -0.1340421736240387,
          -0.1340421736240387,
          -0.11018940806388855,
          -0.17287874221801758,
          -0.12835609912872314,
          -0.09516996145248413,
          -0.1643451452255249,
          -0.10621494054794312,
          -0.10526840388774872,
          -0.040024902671575546,
          -0.12046074867248535,
          -0.18668632209300995,
          -0.08391109108924866,
          -0.1301482617855072,
          -0.13651835918426514,
          -0.19053871929645538,
          -0.2090337574481964,
          -0.18146677315235138,
          -0.1718009114265442,
          -0.20410175621509552,
          -0.20375922322273254,
          -0.11727608740329742,
          -0.11727608740329742,
          -0.14935603737831116,
          -0.14935603737831116,
          -0.1536184847354889,
          -0.15515948832035065,
          -0.09431399405002594,
          -0.13593722879886627,
          -0.1824166476726532,
          -0.09011223912239075,
          -0.15959131717681885,
          -0.18452264368534088,
          -0.13686442375183105,
          -0.1750493347644806,
          -0.19026228785514832,
          -0.14694882929325104,
          -0.22019441425800323,
          -0.21393847465515137,
          -0.12223543226718903,
          -0.12223543226718903,
          -0.12223543226718903,
          -0.04502100497484207,
          -0.05811621993780136,
          -0.048756957054138184,
          -0.11482022702693939,
          -0.11890630424022675,
          -0.08930408954620361,
          -0.11914978176355362,
          -0.14557963609695435,
          -0.026146147400140762,
          -0.09850914031267166,
          -0.1557869166135788,
          -0.1557869166135788,
          -0.03292936459183693,
          -0.1305641531944275,
          -0.0809309333562851,
          -0.20862692594528198,
          -0.10458238422870636,
          -0.150357186794281,
          -0.1775393784046173,
          -0.153268963098526,
          -0.058584123849868774,
          -0.05238175392150879,
          -0.19177907705307007,
          -0.05856715142726898,
          -0.10323236882686615,
          -0.10323236882686615,
          -0.09698820114135742,
          -0.1680268496274948,
          -0.14976602792739868,
          -0.13228683173656464,
          -0.17073173820972443,
          -0.13516710698604584,
          -0.13848009705543518,
          -0.08942567557096481,
          -0.0919286236166954,
          -0.20433881878852844,
          -0.10125137865543365,
          -0.06359957158565521,
          -0.11891306191682816,
          -0.1376529335975647,
          -0.11225937306880951,
          -0.08298936486244202,
          -0.12037023156881332,
          -0.007398261688649654,
          -0.08264749497175217,
          -0.096184641122818,
          -0.12331598252058029,
          -0.12331598252058029,
          -0.1384098082780838,
          -0.11625930666923523,
          -0.09364821761846542,
          -0.12870687246322632,
          -0.07053034007549286,
          -0.0981588363647461,
          -0.08493416756391525,
          -0.08314869552850723,
          -0.14503195881843567,
          -0.15522752702236176,
          -0.17895767092704773,
          -0.17895767092704773,
          -0.18311411142349243,
          -0.19237235188484192,
          -0.18287459015846252,
          -0.1555764377117157,
          -0.13981860876083374,
          -0.1450626254081726,
          -0.12815971672534943,
          -0.1659298837184906,
          -0.1673852801322937,
          -0.15901872515678406,
          -0.14607524871826172,
          -0.06683231145143509,
          -0.1276043951511383,
          -0.13071508705615997,
          -0.17088428139686584,
          -0.17088428139686584,
          -0.09683392941951752,
          -0.04827609658241272,
          -0.14482665061950684,
          -0.1256408989429474,
          -0.1256408989429474,
          -0.12316074967384338,
          -0.10645021498203278,
          -0.1471453309059143,
          -0.18354210257530212,
          -0.19736190140247345,
          -0.21201850473880768,
          -0.049825817346572876,
          -0.17308244109153748,
          -0.15197817981243134,
          -0.17669880390167236,
          -0.1316823959350586,
          -0.12994274497032166,
          -0.14882998168468475,
          -0.07708302140235901,
          -0.1442795991897583,
          -0.1005810797214508,
          -0.14691641926765442,
          -0.17059475183486938,
          -0.21682223677635193,
          -0.12482908368110657,
          -0.2146446406841278,
          -0.1821281611919403,
          -0.10735534876585007,
          -0.16639180481433868,
          -0.09713346511125565,
          -0.14654724299907684,
          -0.09502749145030975
         ],
         "y": [
          0.24724829196929932,
          0.16474184393882751,
          0.04198599234223366,
          0.04198599234223366,
          0.04198599234223366,
          0.04198599234223366,
          -0.08017291128635406,
          0.2472483366727829,
          0.2020890712738037,
          0.10855916142463684,
          0.10855916142463684,
          0.10855916142463684,
          0.18971768021583557,
          0.24343478679656982,
          0.24343478679656982,
          0.2061781883239746,
          -0.025809407234191895,
          -0.028200937435030937,
          0.03344797343015671,
          -0.08342795819044113,
          -0.120461106300354,
          -0.1433846354484558,
          -0.0071707130409777164,
          -0.027819763869047165,
          -0.08140309154987335,
          -0.09501530975103378,
          -0.0820198506116867,
          0.05581376701593399,
          0.07105159759521484,
          0.043501388281583786,
          -0.0018885452300310135,
          -0.01869773119688034,
          0.024723825976252556,
          0.10850422084331512,
          0.1717607080936432,
          0.1717607080936432,
          0.1717607080936432,
          0.14945930242538452,
          -0.0251572635024786,
          0.07575967907905579,
          0.21440479159355164,
          0.11108691245317459,
          -0.031174734234809875,
          -0.02408924326300621,
          0.0831453949213028,
          0.09759794920682907,
          0.12404073774814606,
          0.12404073774814606,
          0.12049135565757751,
          0.13500411808490753,
          -0.01140502467751503,
          0.1281910538673401,
          0.0886186733841896,
          0.0886186733841896,
          0.1163443773984909,
          0.09024734050035477,
          0.0445161797106266,
          -0.05839960277080536,
          -0.024520685896277428,
          -0.10309430211782455,
          0.10096493363380432,
          0.025549933314323425,
          0.08534865081310272,
          -0.09525136649608612,
          -0.17375384271144867,
          -0.17520272731781006,
          -0.033909931778907776,
          -0.10041184723377228,
          -0.05312176048755646,
          -0.13578498363494873,
          -0.018206708133220673,
          -0.0643513947725296,
          0.24459901452064514,
          0.17008936405181885,
          0.2250239998102188,
          0.16072621941566467,
          0.056046534329652786,
          0.08852893114089966,
          0.1994263231754303,
          0.13333097100257874,
          0.008244484663009644,
          0.035264644771814346,
          -0.0017468659207224846,
          -0.0017468659207224846,
          -0.03212364390492439,
          0.004935896955430508,
          -0.05777739733457565,
          -0.13245728611946106,
          0.04532723128795624,
          -0.07725588232278824,
          -0.07725588232278824,
          0.022851362824440002,
          0.14241738617420197,
          -0.014529318548738956,
          -0.014529318548738956,
          -0.014529318548738956,
          0.22652076184749603,
          0.16547569632530212,
          0.190318763256073,
          -0.0684124082326889,
          0.01921612024307251,
          0.049352679401636124,
          -0.01778659224510193,
          -0.01778659224510193,
          -0.01778659224510193,
          -0.01778659224510193,
          -0.06464014202356339,
          -0.12072998285293579,
          -0.09508934617042542,
          -0.07650832831859589,
          -0.005246328189969063,
          0.16607093811035156,
          0.0204459298402071,
          0.14163124561309814,
          0.13902582228183746,
          -0.07114395499229431,
          0.09921739995479584,
          -0.09003253281116486,
          -0.11450982093811035,
          0.00835886038839817,
          -0.017551623284816742,
          0.04224889352917671,
          0.23525816202163696,
          0.17620980739593506,
          0.015724295750260353,
          0.11582469940185547,
          0.017085829749703407,
          -0.0660737007856369,
          0.05197233334183693,
          -0.0532439723610878,
          0.011427463963627815,
          0.17624884843826294,
          -0.043804094195365906,
          -0.09479689598083496,
          -0.09479689598083496,
          -0.09479689598083496,
          -0.09479689598083496,
          -0.09479689598083496,
          -0.09534643590450287,
          0.11213397979736328,
          0.11213397979736328,
          0.11213397979736328,
          0.11213397979736328,
          0.11213397979736328,
          0.11213397979736328,
          0.11213397979736328,
          0.11213397979736328,
          0.11213397979736328,
          0.11213397979736328,
          0.11213397979736328,
          0.17147254943847656,
          0.04377370327711105,
          0.12728627026081085,
          -0.07085919380187988,
          0.09234189987182617,
          -0.14780855178833008,
          -0.05845525115728378,
          -0.11301134526729584,
          -0.12843723595142365,
          -0.13899998366832733,
          -0.08022509515285492,
          -0.10416776686906815,
          0.010572696104645729,
          0.1902649700641632,
          -0.11921940743923187,
          -0.16348758339881897,
          -0.1423637866973877,
          0.07830773293972015,
          -0.11678997427225113,
          -0.05685929208993912,
          -0.07490208745002747,
          -0.07490208745002747,
          -0.07490208745002747,
          -0.07490208745002747,
          0.13084454834461212,
          -0.025362983345985413,
          0.1378372609615326,
          -0.08301088213920593,
          0.00034853070974349976,
          -0.0688178688287735,
          0.007952257059514523,
          0.007952257059514523,
          -0.012947122566401958,
          0.0017859544605016708,
          -0.10093092918395996,
          -0.03184119611978531,
          0.1284705251455307,
          0.11077525466680527,
          0.030894871801137924,
          0.0735846608877182,
          0.16283702850341797,
          -0.07172808051109314,
          -0.03998759016394615,
          0.10128705203533173,
          0.07693931460380554,
          0.09462817013263702,
          0.1728951334953308,
          0.06746693700551987,
          0.09300726652145386,
          -0.009789099916815758,
          -0.06413166224956512,
          0.02947397530078888,
          0.14047235250473022,
          -0.009637806564569473,
          -0.01442807912826538,
          0.11270315945148468,
          0.046483393758535385,
          0.0021311743184924126,
          0.08242297917604446,
          0.07759840786457062,
          -0.022190187126398087,
          -0.027229003608226776,
          -0.0008047882001847029,
          -0.047373026609420776,
          -0.047373026609420776,
          -0.047373026609420776,
          -0.030709750950336456,
          0.13449780642986298,
          0.036592427641153336,
          0.0396830216050148,
          0.1406380832195282,
          -0.017479049041867256,
          0.06326586753129959,
          0.033424463123083115,
          0.1705627739429474,
          -0.061255019158124924,
          -0.12965740263462067,
          -0.11939981579780579,
          -0.11939981579780579,
          -0.11939981579780579,
          -0.11939981579780579,
          -0.11939981579780579,
          0.04574107751250267,
          -0.013786823488771915,
          -0.0745159238576889,
          -0.11431998759508133,
          0.01278146542608738,
          0.16304412484169006,
          -0.0035340222530066967,
          -0.0028643303085118532,
          0.12918062508106232,
          -0.004946509376168251,
          -0.04009673744440079,
          -0.02449791692197323,
          0.00647464394569397,
          0.05890590697526932,
          0.19115447998046875,
          -0.09184623509645462,
          -0.09184623509645462,
          -0.09184623509645462,
          -0.09184623509645462,
          -0.09184623509645462,
          -0.09184623509645462,
          -0.09184623509645462,
          -0.09184623509645462,
          -0.09184623509645462,
          -0.09184623509645462,
          -0.09184623509645462,
          -0.09184623509645462,
          -0.09184623509645462,
          -0.09184623509645462,
          -0.09184623509645462,
          -0.09184623509645462,
          -0.09184623509645462,
          -0.09184623509645462,
          -0.09184623509645462,
          -0.07452181726694107,
          -0.07452181726694107,
          -0.07452181726694107,
          -0.07452181726694107,
          -0.08794595301151276,
          -0.12834377586841583,
          0.023915087804198265,
          0.11130279302597046,
          -0.01627326011657715,
          0.032827187329530716,
          0.032827187329530716,
          0.032827187329530716,
          -0.020074307918548584,
          -0.020074307918548584,
          -0.016603166237473488,
          -0.13423515856266022,
          0.13431692123413086,
          0.019590817391872406,
          0.10415966063737869,
          0.012662208639085293,
          0.10081204771995544,
          0.08469049632549286,
          -0.03184836357831955,
          0.013830001465976238,
          0.06148892641067505,
          -0.08865804970264435,
          0.11817535758018494,
          0.0012644985690712929,
          -0.11690516024827957,
          -0.13123756647109985,
          -0.13703159987926483,
          -0.12098820507526398,
          -0.10638350993394852,
          0.029449502006173134,
          0.029449502006173134,
          0.01978890597820282,
          0.01978890597820282,
          -0.10312508791685104,
          -0.09628468751907349,
          -0.019915463402867317,
          0.06605672836303711,
          0.03745035082101822,
          0.0001909267157316208,
          0.10780595242977142,
          -0.1270512044429779,
          -0.08893685042858124,
          0.04549853876233101,
          -0.000060623977333307266,
          -0.057281751185655594,
          -0.09498888999223709,
          -0.06837605684995651,
          0.008417017757892609,
          0.008417017757892609,
          0.008417017757892609,
          0.05952688306570053,
          0.22931718826293945,
          0.031240567564964294,
          -0.07350417971611023,
          -0.05144089087843895,
          -0.06560851633548737,
          0.03467334806919098,
          -0.009378201328217983,
          0.10990609228610992,
          0.19414182007312775,
          0.0322640985250473,
          0.0322640985250473,
          0.20198383927345276,
          -0.01996014267206192,
          0.005056342575699091,
          -0.1442791074514389,
          0.1970524787902832,
          -0.07092097401618958,
          -0.07158458977937698,
          0.11162612587213516,
          0.22322705388069153,
          0.16016080975532532,
          0.019637562334537506,
          0.2048734724521637,
          0.01596163585782051,
          0.01596163585782051,
          0.16971898078918457,
          -0.012114524841308594,
          -0.09735310077667236,
          -0.01752609573304653,
          0.017567958682775497,
          0.029942119494080544,
          -0.017072150483727455,
          -0.03537946939468384,
          -0.027371235191822052,
          -0.11522074788808823,
          -0.03783009946346283,
          -0.011271340772509575,
          -0.047935646027326584,
          0.0017823451198637486,
          -0.03257922828197479,
          -0.03035411238670349,
          -0.018468867987394333,
          0.17186321318149567,
          0.02412504330277443,
          0.010800406336784363,
          -0.02066720649600029,
          -0.02066720649600029,
          0.1911379098892212,
          -0.04856495559215546,
          -0.07028140872716904,
          0.0688403993844986,
          0.07101348042488098,
          0.1200731098651886,
          0.11688929796218872,
          -0.00927749089896679,
          0.1614183485507965,
          0.00835409201681614,
          -0.12615984678268433,
          -0.12615984678268433,
          -0.13486415147781372,
          -0.12961207330226898,
          -0.15130849182605743,
          0.1879546046257019,
          -0.0957615002989769,
          0.0180622898042202,
          -0.0012154094874858856,
          -0.17370526492595673,
          -0.172695130109787,
          -0.10309254378080368,
          0.03015129454433918,
          -0.025852829217910767,
          -0.023333631455898285,
          0.024296870455145836,
          0.04777982085943222,
          0.04777982085943222,
          -0.0381040945649147,
          0.04172597825527191,
          -0.006886839866638184,
          0.0017379745841026306,
          0.0017379745841026306,
          -0.03856717795133591,
          -0.13922661542892456,
          -0.04526834934949875,
          -0.09989683330059052,
          0.007133264094591141,
          -0.07457564771175385,
          0.11855435371398926,
          0.039611633867025375,
          -0.04124885052442551,
          -0.1606084257364273,
          0.003965424839407206,
          -0.024603553116321564,
          -0.06968347728252411,
          0.04250776767730713,
          -0.0509113110601902,
          0.0014939578250050545,
          0.015086749568581581,
          0.026857905089855194,
          -0.1279735267162323,
          -0.012125309556722641,
          -0.13891218602657318,
          0.0227623600512743,
          -0.052633918821811676,
          0.05104556307196617,
          0.03823264688253403,
          0.008332595229148865,
          -0.04978221654891968
         ],
         "z": [
          -0.0632990375161171,
          -0.028943879529833794,
          0.038519639521837234,
          0.038519639521837234,
          0.038519639521837234,
          0.038519639521837234,
          0.07676896452903748,
          -0.0632990151643753,
          -0.0638059675693512,
          0.009946435689926147,
          0.009946435689926147,
          0.009946435689926147,
          -0.05917306989431381,
          -0.06244424358010292,
          -0.06244424358010292,
          -0.031463004648685455,
          0.10363082587718964,
          -0.013404606841504574,
          0.11709468811750412,
          -0.042652398347854614,
          -0.13198736310005188,
          -0.11489969491958618,
          -0.004634164273738861,
          0.1171712726354599,
          0.03410249948501587,
          -0.08243601769208908,
          -0.058490604162216187,
          -0.06221423298120499,
          -0.0031524384394288063,
          -0.0012328005395829678,
          -0.012550296261906624,
          -0.032811738550662994,
          -0.04013094678521156,
          -0.059953898191452026,
          -0.04774351790547371,
          -0.04774351790547371,
          -0.04774351790547371,
          -0.024808112531900406,
          -0.07387372851371765,
          -0.051969096064567566,
          -0.07250480353832245,
          -0.034331198781728745,
          -0.05980093032121658,
          -0.013258151710033417,
          -0.01764119789004326,
          -0.0723457932472229,
          -0.05798061564564705,
          -0.05798061564564705,
          0.004108361899852753,
          -0.022233864292502403,
          -0.19971176981925964,
          -0.05936557799577713,
          -0.05404563620686531,
          -0.05404563620686531,
          -0.05421726405620575,
          0.002404345665127039,
          0.024147043004631996,
          -0.11191380769014359,
          -0.01643999293446541,
          -0.131596177816391,
          -0.021022874861955643,
          -0.014339480549097061,
          -0.006859699264168739,
          -0.09170550853013992,
          -0.11986039578914642,
          -0.12134382128715515,
          -0.10414200276136398,
          -0.09048771858215332,
          -0.11152298748493195,
          -0.1209319606423378,
          -0.009880171157419682,
          -0.04301254823803902,
          -0.04533464461565018,
          0.022674821317195892,
          -0.06285318732261658,
          -0.022422613576054573,
          -0.0284668430685997,
          0.02372862584888935,
          -0.057627879083156586,
          -0.0643671378493309,
          0.06252925097942352,
          0.07690640538930893,
          -0.008896147832274437,
          -0.008896147832274437,
          -0.021661734208464622,
          -0.08599333465099335,
          -0.06915353238582611,
          -0.0869174674153328,
          0.0693584680557251,
          -0.0680556669831276,
          -0.0680556669831276,
          0.0637219250202179,
          -0.06902146339416504,
          0.0022254791110754013,
          0.0022254791110754013,
          0.0022254791110754013,
          -0.037020400166511536,
          -0.06954051554203033,
          -0.021509798243641853,
          -0.07360699027776718,
          0.054320670664310455,
          -0.06481286883354187,
          -0.060285888612270355,
          -0.060285888612270355,
          -0.060285888612270355,
          -0.060285888612270355,
          -0.15649184584617615,
          -0.0943562388420105,
          0.09661023318767548,
          -0.056613363325595856,
          -0.027331186458468437,
          -0.05677490681409836,
          -0.0099650202319026,
          0.0006044507026672363,
          0.008670218288898468,
          -0.13181784749031067,
          -0.05246727168560028,
          0.0016369391232728958,
          0.0004347022622823715,
          0.08281800895929337,
          0.08725853264331818,
          0.04553678259253502,
          -0.03937169909477234,
          -0.0846918374300003,
          -0.05874199792742729,
          -0.007592323236167431,
          0.09352470934391022,
          -0.06342507153749466,
          0.021205373108386993,
          0.06337819248437881,
          -0.04808419197797775,
          0.016811484470963478,
          0.14580067992210388,
          -0.06424625962972641,
          -0.06424625962972641,
          -0.06424625962972641,
          -0.06424625962972641,
          -0.06424625962972641,
          -0.04793408513069153,
          0.05243172496557236,
          0.05243172496557236,
          0.05243172496557236,
          0.05243172496557236,
          0.05243172496557236,
          0.05243172496557236,
          0.05243172496557236,
          0.05243172496557236,
          0.05243172496557236,
          0.05243172496557236,
          0.05243172496557236,
          -0.033380378037691116,
          0.030270924791693687,
          -0.03985252231359482,
          0.08333720266819,
          0.02463994175195694,
          -0.09034053981304169,
          -0.08854173868894577,
          -0.09264300763607025,
          -0.07016001641750336,
          -0.10569191724061966,
          -0.14381000399589539,
          -0.09338824450969696,
          -0.1852928102016449,
          -0.07189276814460754,
          -0.0745246484875679,
          -0.11597999930381775,
          -0.10506926476955414,
          0.05542510002851486,
          -0.05868641659617424,
          -0.03696826845407486,
          0.06888379156589508,
          0.06888379156589508,
          0.06888379156589508,
          0.06888379156589508,
          -0.029297588393092155,
          0.15692412853240967,
          0.023874375969171524,
          -0.06676805764436722,
          0.13902443647384644,
          0.0739668607711792,
          0.12424537539482117,
          0.12424537539482117,
          0.09863902628421783,
          0.09182137250900269,
          0.09254086762666702,
          0.04062219709157944,
          -0.012298185378313065,
          -0.0621425099670887,
          -0.024429606273770332,
          -0.039064545184373856,
          -0.055161114782094955,
          0.09639962017536163,
          -0.05554307997226715,
          -0.03661779314279556,
          -0.06779152154922485,
          -0.03676101192831993,
          -0.035474780946969986,
          -0.058573268353939056,
          -0.03269713371992111,
          -0.05216539278626442,
          -0.12075463682413101,
          -0.04123236611485481,
          -0.07404868304729462,
          -0.0689404308795929,
          -0.04663722217082977,
          -0.029186274856328964,
          0.0722155049443245,
          -0.08400658518075943,
          0.005508885718882084,
          -0.003556119743734598,
          0.0154417734593153,
          0.008622875437140465,
          0.0014260802417993546,
          0.0650605857372284,
          0.0650605857372284,
          0.0650605857372284,
          0.048998430371284485,
          -0.018942151218652725,
          0.09536150097846985,
          -0.03835350275039673,
          -0.08552667498588562,
          0.04964805766940117,
          0.06657744944095612,
          0.05789577588438988,
          -0.045160725712776184,
          -0.022560715675354004,
          -0.005460069514811039,
          -0.05456427484750748,
          -0.05456427484750748,
          -0.05456427484750748,
          -0.05456427484750748,
          -0.05456427484750748,
          0.0820268839597702,
          0.08904334157705307,
          -0.1291505992412567,
          -0.07830033451318741,
          0.03634820505976677,
          -0.06647547334432602,
          -0.04087575897574425,
          -0.11143743991851807,
          -0.024878889322280884,
          0.03700301796197891,
          0.067657969892025,
          -0.07126667350530624,
          -0.024786725640296936,
          -0.048843398690223694,
          -0.05109591782093048,
          0.24532374739646912,
          0.24532374739646912,
          0.24532374739646912,
          0.24532374739646912,
          0.24532374739646912,
          0.24532374739646912,
          0.24532374739646912,
          0.24532374739646912,
          0.24532374739646912,
          0.24532374739646912,
          0.24532374739646912,
          0.24532374739646912,
          0.24532374739646912,
          0.24532374739646912,
          0.24532374739646912,
          0.24532374739646912,
          0.24532374739646912,
          0.24532374739646912,
          0.24532374739646912,
          0.20411944389343262,
          0.20411944389343262,
          0.20411944389343262,
          0.20411944389343262,
          -0.06241212040185928,
          -0.11606346070766449,
          0.08552040159702301,
          -0.08475756645202637,
          0.004634151700884104,
          0.08043520152568817,
          0.08043520152568817,
          0.08043520152568817,
          0.08664043247699738,
          0.08664043247699738,
          0.049549415707588196,
          -0.0896342396736145,
          -0.034397855401039124,
          0.0868137776851654,
          -0.04468192905187607,
          0.08475185185670853,
          -0.06795863807201385,
          -0.007783379405736923,
          0.09347832202911377,
          -0.13620436191558838,
          -0.05895569920539856,
          -0.012334381230175495,
          -0.026810577139258385,
          -0.14203505218029022,
          -0.13213154673576355,
          -0.09942798316478729,
          -0.10007953643798828,
          -0.12981122732162476,
          -0.06100344657897949,
          0.07941743731498718,
          0.07941743731498718,
          0.060613781213760376,
          0.060613781213760376,
          -0.09599114954471588,
          -0.08658890426158905,
          0.1340879201889038,
          -0.03289151191711426,
          -0.06631038337945938,
          0.0846375823020935,
          -0.010001776739954948,
          -0.10106176137924194,
          0.04495120793581009,
          0.0684853047132492,
          -0.13784217834472656,
          -0.1269957572221756,
          -0.08070540428161621,
          -0.08458234369754791,
          0.11779020726680756,
          0.11779020726680756,
          0.11779020726680756,
          -0.022724740207195282,
          -0.0612746998667717,
          0.019141998142004013,
          0.06547337770462036,
          0.07446198910474777,
          0.07200003415346146,
          0.013085681945085526,
          0.06894347071647644,
          -0.06784384697675705,
          -0.05971365422010422,
          -0.0018161062616854906,
          -0.0018161062616854906,
          -0.05735861882567406,
          0.10730744898319244,
          0.025149118155241013,
          -0.11438098549842834,
          -0.04145497828722,
          -0.01966714859008789,
          -0.05852479487657547,
          0.0017942115664482117,
          -0.05950532108545303,
          -0.06106619909405708,
          -0.13026905059814453,
          -0.0658772885799408,
          0.11463475972414017,
          0.11463475972414017,
          -0.06032424792647362,
          -0.1668374240398407,
          -0.07017366588115692,
          0.025541508570313454,
          0.04978960007429123,
          0.05857660621404648,
          0.010092521086335182,
          0.02155265025794506,
          0.0042296238243579865,
          -0.043464235961437225,
          0.1432562917470932,
          0.007196861319243908,
          0.10403171181678772,
          0.10017213970422745,
          0.11105883121490479,
          0.09653432667255402,
          0.04133016988635063,
          0.006040518172085285,
          -0.03694635629653931,
          0.07799188047647476,
          0.07645726203918457,
          0.07645726203918457,
          -0.02002297341823578,
          0.07290853559970856,
          -0.06213948503136635,
          -0.05306387320160866,
          0.02010922133922577,
          0.0027681845240294933,
          -0.06734094023704529,
          0.026453258469700813,
          -0.08062714338302612,
          0.048149704933166504,
          -0.05396154150366783,
          -0.05396154150366783,
          -0.043080322444438934,
          -0.06674909591674805,
          -0.041927270591259,
          -0.02387254312634468,
          0.036172736436128616,
          0.08687026798725128,
          0.10837708413600922,
          -0.11897048354148865,
          -0.11752866208553314,
          -0.06446227431297302,
          -0.06650792062282562,
          0.0855509489774704,
          0.05732934921979904,
          0.08950290083885193,
          -0.08598663657903671,
          -0.08598663657903671,
          -0.03906412795186043,
          0.02816266566514969,
          0.1263192594051361,
          0.06103146821260452,
          0.06103146821260452,
          0.105193592607975,
          -0.009667172096669674,
          0.046959370374679565,
          -0.1176188662648201,
          -0.062459442764520645,
          -0.04384550079703331,
          0.018199723213911057,
          -0.027907978743314743,
          -0.035388633608818054,
          -0.13535429537296295,
          0.09325635433197021,
          0.1009436547756195,
          -0.13981756567955017,
          0.0900057852268219,
          -0.17736691236495972,
          0.020155446603894234,
          0.07901662588119507,
          0.0433121956884861,
          -0.10531996935606003,
          0.028792604804039,
          -0.06393952667713165,
          0.11704146862030029,
          0.09274023026227951,
          0.07358743250370026,
          0.05067041143774986,
          0.04629793390631676,
          -0.07858358323574066
         ]
        },
        {
         "hovertemplate": "<b>%{hovertext}</b><br><br>color=target<br>PC1=%{x}<br>PC2=%{y}<br>PC3=%{z}<extra></extra>",
         "hovertext": [
          "target",
          "target",
          "target",
          "target",
          "target",
          "target",
          "target",
          "target",
          "target",
          "target",
          "target",
          "target",
          "target",
          "target",
          "target",
          "target",
          "target",
          "target",
          "target",
          "target",
          "target",
          "target",
          "target",
          "target",
          "target",
          "target",
          "target",
          "target",
          "target",
          "target",
          "target",
          "target",
          "target",
          "target",
          "target",
          "target",
          "target",
          "target",
          "target",
          "target",
          "target",
          "target",
          "target",
          "target",
          "target",
          "target",
          "target",
          "target",
          "target",
          "target",
          "target",
          "target",
          "target",
          "target",
          "target",
          "target",
          "target",
          "target",
          "target",
          "target",
          "target",
          "target",
          "target",
          "target",
          "target",
          "target",
          "target",
          "target",
          "target",
          "target",
          "target",
          "target",
          "target",
          "target",
          "target",
          "target",
          "target",
          "target",
          "target",
          "target",
          "target",
          "target",
          "target",
          "target",
          "target",
          "target",
          "target",
          "target",
          "target",
          "target",
          "target",
          "target",
          "target",
          "target",
          "target",
          "target",
          "target",
          "target",
          "target",
          "target",
          "target",
          "target",
          "target",
          "target",
          "target",
          "target",
          "target",
          "target",
          "target",
          "target",
          "target",
          "target",
          "target",
          "target",
          "target",
          "target",
          "target",
          "target",
          "target",
          "target",
          "target",
          "target",
          "target",
          "target",
          "target",
          "target",
          "target",
          "target",
          "target",
          "target",
          "target",
          "target",
          "target",
          "target",
          "target",
          "target",
          "target",
          "target",
          "target",
          "target",
          "target",
          "target",
          "target",
          "target",
          "target",
          "target",
          "target",
          "target",
          "target",
          "target",
          "target",
          "target",
          "target",
          "target",
          "target",
          "target",
          "target",
          "target",
          "target",
          "target",
          "target",
          "target",
          "target",
          "target",
          "target",
          "target",
          "target",
          "target",
          "target",
          "target",
          "target",
          "target",
          "target",
          "target",
          "target",
          "target",
          "target",
          "target",
          "target",
          "target",
          "target",
          "target",
          "target",
          "target",
          "target",
          "target",
          "target",
          "target",
          "target",
          "target",
          "target",
          "target",
          "target",
          "target",
          "target",
          "target",
          "target",
          "target",
          "target",
          "target",
          "target",
          "target",
          "target",
          "target",
          "target",
          "target",
          "target",
          "target",
          "target",
          "target",
          "target",
          "target",
          "target",
          "target",
          "target",
          "target",
          "target",
          "target",
          "target",
          "target",
          "target",
          "target",
          "target",
          "target",
          "target",
          "target",
          "target",
          "target",
          "target",
          "target",
          "target",
          "target",
          "target",
          "target",
          "target",
          "target",
          "target",
          "target",
          "target",
          "target",
          "target",
          "target",
          "target",
          "target",
          "target",
          "target",
          "target",
          "target",
          "target",
          "target",
          "target",
          "target",
          "target",
          "target",
          "target",
          "target",
          "target",
          "target",
          "target",
          "target",
          "target",
          "target",
          "target",
          "target",
          "target",
          "target",
          "target",
          "target",
          "target",
          "target",
          "target",
          "target",
          "target",
          "target",
          "target",
          "target",
          "target",
          "target",
          "target",
          "target",
          "target",
          "target",
          "target",
          "target",
          "target",
          "target",
          "target",
          "target",
          "target",
          "target",
          "target",
          "target",
          "target",
          "target",
          "target",
          "target",
          "target",
          "target",
          "target",
          "target",
          "target",
          "target",
          "target",
          "target",
          "target",
          "target",
          "target",
          "target",
          "target",
          "target",
          "target",
          "target",
          "target",
          "target",
          "target",
          "target",
          "target",
          "target",
          "target",
          "target",
          "target",
          "target",
          "target",
          "target",
          "target",
          "target",
          "target",
          "target",
          "target",
          "target",
          "target",
          "target",
          "target",
          "target",
          "target",
          "target",
          "target",
          "target",
          "target",
          "target",
          "target",
          "target",
          "target",
          "target",
          "target",
          "target",
          "target",
          "target",
          "target",
          "target",
          "target",
          "target",
          "target",
          "target",
          "target",
          "target",
          "target",
          "target",
          "target",
          "target",
          "target",
          "target",
          "target",
          "target",
          "target",
          "target",
          "target",
          "target",
          "target",
          "target",
          "target",
          "target",
          "target",
          "target",
          "target",
          "target",
          "target",
          "target",
          "target",
          "target",
          "target",
          "target",
          "target",
          "target",
          "target",
          "target",
          "target",
          "target",
          "target",
          "target",
          "target",
          "target",
          "target",
          "target",
          "target",
          "target",
          "target",
          "target",
          "target",
          "target",
          "target",
          "target",
          "target",
          "target",
          "target",
          "target",
          "target",
          "target",
          "target",
          "target",
          "target",
          "target",
          "target",
          "target",
          "target",
          "target",
          "target",
          "target",
          "target",
          "target",
          "target",
          "target",
          "target",
          "target",
          "target",
          "target",
          "target",
          "target"
         ],
         "legendgroup": "target",
         "marker": {
          "color": "#EF553B",
          "opacity": 0.7,
          "symbol": "circle"
         },
         "mode": "markers",
         "name": "target",
         "scene": "scene",
         "showlegend": true,
         "type": "scatter3d",
         "x": [
          0.10734258592128754,
          0.1096605509519577,
          0.11588287353515625,
          0.13792824745178223,
          0.1535019427537918,
          0.15361016988754272,
          0.13774994015693665,
          0.1429699957370758,
          0.15602779388427734,
          0.14873746037483215,
          0.10436134785413742,
          0.07727102935314178,
          0.22040587663650513,
          0.2121783345937729,
          0.20545780658721924,
          0.21718049049377441,
          0.1347333788871765,
          0.004891661461442709,
          0.1707102209329605,
          0.1335388422012329,
          0.19889208674430847,
          0.131343811750412,
          0.12648381292819977,
          0.10157077014446259,
          0.13711601495742798,
          0.09864836931228638,
          0.1335388422012329,
          0.10202944278717041,
          0.20382586121559143,
          0.0456729456782341,
          0.15249940752983093,
          0.11050409823656082,
          0.11389250308275223,
          0.15372946858406067,
          0.2041509747505188,
          0.21539396047592163,
          0.14120517671108246,
          0.20473286509513855,
          0.09158938378095627,
          0.1284630000591278,
          0.17010632157325745,
          0.173871248960495,
          0.13538995385169983,
          0.21446701884269714,
          0.160923570394516,
          0.15912458300590515,
          0.12705402076244354,
          0.19464442133903503,
          0.148162379860878,
          0.12928101420402527,
          0.1601310670375824,
          0.18119940161705017,
          0.15213200449943542,
          0.15127646923065186,
          0.17506897449493408,
          0.1562933325767517,
          0.23254238069057465,
          0.1667075753211975,
          0.20200115442276,
          0.13389024138450623,
          0.19103281199932098,
          0.15255308151245117,
          0.12934964895248413,
          0.1471935510635376,
          0.08321985602378845,
          0.043345190584659576,
          0.10616953670978546,
          0.13840466737747192,
          0.1338847279548645,
          0.131343811750412,
          0.06378336250782013,
          0.1125614196062088,
          0.1606975793838501,
          0.16150400042533875,
          0.19955796003341675,
          0.13359108567237854,
          0.15944373607635498,
          0.048051320016384125,
          0.16125008463859558,
          0.2126859724521637,
          0.048051320016384125,
          0.2124292105436325,
          0.1669112890958786,
          0.17281508445739746,
          0.22640255093574524,
          0.07476448267698288,
          0.016854887828230858,
          0.1411736011505127,
          0.07411608844995499,
          0.055597513914108276,
          0.18174634873867035,
          0.13620397448539734,
          0.2165210247039795,
          0.15037944912910461,
          0.2176048457622528,
          0.14259770512580872,
          0.061066433787345886,
          0.22622019052505493,
          0.13927632570266724,
          0.09667783975601196,
          0.08404622972011566,
          0.2117052674293518,
          0.14493876695632935,
          0.14884807169437408,
          0.14818844199180603,
          0.14616529643535614,
          0.18174634873867035,
          0.040860649198293686,
          0.03743372857570648,
          0.19642513990402222,
          0.18502527475357056,
          0.13407033681869507,
          0.10575428605079651,
          0.10356848686933517,
          0.10235057771205902,
          0.11036443710327148,
          0.21670138835906982,
          0.15153484046459198,
          0.15153484046459198,
          0.12539100646972656,
          0.054813139140605927,
          0.12604957818984985,
          0.18492022156715393,
          0.16636106371879578,
          0.113608218729496,
          0.20594671368598938,
          0.1145155131816864,
          0.18649208545684814,
          0.08464675396680832,
          0.10674068331718445,
          0.14619207382202148,
          0.18480677902698517,
          0.07380929589271545,
          0.1419171690940857,
          0.053525105118751526,
          0.09063678234815598,
          0.0912935808300972,
          0.19978366792201996,
          0.13374584913253784,
          0.10605919361114502,
          0.09838418662548065,
          0.0997634157538414,
          0.09932827949523926,
          0.10229650139808655,
          0.10356848686933517,
          0.09965212643146515,
          0.10692733526229858,
          0.09898577630519867,
          0.09476165473461151,
          0.11173168569803238,
          0.1377309411764145,
          0.18589302897453308,
          0.18632973730564117,
          0.0775296688079834,
          0.0390060618519783,
          0.07124791294336319,
          0.19160395860671997,
          0.13024082779884338,
          0.10589008033275604,
          0.07990770041942596,
          0.20170867443084717,
          0.08628586679697037,
          0.20170867443084717,
          0.19712162017822266,
          0.12619130313396454,
          0.08736822009086609,
          0.07990770041942596,
          0.15946996212005615,
          0.20384594798088074,
          0.1447751373052597,
          0.06623672693967819,
          0.07431110739707947,
          0.06409665942192078,
          0.0723421573638916,
          0.10598206520080566,
          0.15271517634391785,
          -0.027625672519207,
          0.18985873460769653,
          0.07818106561899185,
          0.10741040110588074,
          0.11838267743587494,
          0.12206858396530151,
          0.11210750043392181,
          0.09698367863893509,
          0.1269104778766632,
          0.0791587308049202,
          0.0378878228366375,
          0.09692096710205078,
          0.19157618284225464,
          0.19118456542491913,
          0.11173680424690247,
          0.1067650318145752,
          0.14066094160079956,
          0.1448706090450287,
          0.13051925599575043,
          0.19157588481903076,
          0.15933912992477417,
          0.10669545829296112,
          0.1731950342655182,
          0.173312246799469,
          0.21388466656208038,
          0.15266989171504974,
          0.08648669719696045,
          0.14923782646656036,
          0.10338318347930908,
          0.13195110857486725,
          0.06986819952726364,
          0.14894336462020874,
          0.15714335441589355,
          0.11522415280342102,
          0.17415669560432434,
          0.11345985531806946,
          0.10864873230457306,
          0.1237773522734642,
          0.06986819952726364,
          0.13396874070167542,
          0.07983969897031784,
          0.12645182013511658,
          0.09667783975601196,
          0.1955987513065338,
          0.21696096658706665,
          0.07603529095649719,
          0.15095216035842896,
          0.1982932686805725,
          0.061239682137966156,
          0.10540974885225296,
          0.09145407378673553,
          0.18174634873867035,
          0.15825548768043518,
          0.11848440766334534,
          0.16344355046749115,
          0.2114829123020172,
          0.1597522795200348,
          0.1656542271375656,
          0.16737183928489685,
          0.139640212059021,
          0.056877680122852325,
          0.16087523102760315,
          0.14013804495334625,
          0.13467970490455627,
          0.05349203944206238,
          0.11567521095275879,
          0.1067650318145752,
          0.07476448267698288,
          0.20249785482883453,
          0.20353654026985168,
          0.12625950574874878,
          0.07046312093734741,
          0.052431799471378326,
          0.054502032697200775,
          0.07020645588636398,
          0.054099250584840775,
          0.04947982728481293,
          0.05924280732870102,
          0.05191754549741745,
          0.04181288927793503,
          0.05298712104558945,
          0.04699481278657913,
          0.054686643183231354,
          0.06730400025844574,
          0.05313146114349365,
          0.0652746856212616,
          0.051712870597839355,
          0.055618345737457275,
          0.06991134583950043,
          0.0583307258784771,
          0.0583307258784771,
          0.06730400025844574,
          0.0652746856212616,
          0.12272515892982483,
          0.24303078651428223,
          0.030887426808476448,
          0.1280580759048462,
          0.19656634330749512,
          0.12285730987787247,
          0.05051936209201813,
          0.06152051314711571,
          0.04291373863816261,
          0.07971572875976562,
          0.042913768440485,
          0.12110567092895508,
          0.1583804339170456,
          0.19089552760124207,
          0.14087285101413727,
          0.07560409605503082,
          0.06813036650419235,
          0.09089133888483047,
          0.13284450769424438,
          0.0918998122215271,
          0.22027508914470673,
          0.11731277406215668,
          0.10847052931785583,
          0.12347503751516342,
          0.16369041800498962,
          0.22341248393058777,
          0.05628976970911026,
          0.05703756958246231,
          0.20445138216018677,
          0.14013923704624176,
          0.13952845335006714,
          0.15262892842292786,
          0.0866619199514389,
          0.13952845335006714,
          0.15704748034477234,
          0.14018547534942627,
          0.07128939777612686,
          0.12847350537776947,
          0.0783076137304306,
          0.14057207107543945,
          0.18363404273986816,
          0.0770387053489685,
          0.09738185256719589,
          0.20382922887802124,
          0.21576328575611115,
          0.12662643194198608,
          0.18472233414649963,
          0.1244373545050621,
          0.12481372803449631,
          0.09531120955944061,
          0.09992125630378723,
          0.08196821063756943,
          0.11281776428222656,
          0.11924611032009125,
          0.14983659982681274,
          0.12967771291732788,
          0.10888797789812088,
          0.060082435607910156,
          0.1196136549115181,
          0.16126695275306702,
          0.2225942611694336,
          0.1364421546459198,
          0.14716173708438873,
          0.21423041820526123,
          0.13130038976669312,
          0.09072163701057434,
          0.1217392235994339,
          0.19246333837509155,
          0.09018345177173615,
          0.1335388422012329,
          0.18541666865348816,
          0.18754678964614868,
          0.24754396080970764,
          0.15185487270355225,
          0.1832464039325714,
          0.17281508445739746,
          0.1669112890958786,
          0.1976751685142517,
          0.1725170612335205,
          0.09493306279182434,
          0.11047882586717606,
          0.06215663254261017,
          0.08200109004974365,
          0.10347600281238556,
          0.0869501531124115,
          0.09910636395215988,
          0.11052563041448593,
          0.055375076830387115,
          0.16059806942939758,
          0.06215663254261017,
          0.08200109004974365,
          0.1356939673423767,
          0.09985825419425964,
          0.1521698534488678,
          0.143984854221344,
          0.1372319757938385,
          0.09976031631231308,
          0.0895901694893837,
          0.12616144120693207,
          0.1999431848526001,
          0.22015708684921265,
          0.13652044534683228,
          0.09313112497329712,
          0.14780981838703156,
          0.16389667987823486,
          0.18274885416030884,
          0.10708202421665192,
          0.1641482561826706,
          0.06818163394927979,
          0.19897089898586273,
          0.012620408087968826,
          0.08385834097862244,
          0.2019178569316864,
          0.20938149094581604,
          0.11964905261993408,
          0.1334865838289261,
          0.12778501212596893,
          0.10548421740531921,
          0.015783527866005898,
          0.03171910345554352,
          0.09639859199523926,
          0.0920281708240509,
          0.09449417889118195,
          0.031750813126564026,
          0.05972496420145035,
          0.1828574538230896,
          0.2051112949848175,
          0.1185741201043129,
          0.15262609720230103,
          0.07068779319524765,
          0.07149145752191544,
          0.10124911367893219,
          0.07528361678123474,
          0.07095133513212204,
          0.08854863792657852,
          0.22240617871284485,
          0.046551451086997986,
          0.11232317984104156,
          0.11325700581073761,
          0.12761135399341583,
          0.1116148829460144,
          0.1575223207473755,
          0.07378502190113068,
          0.09685270488262177,
          0.10974299907684326,
          0.15607351064682007,
          0.09493306279182434,
          0.021373244002461433,
          0.1253439038991928,
          0.15175402164459229,
          0.07990770041942596,
          0.1473982185125351,
          0.17760691046714783,
          0.1511046588420868,
          0.1067650318145752,
          0.09924765676259995,
          0.22094690799713135,
          0.18541666865348816,
          0.2117762714624405
         ],
         "y": [
          0.05161759629845619,
          0.059766318649053574,
          0.030495774000883102,
          0.020670711994171143,
          0.06856556981801987,
          0.0676952600479126,
          -0.003618780989199877,
          0.14391791820526123,
          0.10006675124168396,
          0.09164852648973465,
          0.05909828469157219,
          0.07404300570487976,
          0.11404301226139069,
          0.07401175796985626,
          0.09892456233501434,
          0.1436445713043213,
          0.017002621665596962,
          0.09142765402793884,
          -0.0006088496302254498,
          -0.14129509031772614,
          0.013377360999584198,
          -0.11014972627162933,
          -0.058535292744636536,
          -0.03480213135480881,
          -0.058820609003305435,
          -0.13893891870975494,
          -0.14129509031772614,
          -0.011850242502987385,
          0.04365241155028343,
          0.04242867976427078,
          0.0313337966799736,
          -0.01850072480738163,
          -0.029685521498322487,
          0.04558591917157173,
          0.048138752579689026,
          0.04754737764596939,
          0.1527007520198822,
          0.057870738208293915,
          -0.06296251714229584,
          0.08808243274688721,
          0.033831968903541565,
          -0.05762706696987152,
          -0.04504392296075821,
          0.00878478679805994,
          -0.012921888381242752,
          0.033174119889736176,
          0.12211694568395615,
          0.044521763920784,
          0.09373589605093002,
          0.01576245203614235,
          -0.1049378514289856,
          0.12115596234798431,
          0.035645999014377594,
          0.02016170136630535,
          -0.06412447988986969,
          0.050129495561122894,
          0.038490284234285355,
          -0.07967791706323624,
          -0.039521440863609314,
          -0.0513315387070179,
          0.025669941678643227,
          0.009439487010240555,
          0.08939270675182343,
          -0.0727928876876831,
          -0.09668079018592834,
          -0.08663948625326157,
          -0.1133870780467987,
          -0.06905876100063324,
          -0.12445957213640213,
          -0.11014972627162933,
          -0.022091850638389587,
          -0.12644463777542114,
          0.12167566269636154,
          0.05993402749300003,
          0.08828528225421906,
          0.02411716803908348,
          -0.04413026571273804,
          0.11091476678848267,
          0.08315072953701019,
          -0.01444086804986,
          0.11091476678848267,
          0.08041862398386002,
          0.09050516039133072,
          0.07270322740077972,
          -0.05967474356293678,
          -0.006993969902396202,
          -0.05336485803127289,
          -0.12098612636327744,
          0.14576591551303864,
          -0.13881579041481018,
          0.11589305102825165,
          0.03711856156587601,
          0.06848112493753433,
          0.10674828290939331,
          0.02642686478793621,
          0.13439270853996277,
          0.11205928027629852,
          0.04756661131978035,
          -0.01860189065337181,
          -0.0816260501742363,
          0.08052913844585419,
          -0.037371523678302765,
          -0.03754710778594017,
          -0.04148818179965019,
          -0.055151812732219696,
          -0.04338020831346512,
          0.11589305102825165,
          0.06246885657310486,
          -0.011947056278586388,
          -0.07182842493057251,
          -0.01823771372437477,
          0.08653673529624939,
          -0.03275619074702263,
          0.038730427622795105,
          0.03795291483402252,
          -0.10218428075313568,
          0.08257453143596649,
          -0.13001751899719238,
          -0.13001751899719238,
          -0.0353979617357254,
          0.0770113617181778,
          0.052794720977544785,
          0.004518546164035797,
          0.02968704141676426,
          0.034005243331193924,
          0.054865434765815735,
          -0.002993773203343153,
          -0.07431266456842422,
          -0.02686459757387638,
          -0.08446303755044937,
          0.11577360332012177,
          -0.009341588243842125,
          0.03393549472093582,
          -0.11697065830230713,
          -0.05130026862025261,
          -0.013509128242731094,
          -0.02041855826973915,
          -0.07440590113401413,
          -0.15102501213550568,
          0.021586693823337555,
          0.030549725517630577,
          0.032880209386348724,
          0.043377138674259186,
          0.030674977228045464,
          0.038730427622795105,
          0.01680314540863037,
          0.036596838384866714,
          0.024820048362016678,
          0.020660527050495148,
          0.034184254705905914,
          0.10482697188854218,
          0.037741269916296005,
          0.09408298879861832,
          0.009294549934566021,
          0.06101662665605545,
          -0.09416629374027252,
          -0.06117826700210571,
          0.09033756703138351,
          -0.04735135659575462,
          -0.09868314117193222,
          -0.06517553329467773,
          -0.037046387791633606,
          -0.06517553329467773,
          0.037690263241529465,
          -0.10950363427400589,
          -0.1153782531619072,
          -0.09868314117193222,
          -0.048992566764354706,
          -0.09142158925533295,
          -0.07480631023645401,
          -0.06661874055862427,
          -0.061521369963884354,
          -0.07139208912849426,
          -0.0662832111120224,
          -0.010182220488786697,
          0.02707786113023758,
          0.14141695201396942,
          -0.08141960203647614,
          0.09186848253011703,
          0.017828572541475296,
          0.0036939596757292747,
          -0.0010310737416148186,
          0.014812204986810684,
          -0.06296290457248688,
          -0.08324547111988068,
          -0.03002314828336239,
          0.088505819439888,
          0.0074528539553284645,
          0.05219227075576782,
          0.06483036279678345,
          0.0018481225706636906,
          0.011944973841309547,
          -0.04975873976945877,
          -0.02959699183702469,
          -0.023173939436674118,
          0.06171830743551254,
          0.008876737207174301,
          0.07684212923049927,
          0.06210331246256828,
          0.0007858026074245572,
          -0.06951199471950531,
          -0.04439200460910797,
          0.10672292113304138,
          -0.0039894673973321915,
          -0.007298744283616543,
          0.015485646203160286,
          0.04903191328048706,
          -0.06986993551254272,
          0.05406419560313225,
          0.027635984122753143,
          -0.053530141711235046,
          -0.054483093321323395,
          0.08333045244216919,
          -0.007944704033434391,
          0.04903191328048706,
          -0.048860952258110046,
          -0.014289358630776405,
          -0.009809380397200584,
          -0.0816260501742363,
          -0.025046629831194878,
          0.03344029188156128,
          -0.07469587028026581,
          0.057154662907123566,
          -0.09103452414274216,
          0.06373827159404755,
          -0.09927384555339813,
          0.02975129708647728,
          0.11589305102825165,
          -0.09956960380077362,
          -0.06069451943039894,
          -0.11812494695186615,
          -0.06204291060566902,
          -0.013835685327649117,
          -0.027960671111941338,
          -0.11248424649238586,
          -0.07720191776752472,
          -0.034324292093515396,
          0.0014722906053066254,
          -0.0779697597026825,
          -0.062152497470378876,
          0.025991206988692284,
          0.026987550780177116,
          0.011944973841309547,
          -0.006993969902396202,
          0.07409626245498657,
          0.015049707144498825,
          0.03757859393954277,
          -0.060090065002441406,
          -0.038184233009815216,
          -0.05590393766760826,
          -0.0546182356774807,
          -0.04688996076583862,
          -0.03678904473781586,
          -0.02849656343460083,
          -0.030182473361492157,
          -0.03402511402964592,
          -0.023552322760224342,
          -0.032581791281700134,
          -0.026962490752339363,
          -0.028882242739200592,
          -0.02907177247107029,
          -0.03142042085528374,
          -0.03854871541261673,
          -0.02909267507493496,
          -0.016444029286503792,
          -0.03566906228661537,
          -0.03566906228661537,
          -0.028882242739200592,
          -0.03142042085528374,
          -0.08833993226289749,
          -0.0741853266954422,
          -0.06721694767475128,
          0.10670895874500275,
          0.019824746996164322,
          -0.025620725005865097,
          0.05067949742078781,
          0.07372701913118362,
          0.1696995198726654,
          -0.005517023615539074,
          0.16969959437847137,
          0.00196047592908144,
          -0.09627965837717056,
          0.03251615911722183,
          -0.08146846294403076,
          0.015035529620945454,
          -0.031189288944005966,
          -0.03736874461174011,
          0.08788881450891495,
          -0.009028023108839989,
          -0.07908973842859268,
          0.05249004811048508,
          -0.09232792258262634,
          0.001309283310547471,
          -0.07327643036842346,
          -0.08452653139829636,
          -0.09729261696338654,
          -0.09550344944000244,
          -0.113488107919693,
          -0.1255243718624115,
          -0.003962768707424402,
          -0.007148567587137222,
          -0.08137290924787521,
          -0.003962768707424402,
          -0.09068577736616135,
          -0.16784794628620148,
          -0.05964190885424614,
          -0.03416436165571213,
          -0.05450601875782013,
          -0.03586124628782272,
          0.1118406355381012,
          -0.1078462228178978,
          -0.12098420411348343,
          0.047740332782268524,
          -0.051069360226392746,
          -0.12821494042873383,
          -0.13295549154281616,
          -0.08350256085395813,
          0.024538682773709297,
          -0.04339972510933876,
          -0.006132853217422962,
          0.01145482063293457,
          -0.07208320498466492,
          -0.007533559110015631,
          -0.034998439252376556,
          -0.10486877709627151,
          -0.017444707453250885,
          0.0523327998816967,
          0.02253003418445587,
          0.10827126353979111,
          0.07717432081699371,
          -0.03308013454079628,
          0.008945460431277752,
          0.07119395583868027,
          0.031193876639008522,
          0.007639535702764988,
          -0.09869769215583801,
          0.09053027629852295,
          -0.08444530516862869,
          -0.14129509031772614,
          -0.015185071155428886,
          0.07086586952209473,
          0.052687473595142365,
          -0.020498203113675117,
          0.06803090870380402,
          0.07270322740077972,
          0.09050516039133072,
          -0.015452062711119652,
          0.045955557376146317,
          -0.13577714562416077,
          -0.006868582218885422,
          0.002921933773905039,
          0.01697840355336666,
          0.004355127457529306,
          -0.06435307115316391,
          -0.016792789101600647,
          -0.12541168928146362,
          -0.03224653750658035,
          -0.0434659942984581,
          0.002921933773905039,
          0.01697840355336666,
          -0.027844518423080444,
          -0.0743357390165329,
          0.05847913399338722,
          0.10758966207504272,
          -0.0018257135525345802,
          -0.013606579974293709,
          -0.06194122135639191,
          0.023317556828260422,
          0.013763082213699818,
          -0.08532422035932541,
          -0.08609122037887573,
          -0.059025898575782776,
          -0.012747390195727348,
          0.039831653237342834,
          0.019259881228208542,
          -0.04254823178052902,
          0.04725709557533264,
          0.003544875420629978,
          -0.11271745711565018,
          0.12133288383483887,
          -0.0706675797700882,
          -0.027374770492315292,
          -0.0961923897266388,
          0.03087068535387516,
          -0.08898298442363739,
          -0.04671892523765564,
          -0.007438125088810921,
          -0.10997859388589859,
          -0.09688448905944824,
          -0.025622768327593803,
          -0.09771883487701416,
          -0.036427661776542664,
          0.02181428112089634,
          0.04698380082845688,
          0.08049862086772919,
          0.054800890386104584,
          -0.07911944389343262,
          0.10089071094989777,
          -0.03531941771507263,
          -0.0693671926856041,
          0.007385731674730778,
          -0.026624955236911774,
          -0.0939553827047348,
          -0.007177938707172871,
          -0.09243939816951752,
          -0.07696344703435898,
          -0.08734512329101562,
          0.026629537343978882,
          -0.0060943132266402245,
          -0.17872515320777893,
          -0.0868944451212883,
          -0.024334903806447983,
          0.0009576994343660772,
          -0.13983473181724548,
          -0.004642024170607328,
          -0.13577714562416077,
          -0.016576405614614487,
          0.02300073578953743,
          -0.006984391249716282,
          -0.09868314117193222,
          -0.018192540854215622,
          -0.11096621304750443,
          -0.00284340837970376,
          0.011944973841309547,
          0.014672975987195969,
          0.021740008145570755,
          -0.015185071155428886,
          -0.05141068249940872
         ],
         "z": [
          0.02370135858654976,
          -0.03447117283940315,
          0.016024714335799217,
          0.028141554445028305,
          0.02113230712711811,
          0.0019288095645606518,
          -0.03067241609096527,
          -0.03483433276414871,
          -0.01099414937198162,
          0.010719583369791508,
          -0.00007213070057332516,
          0.00016930606216192245,
          0.02143387869000435,
          -0.018641890957951546,
          0.025907199829816818,
          0.04761209338903427,
          0.04709448665380478,
          -0.022756079211831093,
          0.041498973965644836,
          -0.04802107810974121,
          -0.02585783042013645,
          -0.04462326318025589,
          -0.00503997877240181,
          0.052146896719932556,
          -0.02346879243850708,
          -0.06630347669124603,
          -0.04802107810974121,
          -0.08111809194087982,
          0.02222859300673008,
          0.012633404694497585,
          0.008233372122049332,
          -0.03424894064664841,
          0.006270203739404678,
          -0.026524607092142105,
          0.04270603507757187,
          0.0003588832914829254,
          0.020218299701809883,
          0.03909818083047867,
          -0.04717933386564255,
          -0.0006245817057788372,
          -0.04078119993209839,
          -0.012337983585894108,
          -0.07288047671318054,
          -0.005353119224309921,
          0.0116978008300066,
          0.007852848619222641,
          0.0005450574681162834,
          -0.023935871198773384,
          0.022880353033542633,
          0.010318877175450325,
          -0.0816526859998703,
          -0.0178566575050354,
          -0.044749416410923004,
          0.005485653877258301,
          -0.041510116308927536,
          -0.019585520029067993,
          0.011373862624168396,
          -0.042070865631103516,
          -0.02703711949288845,
          -0.05383127182722092,
          -0.025043722242116928,
          -0.02533186413347721,
          0.003888021456077695,
          -0.07145029306411743,
          -0.06819438934326172,
          -0.0353185310959816,
          -0.04406632110476494,
          -0.06387944519519806,
          -0.06348968297243118,
          -0.04462326318025589,
          -0.008548347279429436,
          -0.08803793042898178,
          -0.0011473367922008038,
          0.014911554753780365,
          0.026439374312758446,
          0.03665905445814133,
          0.010799639858305454,
          -0.005843702703714371,
          0.0008079344406723976,
          0.0463639535009861,
          -0.005843702703714371,
          0.05736786872148514,
          0.05319509282708168,
          0.06260693073272705,
          -0.029537850990891457,
          -0.03641423583030701,
          -0.07374144345521927,
          -0.030536195263266563,
          0.0004321746528148651,
          -0.09418705105781555,
          0.012358381412923336,
          0.06227153539657593,
          -0.02154947817325592,
          -0.03359335660934448,
          0.049511782824993134,
          -0.007978672161698341,
          0.023489682003855705,
          0.05870147421956062,
          -0.005072088912129402,
          -0.06509722024202347,
          0.04624248296022415,
          -0.011853286996483803,
          -0.024115338921546936,
          -0.034553270787000656,
          -0.028827639296650887,
          -0.04233096167445183,
          0.012358381412923336,
          -0.07867846637964249,
          0.016879111528396606,
          -0.02108718268573284,
          -0.0018284674733877182,
          -0.01651853322982788,
          0.017445014789700508,
          -0.07864215224981308,
          -0.06093168258666992,
          -0.1061442494392395,
          -0.002686804160475731,
          -0.09630346298217773,
          -0.09630346298217773,
          0.023916399106383324,
          0.013672235421836376,
          -0.00030081672593951225,
          -0.01129859033972025,
          -0.08413176238536835,
          -0.04614510014653206,
          0.06127402186393738,
          -0.00691459234803915,
          -0.06861454248428345,
          -0.025544557720422745,
          0.0029207468032836914,
          0.04925082251429558,
          0.0689660906791687,
          -0.010841283947229385,
          -0.04056277126073837,
          -0.08458198606967926,
          -0.05480595678091049,
          -0.04704534634947777,
          -0.04810765013098717,
          -0.045914240181446075,
          -0.06886942684650421,
          -0.07297712564468384,
          -0.08079051971435547,
          -0.06515540927648544,
          -0.06525874137878418,
          -0.07864215224981308,
          -0.0681331530213356,
          -0.09751065075397491,
          -0.075471431016922,
          -0.06002940982580185,
          -0.09073531627655029,
          0.0038680052384734154,
          0.03576664999127388,
          0.040198273956775665,
          0.001791259739547968,
          -0.0037430301308631897,
          -0.03924131393432617,
          -0.04158230125904083,
          -0.06914503872394562,
          0.04192523658275604,
          -0.06572581827640533,
          -0.06398653984069824,
          -0.017969107255339622,
          -0.06398653984069824,
          -0.03543654456734657,
          -0.04987968131899834,
          -0.07301122695207596,
          -0.06572581827640533,
          -0.034451406449079514,
          -0.007769573479890823,
          -0.07008343935012817,
          0.10159644484519958,
          0.10374744236469269,
          0.09014640748500824,
          0.09351839870214462,
          -0.006200829520821571,
          0.06083870679140091,
          0.012767145410180092,
          -0.043102070689201355,
          0.00933891348540783,
          0.017713522538542747,
          0.007780918385833502,
          -0.0017127590253949165,
          0.07287236303091049,
          -0.00020775602024514228,
          0.01018937211483717,
          -0.021721454337239265,
          0.003006692510098219,
          -0.03380036726593971,
          0.034805938601493835,
          -0.016794532537460327,
          -0.0828714594244957,
          0.06532181799411774,
          -0.09329269826412201,
          -0.02522384189069271,
          -0.05922108516097069,
          0.03303801268339157,
          -0.056351274251937866,
          -0.05003504455089569,
          -0.010638854466378689,
          -0.0037361658178269863,
          -0.0633658766746521,
          -0.040223442018032074,
          -0.0803886279463768,
          -0.08726298809051514,
          -0.13353946805000305,
          -0.036491136997938156,
          -0.005561936646699905,
          -0.12165958434343338,
          -0.013505034148693085,
          0.0011994498781859875,
          -0.00363853108137846,
          -0.09128813445568085,
          -0.09355711936950684,
          -0.016727657988667488,
          -0.005561936646699905,
          0.05493145436048508,
          0.02306181937456131,
          -0.01668180525302887,
          -0.06509722024202347,
          0.04619711637496948,
          0.03458390757441521,
          0.006085635628551245,
          0.015818137675523758,
          -0.00930792186409235,
          -0.05722799152135849,
          -0.06628917157649994,
          -0.017126085236668587,
          0.012358381412923336,
          -0.07548875361680984,
          -0.09500381350517273,
          0.028187092393636703,
          -0.057478077709674835,
          -0.01797042042016983,
          0.028020186349749565,
          -0.053156111389398575,
          -0.014869920909404755,
          -0.0027713915333151817,
          0.008916486985981464,
          -0.08012332022190094,
          -0.06473338603973389,
          -0.014608745463192463,
          0.02916615828871727,
          0.06532181799411774,
          -0.03641423583030701,
          0.05769997090101242,
          0.01195487193763256,
          -0.06568575650453568,
          0.1916080117225647,
          0.2102363258600235,
          0.22287389636039734,
          0.17747262120246887,
          0.2115558385848999,
          0.21669283509254456,
          0.22109785676002502,
          0.220551997423172,
          0.21086058020591736,
          0.21417558193206787,
          0.20937012135982513,
          0.21963626146316528,
          0.21491095423698425,
          0.21945883333683014,
          0.2144925594329834,
          0.2110334187746048,
          0.21739542484283447,
          0.2059706151485443,
          0.2075725793838501,
          0.2075725793838501,
          0.21491095423698425,
          0.2144925594329834,
          0.1422998458147049,
          -0.018658265471458435,
          -0.060991402715444565,
          0.06072493642568588,
          -0.015878621488809586,
          -0.0022408580407500267,
          0.020561732351779938,
          -0.012154202908277512,
          -0.0025904132053256035,
          0.0257703997194767,
          -0.002590431598946452,
          0.018086593598127365,
          -0.02576584741473198,
          -0.03116888552904129,
          0.07447127252817154,
          -0.00508977472782135,
          -0.015216823667287827,
          -0.043157294392585754,
          -0.00899446103721857,
          0.07062696665525436,
          -0.03326635807752609,
          -0.06271727383136749,
          -0.051747459918260574,
          -0.025637544691562653,
          -0.025791330263018608,
          -0.01486058346927166,
          -0.06487943977117538,
          -0.05867139995098114,
          -0.05407679080963135,
          -0.052467599511146545,
          0.0753430426120758,
          0.04380199313163757,
          0.03224252536892891,
          0.0753430426120758,
          -0.07583402097225189,
          -0.0704239010810852,
          0.06385944038629532,
          0.01277200412005186,
          -0.09052016586065292,
          -0.011925952509045601,
          0.02425871416926384,
          -0.05305077135562897,
          -0.02346988208591938,
          0.056200094521045685,
          -0.04806816577911377,
          -0.09193240851163864,
          -0.04483643174171448,
          0.0017781248316168785,
          0.0017048907466232777,
          0.018783994019031525,
          0.018612276762723923,
          0.006809829268604517,
          0.024476032704114914,
          -0.046674638986587524,
          0.04597565531730652,
          0.026674732565879822,
          0.007878235541284084,
          -0.010979771614074707,
          0.035609714686870575,
          0.006960021331906319,
          0.028371289372444153,
          -0.01565544120967388,
          -0.01427281741052866,
          0.04290647804737091,
          0.03388938307762146,
          -0.07329729944467545,
          -0.035479433834552765,
          0.026969680562615395,
          -0.03516280651092529,
          -0.04802107810974121,
          -0.06336153298616409,
          0.03861529380083084,
          0.055031850934028625,
          -0.0558847039937973,
          0.01824815571308136,
          0.06260693073272705,
          0.05319509282708168,
          -0.05663435906171799,
          0.025301048532128334,
          -0.07781557738780975,
          0.015554415062069893,
          0.030281655490398407,
          0.027589980512857437,
          0.06134999543428421,
          0.03308676928281784,
          -0.04098246991634369,
          -0.09015870839357376,
          0.05063759908080101,
          0.00209614634513855,
          0.030281655490398407,
          0.027589980512857437,
          0.058364517986774445,
          0.09081092476844788,
          -0.07527570426464081,
          0.020570768043398857,
          -0.03318178653717041,
          0.027547352015972137,
          -0.026323895901441574,
          0.02763885073363781,
          0.0041182017885148525,
          0.012435687705874443,
          -0.05750405788421631,
          -0.02725004404783249,
          0.0818394348025322,
          -0.0606270506978035,
          -0.02102011814713478,
          -0.021261654794216156,
          0.011812065728008747,
          -0.034623563289642334,
          -0.03381563723087311,
          -0.027747491374611855,
          0.004657221958041191,
          -0.06658482551574707,
          -0.02875792793929577,
          -0.024522222578525543,
          -0.05443470925092697,
          -0.0014966255985200405,
          0.01995590701699257,
          -0.07730591297149658,
          -0.03820183500647545,
          -0.024441570043563843,
          -0.02829708531498909,
          0.05428291857242584,
          0.010611996054649353,
          -0.03379204124212265,
          -0.04974566772580147,
          -0.07490991055965424,
          0.010179093107581139,
          -0.003599950112402439,
          0.028624508529901505,
          -0.027969656512141228,
          0.01748092658817768,
          0.09308281540870667,
          0.020601147785782814,
          0.01688961498439312,
          -0.019658993929624557,
          -0.050837572664022446,
          -0.05874336510896683,
          -0.0009739585220813751,
          -0.06482262164354324,
          -0.07498133927583694,
          -0.0444977730512619,
          0.04597541689872742,
          0.017160553485155106,
          -0.10394269227981567,
          0.0229987483471632,
          -0.07781557738780975,
          0.010817155241966248,
          0.04889032244682312,
          0.013315027579665184,
          -0.06572581827640533,
          -0.02583615481853485,
          0.005713845603168011,
          0.0950726866722107,
          0.06532181799411774,
          0.035538990050554276,
          0.05156612768769264,
          -0.06336153298616409,
          -0.07449070364236832
         ]
        }
       ],
       "layout": {
        "font": {
         "color": "Black",
         "family": "Sans-serif",
         "size": 15
        },
        "height": 500,
        "legend": {
         "title": {
          "text": "color"
         },
         "tracegroupgap": 0
        },
        "margin": {
         "b": 0,
         "l": 0,
         "r": 0,
         "t": 0
        },
        "scene": {
         "domain": {
          "x": [
           0,
           1
          ],
          "y": [
           0,
           1
          ]
         },
         "xaxis": {
          "title": {
           "text": "PC1"
          }
         },
         "yaxis": {
          "title": {
           "text": "PC2"
          }
         },
         "zaxis": {
          "title": {
           "text": "PC3"
          }
         }
        },
        "showlegend": false,
        "template": {
         "data": {
          "bar": [
           {
            "error_x": {
             "color": "#2a3f5f"
            },
            "error_y": {
             "color": "#2a3f5f"
            },
            "marker": {
             "line": {
              "color": "#E5ECF6",
              "width": 0.5
             },
             "pattern": {
              "fillmode": "overlay",
              "size": 10,
              "solidity": 0.2
             }
            },
            "type": "bar"
           }
          ],
          "barpolar": [
           {
            "marker": {
             "line": {
              "color": "#E5ECF6",
              "width": 0.5
             },
             "pattern": {
              "fillmode": "overlay",
              "size": 10,
              "solidity": 0.2
             }
            },
            "type": "barpolar"
           }
          ],
          "carpet": [
           {
            "aaxis": {
             "endlinecolor": "#2a3f5f",
             "gridcolor": "white",
             "linecolor": "white",
             "minorgridcolor": "white",
             "startlinecolor": "#2a3f5f"
            },
            "baxis": {
             "endlinecolor": "#2a3f5f",
             "gridcolor": "white",
             "linecolor": "white",
             "minorgridcolor": "white",
             "startlinecolor": "#2a3f5f"
            },
            "type": "carpet"
           }
          ],
          "choropleth": [
           {
            "colorbar": {
             "outlinewidth": 0,
             "ticks": ""
            },
            "type": "choropleth"
           }
          ],
          "contour": [
           {
            "colorbar": {
             "outlinewidth": 0,
             "ticks": ""
            },
            "colorscale": [
             [
              0,
              "#0d0887"
             ],
             [
              0.1111111111111111,
              "#46039f"
             ],
             [
              0.2222222222222222,
              "#7201a8"
             ],
             [
              0.3333333333333333,
              "#9c179e"
             ],
             [
              0.4444444444444444,
              "#bd3786"
             ],
             [
              0.5555555555555556,
              "#d8576b"
             ],
             [
              0.6666666666666666,
              "#ed7953"
             ],
             [
              0.7777777777777778,
              "#fb9f3a"
             ],
             [
              0.8888888888888888,
              "#fdca26"
             ],
             [
              1,
              "#f0f921"
             ]
            ],
            "type": "contour"
           }
          ],
          "contourcarpet": [
           {
            "colorbar": {
             "outlinewidth": 0,
             "ticks": ""
            },
            "type": "contourcarpet"
           }
          ],
          "heatmap": [
           {
            "colorbar": {
             "outlinewidth": 0,
             "ticks": ""
            },
            "colorscale": [
             [
              0,
              "#0d0887"
             ],
             [
              0.1111111111111111,
              "#46039f"
             ],
             [
              0.2222222222222222,
              "#7201a8"
             ],
             [
              0.3333333333333333,
              "#9c179e"
             ],
             [
              0.4444444444444444,
              "#bd3786"
             ],
             [
              0.5555555555555556,
              "#d8576b"
             ],
             [
              0.6666666666666666,
              "#ed7953"
             ],
             [
              0.7777777777777778,
              "#fb9f3a"
             ],
             [
              0.8888888888888888,
              "#fdca26"
             ],
             [
              1,
              "#f0f921"
             ]
            ],
            "type": "heatmap"
           }
          ],
          "heatmapgl": [
           {
            "colorbar": {
             "outlinewidth": 0,
             "ticks": ""
            },
            "colorscale": [
             [
              0,
              "#0d0887"
             ],
             [
              0.1111111111111111,
              "#46039f"
             ],
             [
              0.2222222222222222,
              "#7201a8"
             ],
             [
              0.3333333333333333,
              "#9c179e"
             ],
             [
              0.4444444444444444,
              "#bd3786"
             ],
             [
              0.5555555555555556,
              "#d8576b"
             ],
             [
              0.6666666666666666,
              "#ed7953"
             ],
             [
              0.7777777777777778,
              "#fb9f3a"
             ],
             [
              0.8888888888888888,
              "#fdca26"
             ],
             [
              1,
              "#f0f921"
             ]
            ],
            "type": "heatmapgl"
           }
          ],
          "histogram": [
           {
            "marker": {
             "pattern": {
              "fillmode": "overlay",
              "size": 10,
              "solidity": 0.2
             }
            },
            "type": "histogram"
           }
          ],
          "histogram2d": [
           {
            "colorbar": {
             "outlinewidth": 0,
             "ticks": ""
            },
            "colorscale": [
             [
              0,
              "#0d0887"
             ],
             [
              0.1111111111111111,
              "#46039f"
             ],
             [
              0.2222222222222222,
              "#7201a8"
             ],
             [
              0.3333333333333333,
              "#9c179e"
             ],
             [
              0.4444444444444444,
              "#bd3786"
             ],
             [
              0.5555555555555556,
              "#d8576b"
             ],
             [
              0.6666666666666666,
              "#ed7953"
             ],
             [
              0.7777777777777778,
              "#fb9f3a"
             ],
             [
              0.8888888888888888,
              "#fdca26"
             ],
             [
              1,
              "#f0f921"
             ]
            ],
            "type": "histogram2d"
           }
          ],
          "histogram2dcontour": [
           {
            "colorbar": {
             "outlinewidth": 0,
             "ticks": ""
            },
            "colorscale": [
             [
              0,
              "#0d0887"
             ],
             [
              0.1111111111111111,
              "#46039f"
             ],
             [
              0.2222222222222222,
              "#7201a8"
             ],
             [
              0.3333333333333333,
              "#9c179e"
             ],
             [
              0.4444444444444444,
              "#bd3786"
             ],
             [
              0.5555555555555556,
              "#d8576b"
             ],
             [
              0.6666666666666666,
              "#ed7953"
             ],
             [
              0.7777777777777778,
              "#fb9f3a"
             ],
             [
              0.8888888888888888,
              "#fdca26"
             ],
             [
              1,
              "#f0f921"
             ]
            ],
            "type": "histogram2dcontour"
           }
          ],
          "mesh3d": [
           {
            "colorbar": {
             "outlinewidth": 0,
             "ticks": ""
            },
            "type": "mesh3d"
           }
          ],
          "parcoords": [
           {
            "line": {
             "colorbar": {
              "outlinewidth": 0,
              "ticks": ""
             }
            },
            "type": "parcoords"
           }
          ],
          "pie": [
           {
            "automargin": true,
            "type": "pie"
           }
          ],
          "scatter": [
           {
            "fillpattern": {
             "fillmode": "overlay",
             "size": 10,
             "solidity": 0.2
            },
            "type": "scatter"
           }
          ],
          "scatter3d": [
           {
            "line": {
             "colorbar": {
              "outlinewidth": 0,
              "ticks": ""
             }
            },
            "marker": {
             "colorbar": {
              "outlinewidth": 0,
              "ticks": ""
             }
            },
            "type": "scatter3d"
           }
          ],
          "scattercarpet": [
           {
            "marker": {
             "colorbar": {
              "outlinewidth": 0,
              "ticks": ""
             }
            },
            "type": "scattercarpet"
           }
          ],
          "scattergeo": [
           {
            "marker": {
             "colorbar": {
              "outlinewidth": 0,
              "ticks": ""
             }
            },
            "type": "scattergeo"
           }
          ],
          "scattergl": [
           {
            "marker": {
             "colorbar": {
              "outlinewidth": 0,
              "ticks": ""
             }
            },
            "type": "scattergl"
           }
          ],
          "scattermapbox": [
           {
            "marker": {
             "colorbar": {
              "outlinewidth": 0,
              "ticks": ""
             }
            },
            "type": "scattermapbox"
           }
          ],
          "scatterpolar": [
           {
            "marker": {
             "colorbar": {
              "outlinewidth": 0,
              "ticks": ""
             }
            },
            "type": "scatterpolar"
           }
          ],
          "scatterpolargl": [
           {
            "marker": {
             "colorbar": {
              "outlinewidth": 0,
              "ticks": ""
             }
            },
            "type": "scatterpolargl"
           }
          ],
          "scatterternary": [
           {
            "marker": {
             "colorbar": {
              "outlinewidth": 0,
              "ticks": ""
             }
            },
            "type": "scatterternary"
           }
          ],
          "surface": [
           {
            "colorbar": {
             "outlinewidth": 0,
             "ticks": ""
            },
            "colorscale": [
             [
              0,
              "#0d0887"
             ],
             [
              0.1111111111111111,
              "#46039f"
             ],
             [
              0.2222222222222222,
              "#7201a8"
             ],
             [
              0.3333333333333333,
              "#9c179e"
             ],
             [
              0.4444444444444444,
              "#bd3786"
             ],
             [
              0.5555555555555556,
              "#d8576b"
             ],
             [
              0.6666666666666666,
              "#ed7953"
             ],
             [
              0.7777777777777778,
              "#fb9f3a"
             ],
             [
              0.8888888888888888,
              "#fdca26"
             ],
             [
              1,
              "#f0f921"
             ]
            ],
            "type": "surface"
           }
          ],
          "table": [
           {
            "cells": {
             "fill": {
              "color": "#EBF0F8"
             },
             "line": {
              "color": "white"
             }
            },
            "header": {
             "fill": {
              "color": "#C8D4E3"
             },
             "line": {
              "color": "white"
             }
            },
            "type": "table"
           }
          ]
         },
         "layout": {
          "annotationdefaults": {
           "arrowcolor": "#2a3f5f",
           "arrowhead": 0,
           "arrowwidth": 1
          },
          "autotypenumbers": "strict",
          "coloraxis": {
           "colorbar": {
            "outlinewidth": 0,
            "ticks": ""
           }
          },
          "colorscale": {
           "diverging": [
            [
             0,
             "#8e0152"
            ],
            [
             0.1,
             "#c51b7d"
            ],
            [
             0.2,
             "#de77ae"
            ],
            [
             0.3,
             "#f1b6da"
            ],
            [
             0.4,
             "#fde0ef"
            ],
            [
             0.5,
             "#f7f7f7"
            ],
            [
             0.6,
             "#e6f5d0"
            ],
            [
             0.7,
             "#b8e186"
            ],
            [
             0.8,
             "#7fbc41"
            ],
            [
             0.9,
             "#4d9221"
            ],
            [
             1,
             "#276419"
            ]
           ],
           "sequential": [
            [
             0,
             "#0d0887"
            ],
            [
             0.1111111111111111,
             "#46039f"
            ],
            [
             0.2222222222222222,
             "#7201a8"
            ],
            [
             0.3333333333333333,
             "#9c179e"
            ],
            [
             0.4444444444444444,
             "#bd3786"
            ],
            [
             0.5555555555555556,
             "#d8576b"
            ],
            [
             0.6666666666666666,
             "#ed7953"
            ],
            [
             0.7777777777777778,
             "#fb9f3a"
            ],
            [
             0.8888888888888888,
             "#fdca26"
            ],
            [
             1,
             "#f0f921"
            ]
           ],
           "sequentialminus": [
            [
             0,
             "#0d0887"
            ],
            [
             0.1111111111111111,
             "#46039f"
            ],
            [
             0.2222222222222222,
             "#7201a8"
            ],
            [
             0.3333333333333333,
             "#9c179e"
            ],
            [
             0.4444444444444444,
             "#bd3786"
            ],
            [
             0.5555555555555556,
             "#d8576b"
            ],
            [
             0.6666666666666666,
             "#ed7953"
            ],
            [
             0.7777777777777778,
             "#fb9f3a"
            ],
            [
             0.8888888888888888,
             "#fdca26"
            ],
            [
             1,
             "#f0f921"
            ]
           ]
          },
          "colorway": [
           "#636efa",
           "#EF553B",
           "#00cc96",
           "#ab63fa",
           "#FFA15A",
           "#19d3f3",
           "#FF6692",
           "#B6E880",
           "#FF97FF",
           "#FECB52"
          ],
          "font": {
           "color": "#2a3f5f"
          },
          "geo": {
           "bgcolor": "white",
           "lakecolor": "white",
           "landcolor": "#E5ECF6",
           "showlakes": true,
           "showland": true,
           "subunitcolor": "white"
          },
          "hoverlabel": {
           "align": "left"
          },
          "hovermode": "closest",
          "mapbox": {
           "style": "light"
          },
          "paper_bgcolor": "white",
          "plot_bgcolor": "#E5ECF6",
          "polar": {
           "angularaxis": {
            "gridcolor": "white",
            "linecolor": "white",
            "ticks": ""
           },
           "bgcolor": "#E5ECF6",
           "radialaxis": {
            "gridcolor": "white",
            "linecolor": "white",
            "ticks": ""
           }
          },
          "scene": {
           "xaxis": {
            "backgroundcolor": "#E5ECF6",
            "gridcolor": "white",
            "gridwidth": 2,
            "linecolor": "white",
            "showbackground": true,
            "ticks": "",
            "zerolinecolor": "white"
           },
           "yaxis": {
            "backgroundcolor": "#E5ECF6",
            "gridcolor": "white",
            "gridwidth": 2,
            "linecolor": "white",
            "showbackground": true,
            "ticks": "",
            "zerolinecolor": "white"
           },
           "zaxis": {
            "backgroundcolor": "#E5ECF6",
            "gridcolor": "white",
            "gridwidth": 2,
            "linecolor": "white",
            "showbackground": true,
            "ticks": "",
            "zerolinecolor": "white"
           }
          },
          "shapedefaults": {
           "line": {
            "color": "#2a3f5f"
           }
          },
          "ternary": {
           "aaxis": {
            "gridcolor": "white",
            "linecolor": "white",
            "ticks": ""
           },
           "baxis": {
            "gridcolor": "white",
            "linecolor": "white",
            "ticks": ""
           },
           "bgcolor": "#E5ECF6",
           "caxis": {
            "gridcolor": "white",
            "linecolor": "white",
            "ticks": ""
           }
          },
          "title": {
           "x": 0.05
          },
          "xaxis": {
           "automargin": true,
           "gridcolor": "white",
           "linecolor": "white",
           "ticks": "",
           "title": {
            "standoff": 15
           },
           "zerolinecolor": "white",
           "zerolinewidth": 2
          },
          "yaxis": {
           "automargin": true,
           "gridcolor": "white",
           "linecolor": "white",
           "ticks": "",
           "title": {
            "standoff": 15
           },
           "zerolinecolor": "white",
           "zerolinewidth": 2
          }
         }
        },
        "title": {
         "text": "PCA colored by group (source, target)"
        },
        "width": 1200
       }
      }
     },
     "metadata": {},
     "output_type": "display_data"
    }
   ],
   "source": [
    "plot_pca(pcs=stacked_pcs, colors=color_by_group, names=group_names, title='PCA colored by group (source, target)')"
   ]
  },
  {
   "cell_type": "markdown",
   "metadata": {},
   "source": [
    "Clusters relate to the languages."
   ]
  },
  {
   "cell_type": "markdown",
   "metadata": {},
   "source": [
    "matches (sources - targets) should be closer if we color them the same"
   ]
  },
  {
   "cell_type": "code",
   "execution_count": 30,
   "metadata": {},
   "outputs": [
    {
     "data": {
      "application/vnd.plotly.v1+json": {
       "config": {
        "plotlyServerURL": "https://plot.ly"
       },
       "data": [
        {
         "hovertemplate": "<b>%{hovertext}</b><br><br>color=query: Sodium [Moles/volume] in Body fluid<br>PC1=%{x}<br>PC2=%{y}<br>PC3=%{z}<extra></extra>",
         "hovertext": [
          "query: Sodium [Moles/volume] in Body fluid"
         ],
         "legendgroup": "query: Sodium [Moles/volume] in Body fluid",
         "marker": {
          "color": "#636efa",
          "opacity": 0.7,
          "symbol": "circle"
         },
         "mode": "markers",
         "name": "query: Sodium [Moles/volume] in Body fluid",
         "scene": "scene",
         "showlegend": true,
         "type": "scatter3d",
         "x": [
          -0.07006324082612991
         ],
         "y": [
          0.24724829196929932
         ],
         "z": [
          -0.0632990375161171
         ]
        },
        {
         "hovertemplate": "<b>%{hovertext}</b><br><br>color=query: Prothrombin time<br>PC1=%{x}<br>PC2=%{y}<br>PC3=%{z}<extra></extra>",
         "hovertext": [
          "query: Prothrombin time"
         ],
         "legendgroup": "query: Prothrombin time",
         "marker": {
          "color": "#EF553B",
          "opacity": 0.7,
          "symbol": "circle"
         },
         "mode": "markers",
         "name": "query: Prothrombin time",
         "scene": "scene",
         "showlegend": true,
         "type": "scatter3d",
         "x": [
          -0.1494797021150589
         ],
         "y": [
          0.16474184393882751
         ],
         "z": [
          -0.028943879529833794
         ]
        },
        {
         "hovertemplate": "<b>%{hovertext}</b><br><br>color=query: Carbon dioxide [Partial pressure] in Blood<br>PC1=%{x}<br>PC2=%{y}<br>PC3=%{z}<extra></extra>",
         "hovertext": [
          "query: Carbon dioxide [Partial pressure] in Blood"
         ],
         "legendgroup": "query: Carbon dioxide [Partial pressure] in Blood",
         "marker": {
          "color": "#00cc96",
          "opacity": 0.7,
          "symbol": "circle"
         },
         "mode": "markers",
         "name": "query: Carbon dioxide [Partial pressure] in Blood",
         "scene": "scene",
         "showlegend": true,
         "type": "scatter3d",
         "x": [
          -0.14734461903572083
         ],
         "y": [
          0.04198599234223366
         ],
         "z": [
          0.038519639521837234
         ]
        },
        {
         "hovertemplate": "<b>%{hovertext}</b><br><br>color=query: Oxygen [Partial pressure] in Blood<br>PC1=%{x}<br>PC2=%{y}<br>PC3=%{z}<extra></extra>",
         "hovertext": [
          "query: Oxygen [Partial pressure] in Blood"
         ],
         "legendgroup": "query: Oxygen [Partial pressure] in Blood",
         "marker": {
          "color": "#ab63fa",
          "opacity": 0.7,
          "symbol": "circle"
         },
         "mode": "markers",
         "name": "query: Oxygen [Partial pressure] in Blood",
         "scene": "scene",
         "showlegend": true,
         "type": "scatter3d",
         "x": [
          -0.14734461903572083
         ],
         "y": [
          0.04198599234223366
         ],
         "z": [
          0.038519639521837234
         ]
        },
        {
         "hovertemplate": "<b>%{hovertext}</b><br><br>color=query: Oxygen saturation measurement, arterial<br>PC1=%{x}<br>PC2=%{y}<br>PC3=%{z}<extra></extra>",
         "hovertext": [
          "query: Oxygen saturation measurement, arterial"
         ],
         "legendgroup": "query: Oxygen saturation measurement, arterial",
         "marker": {
          "color": "#FFA15A",
          "opacity": 0.7,
          "symbol": "circle"
         },
         "mode": "markers",
         "name": "query: Oxygen saturation measurement, arterial",
         "scene": "scene",
         "showlegend": true,
         "type": "scatter3d",
         "x": [
          -0.14734461903572083
         ],
         "y": [
          0.04198599234223366
         ],
         "z": [
          0.038519639521837234
         ]
        },
        {
         "hovertemplate": "<b>%{hovertext}</b><br><br>color=query: Hydrogen ion concentration<br>PC1=%{x}<br>PC2=%{y}<br>PC3=%{z}<extra></extra>",
         "hovertext": [
          "query: Hydrogen ion concentration"
         ],
         "legendgroup": "query: Hydrogen ion concentration",
         "marker": {
          "color": "#19d3f3",
          "opacity": 0.7,
          "symbol": "circle"
         },
         "mode": "markers",
         "name": "query: Hydrogen ion concentration",
         "scene": "scene",
         "showlegend": true,
         "type": "scatter3d",
         "x": [
          -0.14734461903572083
         ],
         "y": [
          0.04198599234223366
         ],
         "z": [
          0.038519639521837234
         ]
        },
        {
         "hovertemplate": "<b>%{hovertext}</b><br><br>color=query: PCR test for SARS<br>PC1=%{x}<br>PC2=%{y}<br>PC3=%{z}<extra></extra>",
         "hovertext": [
          "query: PCR test for SARS"
         ],
         "legendgroup": "query: PCR test for SARS",
         "marker": {
          "color": "#FF6692",
          "opacity": 0.7,
          "symbol": "circle"
         },
         "mode": "markers",
         "name": "query: PCR test for SARS",
         "scene": "scene",
         "showlegend": true,
         "type": "scatter3d",
         "x": [
          -0.10026133060455322
         ],
         "y": [
          -0.08017291128635406
         ],
         "z": [
          0.07676896452903748
         ]
        },
        {
         "hovertemplate": "<b>%{hovertext}</b><br><br>color=query: Sodium measurement, serum<br>PC1=%{x}<br>PC2=%{y}<br>PC3=%{z}<extra></extra>",
         "hovertext": [
          "query: Sodium measurement, serum"
         ],
         "legendgroup": "query: Sodium measurement, serum",
         "marker": {
          "color": "#B6E880",
          "opacity": 0.7,
          "symbol": "circle"
         },
         "mode": "markers",
         "name": "query: Sodium measurement, serum",
         "scene": "scene",
         "showlegend": true,
         "type": "scatter3d",
         "x": [
          -0.0700632631778717
         ],
         "y": [
          0.2472483366727829
         ],
         "z": [
          -0.0632990151643753
         ]
        },
        {
         "hovertemplate": "<b>%{hovertext}</b><br><br>color=query: Potassium level<br>PC1=%{x}<br>PC2=%{y}<br>PC3=%{z}<extra></extra>",
         "hovertext": [
          "query: Potassium level"
         ],
         "legendgroup": "query: Potassium level",
         "marker": {
          "color": "#FF97FF",
          "opacity": 0.7,
          "symbol": "circle"
         },
         "mode": "markers",
         "name": "query: Potassium level",
         "scene": "scene",
         "showlegend": true,
         "type": "scatter3d",
         "x": [
          -0.08735224604606628
         ],
         "y": [
          0.2020890712738037
         ],
         "z": [
          -0.0638059675693512
         ]
        },
        {
         "hovertemplate": "<b>%{hovertext}</b><br><br>color=query: Glucose measurement, plasma<br>PC1=%{x}<br>PC2=%{y}<br>PC3=%{z}<extra></extra>",
         "hovertext": [
          "query: Glucose measurement, plasma"
         ],
         "legendgroup": "query: Glucose measurement, plasma",
         "marker": {
          "color": "#FECB52",
          "opacity": 0.7,
          "symbol": "circle"
         },
         "mode": "markers",
         "name": "query: Glucose measurement, plasma",
         "scene": "scene",
         "showlegend": true,
         "type": "scatter3d",
         "x": [
          -0.1042540967464447
         ],
         "y": [
          0.10855916142463684
         ],
         "z": [
          0.009946435689926147
         ]
        },
        {
         "hovertemplate": "<b>%{hovertext}</b><br><br>color=query: Glucose [Presence] in Urine<br>PC1=%{x}<br>PC2=%{y}<br>PC3=%{z}<extra></extra>",
         "hovertext": [
          "query: Glucose [Presence] in Urine"
         ],
         "legendgroup": "query: Glucose [Presence] in Urine",
         "marker": {
          "color": "#636efa",
          "opacity": 0.7,
          "symbol": "circle"
         },
         "mode": "markers",
         "name": "query: Glucose [Presence] in Urine",
         "scene": "scene",
         "showlegend": true,
         "type": "scatter3d",
         "x": [
          -0.1042540967464447
         ],
         "y": [
          0.10855916142463684
         ],
         "z": [
          0.009946435689926147
         ]
        },
        {
         "hovertemplate": "<b>%{hovertext}</b><br><br>color=query: Glucose [Presence] in Stool<br>PC1=%{x}<br>PC2=%{y}<br>PC3=%{z}<extra></extra>",
         "hovertext": [
          "query: Glucose [Presence] in Stool"
         ],
         "legendgroup": "query: Glucose [Presence] in Stool",
         "marker": {
          "color": "#EF553B",
          "opacity": 0.7,
          "symbol": "circle"
         },
         "mode": "markers",
         "name": "query: Glucose [Presence] in Stool",
         "scene": "scene",
         "showlegend": true,
         "type": "scatter3d",
         "x": [
          -0.1042540967464447
         ],
         "y": [
          0.10855916142463684
         ],
         "z": [
          0.009946435689926147
         ]
        },
        {
         "hovertemplate": "<b>%{hovertext}</b><br><br>color=query: Creatinine measurement<br>PC1=%{x}<br>PC2=%{y}<br>PC3=%{z}<extra></extra>",
         "hovertext": [
          "query: Creatinine measurement"
         ],
         "legendgroup": "query: Creatinine measurement",
         "marker": {
          "color": "#00cc96",
          "opacity": 0.7,
          "symbol": "circle"
         },
         "mode": "markers",
         "name": "query: Creatinine measurement",
         "scene": "scene",
         "showlegend": true,
         "type": "scatter3d",
         "x": [
          -0.09060436487197876
         ],
         "y": [
          0.18971768021583557
         ],
         "z": [
          -0.05917306989431381
         ]
        },
        {
         "hovertemplate": "<b>%{hovertext}</b><br><br>color=query: Serum urea measurement<br>PC1=%{x}<br>PC2=%{y}<br>PC3=%{z}<extra></extra>",
         "hovertext": [
          "query: Serum urea measurement"
         ],
         "legendgroup": "query: Serum urea measurement",
         "marker": {
          "color": "#ab63fa",
          "opacity": 0.7,
          "symbol": "circle"
         },
         "mode": "markers",
         "name": "query: Serum urea measurement",
         "scene": "scene",
         "showlegend": true,
         "type": "scatter3d",
         "x": [
          -0.07162599265575409
         ],
         "y": [
          0.24343478679656982
         ],
         "z": [
          -0.06244424358010292
         ]
        },
        {
         "hovertemplate": "<b>%{hovertext}</b><br><br>color=query: Urine urea measurement<br>PC1=%{x}<br>PC2=%{y}<br>PC3=%{z}<extra></extra>",
         "hovertext": [
          "query: Urine urea measurement"
         ],
         "legendgroup": "query: Urine urea measurement",
         "marker": {
          "color": "#FFA15A",
          "opacity": 0.7,
          "symbol": "circle"
         },
         "mode": "markers",
         "name": "query: Urine urea measurement",
         "scene": "scene",
         "showlegend": true,
         "type": "scatter3d",
         "x": [
          -0.07162599265575409
         ],
         "y": [
          0.24343478679656982
         ],
         "z": [
          -0.06244424358010292
         ]
        },
        {
         "hovertemplate": "<b>%{hovertext}</b><br><br>color=query: Calcium measurement<br>PC1=%{x}<br>PC2=%{y}<br>PC3=%{z}<extra></extra>",
         "hovertext": [
          "query: Calcium measurement"
         ],
         "legendgroup": "query: Calcium measurement",
         "marker": {
          "color": "#19d3f3",
          "opacity": 0.7,
          "symbol": "circle"
         },
         "mode": "markers",
         "name": "query: Calcium measurement",
         "scene": "scene",
         "showlegend": true,
         "type": "scatter3d",
         "x": [
          -0.1016843169927597
         ],
         "y": [
          0.2061781883239746
         ],
         "z": [
          -0.031463004648685455
         ]
        },
        {
         "hovertemplate": "<b>%{hovertext}</b><br><br>color=query: Complete blood count without differential<br>PC1=%{x}<br>PC2=%{y}<br>PC3=%{z}<extra></extra>",
         "hovertext": [
          "query: Complete blood count without differential"
         ],
         "legendgroup": "query: Complete blood count without differential",
         "marker": {
          "color": "#FF6692",
          "opacity": 0.7,
          "symbol": "circle"
         },
         "mode": "markers",
         "name": "query: Complete blood count without differential",
         "scene": "scene",
         "showlegend": true,
         "type": "scatter3d",
         "x": [
          -0.09113868325948715
         ],
         "y": [
          -0.025809407234191895
         ],
         "z": [
          0.10363082587718964
         ]
        },
        {
         "hovertemplate": "<b>%{hovertext}</b><br><br>color=query: APTT - reference<br>PC1=%{x}<br>PC2=%{y}<br>PC3=%{z}<extra></extra>",
         "hovertext": [
          "query: APTT - reference"
         ],
         "legendgroup": "query: APTT - reference",
         "marker": {
          "color": "#B6E880",
          "opacity": 0.7,
          "symbol": "circle"
         },
         "mode": "markers",
         "name": "query: APTT - reference",
         "scene": "scene",
         "showlegend": true,
         "type": "scatter3d",
         "x": [
          -0.14723511040210724
         ],
         "y": [
          -0.028200937435030937
         ],
         "z": [
          -0.013404606841504574
         ]
        },
        {
         "hovertemplate": "<b>%{hovertext}</b><br><br>color=query: Lymphocyte count<br>PC1=%{x}<br>PC2=%{y}<br>PC3=%{z}<extra></extra>",
         "hovertext": [
          "query: Lymphocyte count"
         ],
         "legendgroup": "query: Lymphocyte count",
         "marker": {
          "color": "#FF97FF",
          "opacity": 0.7,
          "symbol": "circle"
         },
         "mode": "markers",
         "name": "query: Lymphocyte count",
         "scene": "scene",
         "showlegend": true,
         "type": "scatter3d",
         "x": [
          -0.10591191053390503
         ],
         "y": [
          0.03344797343015671
         ],
         "z": [
          0.11709468811750412
         ]
        },
        {
         "hovertemplate": "<b>%{hovertext}</b><br><br>color=query: HBsAg (hepatitis B surface antigen) antibody level<br>PC1=%{x}<br>PC2=%{y}<br>PC3=%{z}<extra></extra>",
         "hovertext": [
          "query: HBsAg (hepatitis B surface antigen) antibody level"
         ],
         "legendgroup": "query: HBsAg (hepatitis B surface antigen) antibody level",
         "marker": {
          "color": "#FECB52",
          "opacity": 0.7,
          "symbol": "circle"
         },
         "mode": "markers",
         "name": "query: HBsAg (hepatitis B surface antigen) antibody level",
         "scene": "scene",
         "showlegend": true,
         "type": "scatter3d",
         "x": [
          -0.12778781354427338
         ],
         "y": [
          -0.08342795819044113
         ],
         "z": [
          -0.042652398347854614
         ]
        }
       ],
       "layout": {
        "font": {
         "color": "Black",
         "family": "Sans-serif",
         "size": 15
        },
        "height": 500,
        "legend": {
         "title": {
          "text": "color"
         },
         "tracegroupgap": 0
        },
        "margin": {
         "b": 0,
         "l": 0,
         "r": 0,
         "t": 0
        },
        "scene": {
         "domain": {
          "x": [
           0,
           1
          ],
          "y": [
           0,
           1
          ]
         },
         "xaxis": {
          "title": {
           "text": "PC1"
          }
         },
         "yaxis": {
          "title": {
           "text": "PC2"
          }
         },
         "zaxis": {
          "title": {
           "text": "PC3"
          }
         }
        },
        "showlegend": false,
        "template": {
         "data": {
          "bar": [
           {
            "error_x": {
             "color": "#2a3f5f"
            },
            "error_y": {
             "color": "#2a3f5f"
            },
            "marker": {
             "line": {
              "color": "#E5ECF6",
              "width": 0.5
             },
             "pattern": {
              "fillmode": "overlay",
              "size": 10,
              "solidity": 0.2
             }
            },
            "type": "bar"
           }
          ],
          "barpolar": [
           {
            "marker": {
             "line": {
              "color": "#E5ECF6",
              "width": 0.5
             },
             "pattern": {
              "fillmode": "overlay",
              "size": 10,
              "solidity": 0.2
             }
            },
            "type": "barpolar"
           }
          ],
          "carpet": [
           {
            "aaxis": {
             "endlinecolor": "#2a3f5f",
             "gridcolor": "white",
             "linecolor": "white",
             "minorgridcolor": "white",
             "startlinecolor": "#2a3f5f"
            },
            "baxis": {
             "endlinecolor": "#2a3f5f",
             "gridcolor": "white",
             "linecolor": "white",
             "minorgridcolor": "white",
             "startlinecolor": "#2a3f5f"
            },
            "type": "carpet"
           }
          ],
          "choropleth": [
           {
            "colorbar": {
             "outlinewidth": 0,
             "ticks": ""
            },
            "type": "choropleth"
           }
          ],
          "contour": [
           {
            "colorbar": {
             "outlinewidth": 0,
             "ticks": ""
            },
            "colorscale": [
             [
              0,
              "#0d0887"
             ],
             [
              0.1111111111111111,
              "#46039f"
             ],
             [
              0.2222222222222222,
              "#7201a8"
             ],
             [
              0.3333333333333333,
              "#9c179e"
             ],
             [
              0.4444444444444444,
              "#bd3786"
             ],
             [
              0.5555555555555556,
              "#d8576b"
             ],
             [
              0.6666666666666666,
              "#ed7953"
             ],
             [
              0.7777777777777778,
              "#fb9f3a"
             ],
             [
              0.8888888888888888,
              "#fdca26"
             ],
             [
              1,
              "#f0f921"
             ]
            ],
            "type": "contour"
           }
          ],
          "contourcarpet": [
           {
            "colorbar": {
             "outlinewidth": 0,
             "ticks": ""
            },
            "type": "contourcarpet"
           }
          ],
          "heatmap": [
           {
            "colorbar": {
             "outlinewidth": 0,
             "ticks": ""
            },
            "colorscale": [
             [
              0,
              "#0d0887"
             ],
             [
              0.1111111111111111,
              "#46039f"
             ],
             [
              0.2222222222222222,
              "#7201a8"
             ],
             [
              0.3333333333333333,
              "#9c179e"
             ],
             [
              0.4444444444444444,
              "#bd3786"
             ],
             [
              0.5555555555555556,
              "#d8576b"
             ],
             [
              0.6666666666666666,
              "#ed7953"
             ],
             [
              0.7777777777777778,
              "#fb9f3a"
             ],
             [
              0.8888888888888888,
              "#fdca26"
             ],
             [
              1,
              "#f0f921"
             ]
            ],
            "type": "heatmap"
           }
          ],
          "heatmapgl": [
           {
            "colorbar": {
             "outlinewidth": 0,
             "ticks": ""
            },
            "colorscale": [
             [
              0,
              "#0d0887"
             ],
             [
              0.1111111111111111,
              "#46039f"
             ],
             [
              0.2222222222222222,
              "#7201a8"
             ],
             [
              0.3333333333333333,
              "#9c179e"
             ],
             [
              0.4444444444444444,
              "#bd3786"
             ],
             [
              0.5555555555555556,
              "#d8576b"
             ],
             [
              0.6666666666666666,
              "#ed7953"
             ],
             [
              0.7777777777777778,
              "#fb9f3a"
             ],
             [
              0.8888888888888888,
              "#fdca26"
             ],
             [
              1,
              "#f0f921"
             ]
            ],
            "type": "heatmapgl"
           }
          ],
          "histogram": [
           {
            "marker": {
             "pattern": {
              "fillmode": "overlay",
              "size": 10,
              "solidity": 0.2
             }
            },
            "type": "histogram"
           }
          ],
          "histogram2d": [
           {
            "colorbar": {
             "outlinewidth": 0,
             "ticks": ""
            },
            "colorscale": [
             [
              0,
              "#0d0887"
             ],
             [
              0.1111111111111111,
              "#46039f"
             ],
             [
              0.2222222222222222,
              "#7201a8"
             ],
             [
              0.3333333333333333,
              "#9c179e"
             ],
             [
              0.4444444444444444,
              "#bd3786"
             ],
             [
              0.5555555555555556,
              "#d8576b"
             ],
             [
              0.6666666666666666,
              "#ed7953"
             ],
             [
              0.7777777777777778,
              "#fb9f3a"
             ],
             [
              0.8888888888888888,
              "#fdca26"
             ],
             [
              1,
              "#f0f921"
             ]
            ],
            "type": "histogram2d"
           }
          ],
          "histogram2dcontour": [
           {
            "colorbar": {
             "outlinewidth": 0,
             "ticks": ""
            },
            "colorscale": [
             [
              0,
              "#0d0887"
             ],
             [
              0.1111111111111111,
              "#46039f"
             ],
             [
              0.2222222222222222,
              "#7201a8"
             ],
             [
              0.3333333333333333,
              "#9c179e"
             ],
             [
              0.4444444444444444,
              "#bd3786"
             ],
             [
              0.5555555555555556,
              "#d8576b"
             ],
             [
              0.6666666666666666,
              "#ed7953"
             ],
             [
              0.7777777777777778,
              "#fb9f3a"
             ],
             [
              0.8888888888888888,
              "#fdca26"
             ],
             [
              1,
              "#f0f921"
             ]
            ],
            "type": "histogram2dcontour"
           }
          ],
          "mesh3d": [
           {
            "colorbar": {
             "outlinewidth": 0,
             "ticks": ""
            },
            "type": "mesh3d"
           }
          ],
          "parcoords": [
           {
            "line": {
             "colorbar": {
              "outlinewidth": 0,
              "ticks": ""
             }
            },
            "type": "parcoords"
           }
          ],
          "pie": [
           {
            "automargin": true,
            "type": "pie"
           }
          ],
          "scatter": [
           {
            "fillpattern": {
             "fillmode": "overlay",
             "size": 10,
             "solidity": 0.2
            },
            "type": "scatter"
           }
          ],
          "scatter3d": [
           {
            "line": {
             "colorbar": {
              "outlinewidth": 0,
              "ticks": ""
             }
            },
            "marker": {
             "colorbar": {
              "outlinewidth": 0,
              "ticks": ""
             }
            },
            "type": "scatter3d"
           }
          ],
          "scattercarpet": [
           {
            "marker": {
             "colorbar": {
              "outlinewidth": 0,
              "ticks": ""
             }
            },
            "type": "scattercarpet"
           }
          ],
          "scattergeo": [
           {
            "marker": {
             "colorbar": {
              "outlinewidth": 0,
              "ticks": ""
             }
            },
            "type": "scattergeo"
           }
          ],
          "scattergl": [
           {
            "marker": {
             "colorbar": {
              "outlinewidth": 0,
              "ticks": ""
             }
            },
            "type": "scattergl"
           }
          ],
          "scattermapbox": [
           {
            "marker": {
             "colorbar": {
              "outlinewidth": 0,
              "ticks": ""
             }
            },
            "type": "scattermapbox"
           }
          ],
          "scatterpolar": [
           {
            "marker": {
             "colorbar": {
              "outlinewidth": 0,
              "ticks": ""
             }
            },
            "type": "scatterpolar"
           }
          ],
          "scatterpolargl": [
           {
            "marker": {
             "colorbar": {
              "outlinewidth": 0,
              "ticks": ""
             }
            },
            "type": "scatterpolargl"
           }
          ],
          "scatterternary": [
           {
            "marker": {
             "colorbar": {
              "outlinewidth": 0,
              "ticks": ""
             }
            },
            "type": "scatterternary"
           }
          ],
          "surface": [
           {
            "colorbar": {
             "outlinewidth": 0,
             "ticks": ""
            },
            "colorscale": [
             [
              0,
              "#0d0887"
             ],
             [
              0.1111111111111111,
              "#46039f"
             ],
             [
              0.2222222222222222,
              "#7201a8"
             ],
             [
              0.3333333333333333,
              "#9c179e"
             ],
             [
              0.4444444444444444,
              "#bd3786"
             ],
             [
              0.5555555555555556,
              "#d8576b"
             ],
             [
              0.6666666666666666,
              "#ed7953"
             ],
             [
              0.7777777777777778,
              "#fb9f3a"
             ],
             [
              0.8888888888888888,
              "#fdca26"
             ],
             [
              1,
              "#f0f921"
             ]
            ],
            "type": "surface"
           }
          ],
          "table": [
           {
            "cells": {
             "fill": {
              "color": "#EBF0F8"
             },
             "line": {
              "color": "white"
             }
            },
            "header": {
             "fill": {
              "color": "#C8D4E3"
             },
             "line": {
              "color": "white"
             }
            },
            "type": "table"
           }
          ]
         },
         "layout": {
          "annotationdefaults": {
           "arrowcolor": "#2a3f5f",
           "arrowhead": 0,
           "arrowwidth": 1
          },
          "autotypenumbers": "strict",
          "coloraxis": {
           "colorbar": {
            "outlinewidth": 0,
            "ticks": ""
           }
          },
          "colorscale": {
           "diverging": [
            [
             0,
             "#8e0152"
            ],
            [
             0.1,
             "#c51b7d"
            ],
            [
             0.2,
             "#de77ae"
            ],
            [
             0.3,
             "#f1b6da"
            ],
            [
             0.4,
             "#fde0ef"
            ],
            [
             0.5,
             "#f7f7f7"
            ],
            [
             0.6,
             "#e6f5d0"
            ],
            [
             0.7,
             "#b8e186"
            ],
            [
             0.8,
             "#7fbc41"
            ],
            [
             0.9,
             "#4d9221"
            ],
            [
             1,
             "#276419"
            ]
           ],
           "sequential": [
            [
             0,
             "#0d0887"
            ],
            [
             0.1111111111111111,
             "#46039f"
            ],
            [
             0.2222222222222222,
             "#7201a8"
            ],
            [
             0.3333333333333333,
             "#9c179e"
            ],
            [
             0.4444444444444444,
             "#bd3786"
            ],
            [
             0.5555555555555556,
             "#d8576b"
            ],
            [
             0.6666666666666666,
             "#ed7953"
            ],
            [
             0.7777777777777778,
             "#fb9f3a"
            ],
            [
             0.8888888888888888,
             "#fdca26"
            ],
            [
             1,
             "#f0f921"
            ]
           ],
           "sequentialminus": [
            [
             0,
             "#0d0887"
            ],
            [
             0.1111111111111111,
             "#46039f"
            ],
            [
             0.2222222222222222,
             "#7201a8"
            ],
            [
             0.3333333333333333,
             "#9c179e"
            ],
            [
             0.4444444444444444,
             "#bd3786"
            ],
            [
             0.5555555555555556,
             "#d8576b"
            ],
            [
             0.6666666666666666,
             "#ed7953"
            ],
            [
             0.7777777777777778,
             "#fb9f3a"
            ],
            [
             0.8888888888888888,
             "#fdca26"
            ],
            [
             1,
             "#f0f921"
            ]
           ]
          },
          "colorway": [
           "#636efa",
           "#EF553B",
           "#00cc96",
           "#ab63fa",
           "#FFA15A",
           "#19d3f3",
           "#FF6692",
           "#B6E880",
           "#FF97FF",
           "#FECB52"
          ],
          "font": {
           "color": "#2a3f5f"
          },
          "geo": {
           "bgcolor": "white",
           "lakecolor": "white",
           "landcolor": "#E5ECF6",
           "showlakes": true,
           "showland": true,
           "subunitcolor": "white"
          },
          "hoverlabel": {
           "align": "left"
          },
          "hovermode": "closest",
          "mapbox": {
           "style": "light"
          },
          "paper_bgcolor": "white",
          "plot_bgcolor": "#E5ECF6",
          "polar": {
           "angularaxis": {
            "gridcolor": "white",
            "linecolor": "white",
            "ticks": ""
           },
           "bgcolor": "#E5ECF6",
           "radialaxis": {
            "gridcolor": "white",
            "linecolor": "white",
            "ticks": ""
           }
          },
          "scene": {
           "xaxis": {
            "backgroundcolor": "#E5ECF6",
            "gridcolor": "white",
            "gridwidth": 2,
            "linecolor": "white",
            "showbackground": true,
            "ticks": "",
            "zerolinecolor": "white"
           },
           "yaxis": {
            "backgroundcolor": "#E5ECF6",
            "gridcolor": "white",
            "gridwidth": 2,
            "linecolor": "white",
            "showbackground": true,
            "ticks": "",
            "zerolinecolor": "white"
           },
           "zaxis": {
            "backgroundcolor": "#E5ECF6",
            "gridcolor": "white",
            "gridwidth": 2,
            "linecolor": "white",
            "showbackground": true,
            "ticks": "",
            "zerolinecolor": "white"
           }
          },
          "shapedefaults": {
           "line": {
            "color": "#2a3f5f"
           }
          },
          "ternary": {
           "aaxis": {
            "gridcolor": "white",
            "linecolor": "white",
            "ticks": ""
           },
           "baxis": {
            "gridcolor": "white",
            "linecolor": "white",
            "ticks": ""
           },
           "bgcolor": "#E5ECF6",
           "caxis": {
            "gridcolor": "white",
            "linecolor": "white",
            "ticks": ""
           }
          },
          "title": {
           "x": 0.05
          },
          "xaxis": {
           "automargin": true,
           "gridcolor": "white",
           "linecolor": "white",
           "ticks": "",
           "title": {
            "standoff": 15
           },
           "zerolinecolor": "white",
           "zerolinewidth": 2
          },
          "yaxis": {
           "automargin": true,
           "gridcolor": "white",
           "linecolor": "white",
           "ticks": "",
           "title": {
            "standoff": 15
           },
           "zerolinecolor": "white",
           "zerolinewidth": 2
          }
         }
        },
        "title": {
         "text": "PCA of 20 matched examples (same colors should be closer)"
        },
        "width": 1200
       }
      }
     },
     "metadata": {},
     "output_type": "display_data"
    }
   ],
   "source": [
    "plot_pca(pcs=stacked_pcs[:20], colors=individual_names[:20], names=individual_names[:20], title=\"PCA of 20 matched examples (same colors should be closer)\")"
   ]
  },
  {
   "cell_type": "code",
   "execution_count": 31,
   "metadata": {},
   "outputs": [],
   "source": [
    "source_dict = dict(zip(range(len(sources)), sources))\n",
    "target_dict = dict(zip(range(len(targets)), targets))"
   ]
  },
  {
   "cell_type": "code",
   "execution_count": 32,
   "metadata": {},
   "outputs": [],
   "source": [
    "rand_number = np.random.choice(len(sources), 1, replace=True)[0]\n",
    "source_example = sources_emb[rand_number]"
   ]
  },
  {
   "cell_type": "code",
   "execution_count": 33,
   "metadata": {},
   "outputs": [
    {
     "name": "stdout",
     "output_type": "stream",
     "text": [
      " source: query: HEMOGRAMA COM FORMULA LEUCOCITARIA (ERITROGRAMA, CONTAGEM DE LEUCOCITOS, CONTAGEM DE PLAQU;\n",
      " target: query: Complete blood count with white cell differential, automated\n"
     ]
    }
   ],
   "source": [
    "print(f' source: {source_dict[rand_number]};\\n target: {target_dict[rand_number]}')"
   ]
  },
  {
   "cell_type": "markdown",
   "metadata": {},
   "source": [
    "# Test distance: Compute nomalized L2 inner product"
   ]
  },
  {
   "cell_type": "code",
   "execution_count": 34,
   "metadata": {},
   "outputs": [],
   "source": [
    "import faiss\n",
    "\n",
    "\n",
    "def norml2_innerproduct(feature_space, query):\n",
    "\n",
    "    index = faiss.index_factory(\n",
    "        feature_space.shape[1], \"Flat\", faiss.METRIC_INNER_PRODUCT)\n",
    "    faiss.normalize_L2(feature_space)\n",
    "    index.add(feature_space)\n",
    "    distance, index = index.search(np.array([query]), k=feature_space.shape[0])\n",
    "\n",
    "    return distance, index"
   ]
  },
  {
   "cell_type": "code",
   "execution_count": 35,
   "metadata": {},
   "outputs": [],
   "source": [
    "distance, index = norml2_innerproduct(targets_emb, source_example)"
   ]
  },
  {
   "cell_type": "code",
   "execution_count": 36,
   "metadata": {},
   "outputs": [
    {
     "name": "stdout",
     "output_type": "stream",
     "text": [
      " source: query: HEMOGRAMA COM FORMULA LEUCOCITARIA (ERITROGRAMA, CONTAGEM DE LEUCOCITOS, CONTAGEM DE PLAQU;\n",
      " target: query: Hemoglobin C/Hemoglobin.total in Blood by HPLC\n"
     ]
    }
   ],
   "source": [
    "print(f' source: {source_dict[rand_number]};\\n target: {target_dict[index[0][0]]}')"
   ]
  },
  {
   "cell_type": "code",
   "execution_count": 39,
   "metadata": {},
   "outputs": [],
   "source": [
    "top1 = 0\n",
    "top5 = 0\n",
    "top10 = 0\n",
    "total = len(sources)\n",
    "for i in range(total):\n",
    "    source_example = sources_emb[i]\n",
    "    distance, index = norml2_innerproduct(targets_emb, source_example)\n",
    "    \n",
    "    if i == index[0][0]:\n",
    "        top1+=1\n",
    "        top5+=1\n",
    "        top10+=1\n",
    "    elif i in index[0][:5]:\n",
    "        top5+=1\n",
    "        top10+=1\n",
    "    elif i in index[0][:10]:\n",
    "        top10+=1\n",
    "\n",
    "    "
   ]
  },
  {
   "cell_type": "code",
   "execution_count": 40,
   "metadata": {},
   "outputs": [
    {
     "name": "stdout",
     "output_type": "stream",
     "text": [
      "\n",
      "      Top 1 match: 44.16%;\n",
      "      Top 5 match: 70.56%;ok\n",
      "      Top 10 match: 78.27%;\n",
      "      Total number of tests: 428\n",
      "    \n"
     ]
    }
   ],
   "source": [
    "print(f\"\"\"\n",
    "      Top 1 match: {top1/total:.2%};\n",
    "      Top 5 match: {top5/total:.2%};ok\n",
    "      Top 10 match: {top10/total:.2%};\n",
    "      Total number of tests: {len(sources)}\n",
    "    \"\"\")"
   ]
  },
  {
   "cell_type": "markdown",
   "metadata": {},
   "source": [
    "Distance metric seems to be correctly implemented. Now we need more examples to test on."
   ]
  },
  {
   "cell_type": "markdown",
   "metadata": {},
   "source": [
    "# Expand the number of examples\n"
   ]
  },
  {
   "cell_type": "code",
   "execution_count": 41,
   "metadata": {},
   "outputs": [],
   "source": [
    "import sys\n",
    "sys.path.insert(0, '..') # add parent folder path\n",
    "from data_preprocessors import RawDataProcessor"
   ]
  },
  {
   "cell_type": "code",
   "execution_count": 42,
   "metadata": {},
   "outputs": [],
   "source": [
    "hospital_folders = [\"../lib/data/raw/source_to_concept/chuc/\", \"../lib/data/raw/source_to_concept/hds/\"]\n",
    "concept_vocab = \"../lib/data/raw/vocabularies/CONCEPT.csv\"\n",
    "\n",
    "rdp = RawDataProcessor(vocab_file=concept_vocab, hospital_folders=hospital_folders)\n",
    "sources, targets = rdp.join_source_target()"
   ]
  },
  {
   "cell_type": "code",
   "execution_count": 43,
   "metadata": {},
   "outputs": [],
   "source": [
    "assert len(sources) == len(targets)"
   ]
  },
  {
   "cell_type": "code",
   "execution_count": 44,
   "metadata": {},
   "outputs": [
    {
     "data": {
      "text/plain": [
       "2222"
      ]
     },
     "execution_count": 44,
     "metadata": {},
     "output_type": "execute_result"
    }
   ],
   "source": [
    "len(sources)"
   ]
  },
  {
   "cell_type": "code",
   "execution_count": 45,
   "metadata": {},
   "outputs": [],
   "source": [
    "source_dict = dict(zip(range(len(sources)), sources))\n",
    "target_dict = dict(zip(range(len(targets)), targets))"
   ]
  },
  {
   "cell_type": "code",
   "execution_count": 46,
   "metadata": {},
   "outputs": [],
   "source": [
    "import pickle \n",
    "with open('../lib/artifacts/dicts/sources.pickle', 'wb') as handle:\n",
    "    pickle.dump(source_dict, handle, protocol=pickle.HIGHEST_PROTOCOL)\n",
    "with open('../lib/artifacts/dicts/targets.pickle', 'wb') as handle:\n",
    "    pickle.dump(target_dict, handle, protocol=pickle.HIGHEST_PROTOCOL)\n"
   ]
  },
  {
   "cell_type": "markdown",
   "metadata": {},
   "source": [
    "# Select models"
   ]
  },
  {
   "cell_type": "code",
   "execution_count": 47,
   "metadata": {},
   "outputs": [],
   "source": [
    "list_of_models = [ \n",
    "                  \"sentence-transformers/distiluse-base-multilingual-cased-v2\", # 2019 maps sentences & paragraphs to a 512 dimensional dense vector space and can be used for tasks like clustering or semantic search\n",
    "                  \"sentence-transformers/paraphrase-multilingual-mpnet-base-v2\", # 2019 maps sentences & paragraphs to a 768 dimensional dense vector space and can be used for tasks like clustering or semantic search\n",
    "                  \"mixedbread-ai/mxbai-embed-large-v1\", # 2024 It achieves SOTA performance on BERT-large scale (feature extraction)\n",
    "                  'intfloat/multilingual-e5-small', # 2024 This model has 12 layers and the embedding size is 384 (sentence similarity)\n",
    "                  \"intfloat/multilingual-e5-base\", # 2024 This model has 24 layers and the embedding size is 1024 (sentence similarity)\n",
    "                  \"intfloat/multilingual-e5-large\", # 2024 This model has 12 layers and the embedding size is 768 (sentence similarity)\n",
    "                  \"sentence-transformers/all-MiniLM-L6-v2\", # maps sentences & paragraphs to a 384 dimensional dense vector space and can be used for tasks like clustering or semantic search\n",
    "                  \"sentence-transformers/all-MiniLM-L12-v2\", # maps sentences & paragraphs to a 384 dimensional dense vector space and can be used for tasks like clustering or semantic search\n",
    "                  # \"Henrychur/MMedLM2\", # too large for now\n",
    "                  \"medicalai/ClinicalBERT\" # 2023 The ClinicalBERT model was trained on a large multicenter dataset with a large corpus of 1.2B words of diverse diseases\n",
    "]"
   ]
  },
  {
   "cell_type": "markdown",
   "metadata": {},
   "source": [
    "# Top1, Top5, and Top10 recall for 2222 examples"
   ]
  },
  {
   "cell_type": "markdown",
   "metadata": {},
   "source": [
    "For testing we need to apply different query prefixes since some models are trained with specific start tokens for query and response. \n",
    "\n",
    "Here, we'll test with a \"query: \" prefix and without. The performance differences can be quite unpredictable. \n",
    "\n",
    "The test function bellow tracks if the model needs remote code to run (some models do), and the recall@k metrics for each model whith each prefix. \n",
    "\n",
    "By default, the test will be conducted using the L2 search of the normalized IP. \n",
    "\n",
    "\n",
    "\n"
   ]
  },
  {
   "cell_type": "code",
   "execution_count": 52,
   "metadata": {},
   "outputs": [],
   "source": [
    "from tqdm import tqdm\n",
    "from time import time\n",
    "from sentence_transformers import SentenceTransformer\n",
    "\n",
    "\n",
    "def test_models(models: list, sources: list, targets: list):\n",
    "\n",
    "    # Store results\n",
    "    results = []\n",
    "\n",
    "    for plm in tqdm(models, desc=\"Testing models: \"):\n",
    "\n",
    "        # Load model\n",
    "        needs_remote_code = 0\n",
    "        try:\n",
    "            model = SentenceTransformer(plm, trust_remote_code=False)\n",
    "        except ValueError:\n",
    "            model = SentenceTransformer(plm, trust_remote_code=True)\n",
    "            needs_remote_code = 1\n",
    "        \n",
    "        for query_prefix in ['', 'query: ']:\n",
    "\n",
    "            mod_sources = [(query_prefix + i) for i in sources]\n",
    "            mod_targets = [(query_prefix + i) for i in targets]\n",
    "\n",
    "            # Track results\n",
    "            top1 = 0\n",
    "            top5 = 0\n",
    "            top10 = 0\n",
    "            total = len(sources)\n",
    "\n",
    "            # Encode\n",
    "            sources_emb = model.encode(mod_sources, normalize_embeddings=True)\n",
    "            targets_emb = model.encode(mod_targets, normalize_embeddings=True)\n",
    "\n",
    "            # Track Encoding Time\n",
    "            start = time()\n",
    "            for i in tqdm(range(total), leave=False):\n",
    "\n",
    "                # Compute distances\n",
    "                source_example = sources_emb[i]\n",
    "                distance, index = norml2_innerproduct(targets_emb, source_example)\n",
    "\n",
    "                # Check matches\n",
    "                if i == index[0][0]:\n",
    "                    top1 += 1\n",
    "                    top5 += 1\n",
    "                    top10 += 1\n",
    "                elif i in index[0][:5]:\n",
    "                    top5 += 1\n",
    "                    top10 += 1\n",
    "                elif i in index[0][:10]:\n",
    "                    top10 += 1\n",
    "\n",
    "            # Compute time\n",
    "            end = time()\n",
    "            elapsed_seconds = end - start\n",
    "\n",
    "            results.append(\n",
    "                {   \n",
    "                    \"plm\": plm + '__query_prefix__' + query_prefix,\n",
    "                    \"remote_code\": needs_remote_code,\n",
    "                    \"Top-1 match\": top1/total,\n",
    "                    \"Top-5 match\": top5/total,\n",
    "                    \"Top-10 match\": top10/total,\n",
    "                    \"Total number of tests\": len(sources),\n",
    "                    \"Elapsed seconds\": elapsed_seconds,\n",
    "                    \"Predictions per second X 1000\": len(sources)/elapsed_seconds/1000\n",
    "                }\n",
    "            )\n",
    "\n",
    "    return results"
   ]
  },
  {
   "cell_type": "code",
   "execution_count": 53,
   "metadata": {},
   "outputs": [
    {
     "name": "stderr",
     "output_type": "stream",
     "text": [
      "Testing models:  89%|████████▉ | 8/9 [02:59<00:19, 19.19s/it]No sentence-transformers model found with name medicalai/ClinicalBERT. Creating a new one with MEAN pooling.\n",
      "Testing models: 100%|██████████| 9/9 [03:11<00:00, 21.31s/it]\n"
     ]
    }
   ],
   "source": [
    "results = test_models(list_of_models, sources, targets)"
   ]
  },
  {
   "cell_type": "markdown",
   "metadata": {},
   "source": [
    "Append USAGI's reported results"
   ]
  },
  {
   "cell_type": "code",
   "execution_count": 54,
   "metadata": {},
   "outputs": [],
   "source": [
    "usagis = {\"plm\": 'USAGI', \"Top-1 match\": 0.42, \"Top-5 match\": 0.58, \"Top-10 match\": 0.62} # From toki paper\n",
    "results.append(usagis)"
   ]
  },
  {
   "cell_type": "code",
   "execution_count": 55,
   "metadata": {},
   "outputs": [
    {
     "data": {
      "text/html": [
       "<div>\n",
       "<style scoped>\n",
       "    .dataframe tbody tr th:only-of-type {\n",
       "        vertical-align: middle;\n",
       "    }\n",
       "\n",
       "    .dataframe tbody tr th {\n",
       "        vertical-align: top;\n",
       "    }\n",
       "\n",
       "    .dataframe thead th {\n",
       "        text-align: right;\n",
       "    }\n",
       "</style>\n",
       "<table border=\"1\" class=\"dataframe\">\n",
       "  <thead>\n",
       "    <tr style=\"text-align: right;\">\n",
       "      <th></th>\n",
       "      <th>plm</th>\n",
       "      <th>remote_code</th>\n",
       "      <th>Top-1 match</th>\n",
       "      <th>Top-5 match</th>\n",
       "      <th>Top-10 match</th>\n",
       "      <th>Total number of tests</th>\n",
       "      <th>Elapsed seconds</th>\n",
       "      <th>Predictions per second X 1000</th>\n",
       "    </tr>\n",
       "  </thead>\n",
       "  <tbody>\n",
       "    <tr>\n",
       "      <th>0</th>\n",
       "      <td>sentence-transformers/distiluse-base-multiling...</td>\n",
       "      <td>0.0</td>\n",
       "      <td>0.233573</td>\n",
       "      <td>0.446445</td>\n",
       "      <td>0.536004</td>\n",
       "      <td>2222.0</td>\n",
       "      <td>1.465041</td>\n",
       "      <td>1.516681</td>\n",
       "    </tr>\n",
       "    <tr>\n",
       "      <th>1</th>\n",
       "      <td>sentence-transformers/distiluse-base-multiling...</td>\n",
       "      <td>0.0</td>\n",
       "      <td>0.244824</td>\n",
       "      <td>0.439244</td>\n",
       "      <td>0.518902</td>\n",
       "      <td>2222.0</td>\n",
       "      <td>1.422760</td>\n",
       "      <td>1.561753</td>\n",
       "    </tr>\n",
       "    <tr>\n",
       "      <th>2</th>\n",
       "      <td>sentence-transformers/paraphrase-multilingual-...</td>\n",
       "      <td>0.0</td>\n",
       "      <td>0.365437</td>\n",
       "      <td>0.617462</td>\n",
       "      <td>0.680018</td>\n",
       "      <td>2222.0</td>\n",
       "      <td>2.086202</td>\n",
       "      <td>1.065093</td>\n",
       "    </tr>\n",
       "    <tr>\n",
       "      <th>3</th>\n",
       "      <td>sentence-transformers/paraphrase-multilingual-...</td>\n",
       "      <td>0.0</td>\n",
       "      <td>0.364986</td>\n",
       "      <td>0.607111</td>\n",
       "      <td>0.676868</td>\n",
       "      <td>2222.0</td>\n",
       "      <td>2.038171</td>\n",
       "      <td>1.090193</td>\n",
       "    </tr>\n",
       "    <tr>\n",
       "      <th>4</th>\n",
       "      <td>mixedbread-ai/mxbai-embed-large-v1__query_pref...</td>\n",
       "      <td>0.0</td>\n",
       "      <td>0.480198</td>\n",
       "      <td>0.761026</td>\n",
       "      <td>0.823582</td>\n",
       "      <td>2222.0</td>\n",
       "      <td>2.803631</td>\n",
       "      <td>0.792544</td>\n",
       "    </tr>\n",
       "    <tr>\n",
       "      <th>5</th>\n",
       "      <td>mixedbread-ai/mxbai-embed-large-v1__query_pref...</td>\n",
       "      <td>0.0</td>\n",
       "      <td>0.469847</td>\n",
       "      <td>0.737624</td>\n",
       "      <td>0.809181</td>\n",
       "      <td>2222.0</td>\n",
       "      <td>2.751335</td>\n",
       "      <td>0.807608</td>\n",
       "    </tr>\n",
       "    <tr>\n",
       "      <th>6</th>\n",
       "      <td>intfloat/multilingual-e5-small__query_prefix__</td>\n",
       "      <td>0.0</td>\n",
       "      <td>0.484248</td>\n",
       "      <td>0.714671</td>\n",
       "      <td>0.775878</td>\n",
       "      <td>2222.0</td>\n",
       "      <td>1.142786</td>\n",
       "      <td>1.944371</td>\n",
       "    </tr>\n",
       "    <tr>\n",
       "      <th>7</th>\n",
       "      <td>intfloat/multilingual-e5-small__query_prefix__...</td>\n",
       "      <td>0.0</td>\n",
       "      <td>0.479748</td>\n",
       "      <td>0.718722</td>\n",
       "      <td>0.784878</td>\n",
       "      <td>2222.0</td>\n",
       "      <td>1.154759</td>\n",
       "      <td>1.924211</td>\n",
       "    </tr>\n",
       "    <tr>\n",
       "      <th>8</th>\n",
       "      <td>intfloat/multilingual-e5-base__query_prefix__</td>\n",
       "      <td>0.0</td>\n",
       "      <td>0.471647</td>\n",
       "      <td>0.710171</td>\n",
       "      <td>0.777678</td>\n",
       "      <td>2222.0</td>\n",
       "      <td>2.056411</td>\n",
       "      <td>1.080523</td>\n",
       "    </tr>\n",
       "    <tr>\n",
       "      <th>9</th>\n",
       "      <td>intfloat/multilingual-e5-base__query_prefix__q...</td>\n",
       "      <td>0.0</td>\n",
       "      <td>0.469397</td>\n",
       "      <td>0.693069</td>\n",
       "      <td>0.763726</td>\n",
       "      <td>2222.0</td>\n",
       "      <td>2.052016</td>\n",
       "      <td>1.082838</td>\n",
       "    </tr>\n",
       "    <tr>\n",
       "      <th>10</th>\n",
       "      <td>intfloat/multilingual-e5-large__query_prefix__</td>\n",
       "      <td>0.0</td>\n",
       "      <td>0.500450</td>\n",
       "      <td>0.743024</td>\n",
       "      <td>0.805581</td>\n",
       "      <td>2222.0</td>\n",
       "      <td>2.793587</td>\n",
       "      <td>0.795393</td>\n",
       "    </tr>\n",
       "    <tr>\n",
       "      <th>11</th>\n",
       "      <td>intfloat/multilingual-e5-large__query_prefix__...</td>\n",
       "      <td>0.0</td>\n",
       "      <td>0.509001</td>\n",
       "      <td>0.733123</td>\n",
       "      <td>0.792979</td>\n",
       "      <td>2222.0</td>\n",
       "      <td>2.788705</td>\n",
       "      <td>0.796786</td>\n",
       "    </tr>\n",
       "    <tr>\n",
       "      <th>12</th>\n",
       "      <td>sentence-transformers/all-MiniLM-L6-v2__query_...</td>\n",
       "      <td>0.0</td>\n",
       "      <td>0.414491</td>\n",
       "      <td>0.682268</td>\n",
       "      <td>0.754275</td>\n",
       "      <td>2222.0</td>\n",
       "      <td>1.157990</td>\n",
       "      <td>1.918842</td>\n",
       "    </tr>\n",
       "    <tr>\n",
       "      <th>13</th>\n",
       "      <td>sentence-transformers/all-MiniLM-L6-v2__query_...</td>\n",
       "      <td>0.0</td>\n",
       "      <td>0.396940</td>\n",
       "      <td>0.654365</td>\n",
       "      <td>0.725023</td>\n",
       "      <td>2222.0</td>\n",
       "      <td>1.175839</td>\n",
       "      <td>1.889715</td>\n",
       "    </tr>\n",
       "    <tr>\n",
       "      <th>14</th>\n",
       "      <td>sentence-transformers/all-MiniLM-L12-v2__query...</td>\n",
       "      <td>0.0</td>\n",
       "      <td>0.432493</td>\n",
       "      <td>0.699820</td>\n",
       "      <td>0.765077</td>\n",
       "      <td>2222.0</td>\n",
       "      <td>1.153568</td>\n",
       "      <td>1.926198</td>\n",
       "    </tr>\n",
       "    <tr>\n",
       "      <th>15</th>\n",
       "      <td>sentence-transformers/all-MiniLM-L12-v2__query...</td>\n",
       "      <td>0.0</td>\n",
       "      <td>0.424842</td>\n",
       "      <td>0.676868</td>\n",
       "      <td>0.746175</td>\n",
       "      <td>2222.0</td>\n",
       "      <td>1.161286</td>\n",
       "      <td>1.913396</td>\n",
       "    </tr>\n",
       "    <tr>\n",
       "      <th>16</th>\n",
       "      <td>medicalai/ClinicalBERT__query_prefix__</td>\n",
       "      <td>0.0</td>\n",
       "      <td>0.285329</td>\n",
       "      <td>0.466247</td>\n",
       "      <td>0.527453</td>\n",
       "      <td>2222.0</td>\n",
       "      <td>2.121597</td>\n",
       "      <td>1.047324</td>\n",
       "    </tr>\n",
       "    <tr>\n",
       "      <th>17</th>\n",
       "      <td>medicalai/ClinicalBERT__query_prefix__query:</td>\n",
       "      <td>0.0</td>\n",
       "      <td>0.255626</td>\n",
       "      <td>0.421242</td>\n",
       "      <td>0.489649</td>\n",
       "      <td>2222.0</td>\n",
       "      <td>2.087973</td>\n",
       "      <td>1.064190</td>\n",
       "    </tr>\n",
       "    <tr>\n",
       "      <th>18</th>\n",
       "      <td>USAGI</td>\n",
       "      <td>NaN</td>\n",
       "      <td>0.420000</td>\n",
       "      <td>0.580000</td>\n",
       "      <td>0.620000</td>\n",
       "      <td>NaN</td>\n",
       "      <td>NaN</td>\n",
       "      <td>NaN</td>\n",
       "    </tr>\n",
       "  </tbody>\n",
       "</table>\n",
       "</div>"
      ],
      "text/plain": [
       "                                                  plm  remote_code  \\\n",
       "0   sentence-transformers/distiluse-base-multiling...          0.0   \n",
       "1   sentence-transformers/distiluse-base-multiling...          0.0   \n",
       "2   sentence-transformers/paraphrase-multilingual-...          0.0   \n",
       "3   sentence-transformers/paraphrase-multilingual-...          0.0   \n",
       "4   mixedbread-ai/mxbai-embed-large-v1__query_pref...          0.0   \n",
       "5   mixedbread-ai/mxbai-embed-large-v1__query_pref...          0.0   \n",
       "6      intfloat/multilingual-e5-small__query_prefix__          0.0   \n",
       "7   intfloat/multilingual-e5-small__query_prefix__...          0.0   \n",
       "8       intfloat/multilingual-e5-base__query_prefix__          0.0   \n",
       "9   intfloat/multilingual-e5-base__query_prefix__q...          0.0   \n",
       "10     intfloat/multilingual-e5-large__query_prefix__          0.0   \n",
       "11  intfloat/multilingual-e5-large__query_prefix__...          0.0   \n",
       "12  sentence-transformers/all-MiniLM-L6-v2__query_...          0.0   \n",
       "13  sentence-transformers/all-MiniLM-L6-v2__query_...          0.0   \n",
       "14  sentence-transformers/all-MiniLM-L12-v2__query...          0.0   \n",
       "15  sentence-transformers/all-MiniLM-L12-v2__query...          0.0   \n",
       "16             medicalai/ClinicalBERT__query_prefix__          0.0   \n",
       "17      medicalai/ClinicalBERT__query_prefix__query:           0.0   \n",
       "18                                              USAGI          NaN   \n",
       "\n",
       "    Top-1 match  Top-5 match  Top-10 match  Total number of tests  \\\n",
       "0      0.233573     0.446445      0.536004                 2222.0   \n",
       "1      0.244824     0.439244      0.518902                 2222.0   \n",
       "2      0.365437     0.617462      0.680018                 2222.0   \n",
       "3      0.364986     0.607111      0.676868                 2222.0   \n",
       "4      0.480198     0.761026      0.823582                 2222.0   \n",
       "5      0.469847     0.737624      0.809181                 2222.0   \n",
       "6      0.484248     0.714671      0.775878                 2222.0   \n",
       "7      0.479748     0.718722      0.784878                 2222.0   \n",
       "8      0.471647     0.710171      0.777678                 2222.0   \n",
       "9      0.469397     0.693069      0.763726                 2222.0   \n",
       "10     0.500450     0.743024      0.805581                 2222.0   \n",
       "11     0.509001     0.733123      0.792979                 2222.0   \n",
       "12     0.414491     0.682268      0.754275                 2222.0   \n",
       "13     0.396940     0.654365      0.725023                 2222.0   \n",
       "14     0.432493     0.699820      0.765077                 2222.0   \n",
       "15     0.424842     0.676868      0.746175                 2222.0   \n",
       "16     0.285329     0.466247      0.527453                 2222.0   \n",
       "17     0.255626     0.421242      0.489649                 2222.0   \n",
       "18     0.420000     0.580000      0.620000                    NaN   \n",
       "\n",
       "    Elapsed seconds  Predictions per second X 1000  \n",
       "0          1.465041                       1.516681  \n",
       "1          1.422760                       1.561753  \n",
       "2          2.086202                       1.065093  \n",
       "3          2.038171                       1.090193  \n",
       "4          2.803631                       0.792544  \n",
       "5          2.751335                       0.807608  \n",
       "6          1.142786                       1.944371  \n",
       "7          1.154759                       1.924211  \n",
       "8          2.056411                       1.080523  \n",
       "9          2.052016                       1.082838  \n",
       "10         2.793587                       0.795393  \n",
       "11         2.788705                       0.796786  \n",
       "12         1.157990                       1.918842  \n",
       "13         1.175839                       1.889715  \n",
       "14         1.153568                       1.926198  \n",
       "15         1.161286                       1.913396  \n",
       "16         2.121597                       1.047324  \n",
       "17         2.087973                       1.064190  \n",
       "18              NaN                            NaN  "
      ]
     },
     "execution_count": 55,
     "metadata": {},
     "output_type": "execute_result"
    }
   ],
   "source": [
    "import pandas as pd\n",
    "results_df = pd.DataFrame.from_dict(results)\n",
    "results_df"
   ]
  },
  {
   "cell_type": "markdown",
   "metadata": {},
   "source": [
    "Filter best performant pretrained models"
   ]
  },
  {
   "cell_type": "code",
   "execution_count": 57,
   "metadata": {},
   "outputs": [
    {
     "data": {
      "text/html": [
       "<div>\n",
       "<style scoped>\n",
       "    .dataframe tbody tr th:only-of-type {\n",
       "        vertical-align: middle;\n",
       "    }\n",
       "\n",
       "    .dataframe tbody tr th {\n",
       "        vertical-align: top;\n",
       "    }\n",
       "\n",
       "    .dataframe thead th {\n",
       "        text-align: right;\n",
       "    }\n",
       "</style>\n",
       "<table border=\"1\" class=\"dataframe\">\n",
       "  <thead>\n",
       "    <tr style=\"text-align: right;\">\n",
       "      <th></th>\n",
       "      <th>plm</th>\n",
       "      <th>remote_code</th>\n",
       "      <th>Top-1 match</th>\n",
       "      <th>Top-5 match</th>\n",
       "      <th>Top-10 match</th>\n",
       "      <th>Total number of tests</th>\n",
       "      <th>Elapsed seconds</th>\n",
       "      <th>Predictions per second X 1000</th>\n",
       "    </tr>\n",
       "  </thead>\n",
       "  <tbody>\n",
       "    <tr>\n",
       "      <th>11</th>\n",
       "      <td>intfloat/multilingual-e5-large__query_prefix__...</td>\n",
       "      <td>0.0</td>\n",
       "      <td>0.509001</td>\n",
       "      <td>0.733123</td>\n",
       "      <td>0.792979</td>\n",
       "      <td>2222.0</td>\n",
       "      <td>2.788705</td>\n",
       "      <td>0.796786</td>\n",
       "    </tr>\n",
       "    <tr>\n",
       "      <th>10</th>\n",
       "      <td>intfloat/multilingual-e5-large__query_prefix__</td>\n",
       "      <td>0.0</td>\n",
       "      <td>0.500450</td>\n",
       "      <td>0.743024</td>\n",
       "      <td>0.805581</td>\n",
       "      <td>2222.0</td>\n",
       "      <td>2.793587</td>\n",
       "      <td>0.795393</td>\n",
       "    </tr>\n",
       "    <tr>\n",
       "      <th>6</th>\n",
       "      <td>intfloat/multilingual-e5-small__query_prefix__</td>\n",
       "      <td>0.0</td>\n",
       "      <td>0.484248</td>\n",
       "      <td>0.714671</td>\n",
       "      <td>0.775878</td>\n",
       "      <td>2222.0</td>\n",
       "      <td>1.142786</td>\n",
       "      <td>1.944371</td>\n",
       "    </tr>\n",
       "    <tr>\n",
       "      <th>4</th>\n",
       "      <td>mixedbread-ai/mxbai-embed-large-v1__query_pref...</td>\n",
       "      <td>0.0</td>\n",
       "      <td>0.480198</td>\n",
       "      <td>0.761026</td>\n",
       "      <td>0.823582</td>\n",
       "      <td>2222.0</td>\n",
       "      <td>2.803631</td>\n",
       "      <td>0.792544</td>\n",
       "    </tr>\n",
       "    <tr>\n",
       "      <th>7</th>\n",
       "      <td>intfloat/multilingual-e5-small__query_prefix__...</td>\n",
       "      <td>0.0</td>\n",
       "      <td>0.479748</td>\n",
       "      <td>0.718722</td>\n",
       "      <td>0.784878</td>\n",
       "      <td>2222.0</td>\n",
       "      <td>1.154759</td>\n",
       "      <td>1.924211</td>\n",
       "    </tr>\n",
       "    <tr>\n",
       "      <th>8</th>\n",
       "      <td>intfloat/multilingual-e5-base__query_prefix__</td>\n",
       "      <td>0.0</td>\n",
       "      <td>0.471647</td>\n",
       "      <td>0.710171</td>\n",
       "      <td>0.777678</td>\n",
       "      <td>2222.0</td>\n",
       "      <td>2.056411</td>\n",
       "      <td>1.080523</td>\n",
       "    </tr>\n",
       "    <tr>\n",
       "      <th>5</th>\n",
       "      <td>mixedbread-ai/mxbai-embed-large-v1__query_pref...</td>\n",
       "      <td>0.0</td>\n",
       "      <td>0.469847</td>\n",
       "      <td>0.737624</td>\n",
       "      <td>0.809181</td>\n",
       "      <td>2222.0</td>\n",
       "      <td>2.751335</td>\n",
       "      <td>0.807608</td>\n",
       "    </tr>\n",
       "    <tr>\n",
       "      <th>9</th>\n",
       "      <td>intfloat/multilingual-e5-base__query_prefix__q...</td>\n",
       "      <td>0.0</td>\n",
       "      <td>0.469397</td>\n",
       "      <td>0.693069</td>\n",
       "      <td>0.763726</td>\n",
       "      <td>2222.0</td>\n",
       "      <td>2.052016</td>\n",
       "      <td>1.082838</td>\n",
       "    </tr>\n",
       "    <tr>\n",
       "      <th>14</th>\n",
       "      <td>sentence-transformers/all-MiniLM-L12-v2__query...</td>\n",
       "      <td>0.0</td>\n",
       "      <td>0.432493</td>\n",
       "      <td>0.699820</td>\n",
       "      <td>0.765077</td>\n",
       "      <td>2222.0</td>\n",
       "      <td>1.153568</td>\n",
       "      <td>1.926198</td>\n",
       "    </tr>\n",
       "    <tr>\n",
       "      <th>15</th>\n",
       "      <td>sentence-transformers/all-MiniLM-L12-v2__query...</td>\n",
       "      <td>0.0</td>\n",
       "      <td>0.424842</td>\n",
       "      <td>0.676868</td>\n",
       "      <td>0.746175</td>\n",
       "      <td>2222.0</td>\n",
       "      <td>1.161286</td>\n",
       "      <td>1.913396</td>\n",
       "    </tr>\n",
       "    <tr>\n",
       "      <th>18</th>\n",
       "      <td>USAGI</td>\n",
       "      <td>NaN</td>\n",
       "      <td>0.420000</td>\n",
       "      <td>0.580000</td>\n",
       "      <td>0.620000</td>\n",
       "      <td>NaN</td>\n",
       "      <td>NaN</td>\n",
       "      <td>NaN</td>\n",
       "    </tr>\n",
       "  </tbody>\n",
       "</table>\n",
       "</div>"
      ],
      "text/plain": [
       "                                                  plm  remote_code  \\\n",
       "11  intfloat/multilingual-e5-large__query_prefix__...          0.0   \n",
       "10     intfloat/multilingual-e5-large__query_prefix__          0.0   \n",
       "6      intfloat/multilingual-e5-small__query_prefix__          0.0   \n",
       "4   mixedbread-ai/mxbai-embed-large-v1__query_pref...          0.0   \n",
       "7   intfloat/multilingual-e5-small__query_prefix__...          0.0   \n",
       "8       intfloat/multilingual-e5-base__query_prefix__          0.0   \n",
       "5   mixedbread-ai/mxbai-embed-large-v1__query_pref...          0.0   \n",
       "9   intfloat/multilingual-e5-base__query_prefix__q...          0.0   \n",
       "14  sentence-transformers/all-MiniLM-L12-v2__query...          0.0   \n",
       "15  sentence-transformers/all-MiniLM-L12-v2__query...          0.0   \n",
       "18                                              USAGI          NaN   \n",
       "\n",
       "    Top-1 match  Top-5 match  Top-10 match  Total number of tests  \\\n",
       "11     0.509001     0.733123      0.792979                 2222.0   \n",
       "10     0.500450     0.743024      0.805581                 2222.0   \n",
       "6      0.484248     0.714671      0.775878                 2222.0   \n",
       "4      0.480198     0.761026      0.823582                 2222.0   \n",
       "7      0.479748     0.718722      0.784878                 2222.0   \n",
       "8      0.471647     0.710171      0.777678                 2222.0   \n",
       "5      0.469847     0.737624      0.809181                 2222.0   \n",
       "9      0.469397     0.693069      0.763726                 2222.0   \n",
       "14     0.432493     0.699820      0.765077                 2222.0   \n",
       "15     0.424842     0.676868      0.746175                 2222.0   \n",
       "18     0.420000     0.580000      0.620000                    NaN   \n",
       "\n",
       "    Elapsed seconds  Predictions per second X 1000  \n",
       "11         2.788705                       0.796786  \n",
       "10         2.793587                       0.795393  \n",
       "6          1.142786                       1.944371  \n",
       "4          2.803631                       0.792544  \n",
       "7          1.154759                       1.924211  \n",
       "8          2.056411                       1.080523  \n",
       "5          2.751335                       0.807608  \n",
       "9          2.052016                       1.082838  \n",
       "14         1.153568                       1.926198  \n",
       "15         1.161286                       1.913396  \n",
       "18              NaN                            NaN  "
      ]
     },
     "execution_count": 57,
     "metadata": {},
     "output_type": "execute_result"
    }
   ],
   "source": [
    "results_df = results_df.loc[\n",
    "    (results_df['Top-1 match'] >= usagis['Top-1 match']) &\n",
    "    (results_df['Top-5 match'] >= usagis['Top-5 match']) &\n",
    "    (results_df['Top-10 match'] >= usagis['Top-10 match']), :]\n",
    "\n",
    "results_df.sort_values(by=['Top-1 match', 'Top-5 match', 'Top-10 match'], ascending=False)"
   ]
  },
  {
   "cell_type": "code",
   "execution_count": 58,
   "metadata": {},
   "outputs": [],
   "source": [
    "results_df.drop(['Total number of tests'], axis=1, inplace=True)"
   ]
  },
  {
   "cell_type": "markdown",
   "metadata": {},
   "source": [
    "# Plot results"
   ]
  },
  {
   "cell_type": "code",
   "execution_count": 60,
   "metadata": {},
   "outputs": [
    {
     "data": {
      "application/vnd.plotly.v1+json": {
       "config": {
        "plotlyServerURL": "https://plot.ly"
       },
       "data": [
        {
         "dimensions": [
          {
           "constraintrange": [
            0,
            0
           ],
           "label": "remote_code",
           "range": [
            0,
            0
           ],
           "values": [
            0,
            0,
            0,
            0,
            0,
            0,
            0,
            0,
            0,
            0,
            0
           ]
          },
          {
           "constraintrange": [
            0.42,
            0.509000900090009
           ],
           "label": "Top-1 match",
           "range": [
            0.42,
            0.509000900090009
           ],
           "values": [
            0.4801980198019802,
            0.46984698469846986,
            0.48424842484248426,
            0.47974797479747977,
            0.47164716471647167,
            0.4693969396939694,
            0.5004500450045004,
            0.509000900090009,
            0.4324932493249325,
            0.42484248424842486,
            0.42
           ]
          },
          {
           "constraintrange": [
            0.58,
            0.761026102610261
           ],
           "label": "Top-5 match",
           "range": [
            0.58,
            0.761026102610261
           ],
           "values": [
            0.761026102610261,
            0.7376237623762376,
            0.7146714671467147,
            0.7187218721872187,
            0.7101710171017102,
            0.693069306930693,
            0.743024302430243,
            0.7331233123312331,
            0.6998199819981998,
            0.6768676867686768,
            0.58
           ]
          },
          {
           "constraintrange": [
            0.62,
            0.8235823582358236
           ],
           "label": "Top-10 match",
           "range": [
            0.62,
            0.8235823582358236
           ],
           "values": [
            0.8235823582358236,
            0.8091809180918091,
            0.7758775877587759,
            0.7848784878487849,
            0.7776777677767777,
            0.7637263726372637,
            0.8055805580558055,
            0.7929792979297929,
            0.7650765076507651,
            0.7461746174617462,
            0.62
           ]
          },
          {
           "constraintrange": [
            0,
            2.803630828857422
           ],
           "label": "Elapsed seconds",
           "range": [
            0,
            2.803630828857422
           ],
           "values": [
            2.803630828857422,
            2.7513349056243896,
            1.1427860260009766,
            1.154759168624878,
            2.056411027908325,
            2.052016019821167,
            2.7935869693756104,
            2.7887046337127686,
            1.1535677909851074,
            1.1612858772277832,
            0
           ]
          },
          {
           "constraintrange": [
            0,
            1.9443709928582038
           ],
           "label": "Predictions per second X 1000",
           "range": [
            0,
            1.9443709928582038
           ],
           "values": [
            0.7925437176425768,
            0.8076079707554679,
            1.9443709928582038,
            1.9242107448655503,
            1.0805232853959665,
            1.0828375502612535,
            0.7953931717030579,
            0.7967857094430681,
            1.926198024393944,
            1.9133962132600366,
            0
           ]
          },
          {
           "label": "plm",
           "range": [
            0,
            10
           ],
           "ticktext": [
            "mixedbread-ai/mxbai-embed-large-v1__query_prefix__",
            "mixedbread-ai/mxbai-embed-large-v1__query_prefix__query: ",
            "intfloat/multilingual-e5-small__query_prefix__",
            "intfloat/multilingual-e5-small__query_prefix__query: ",
            "intfloat/multilingual-e5-base__query_prefix__",
            "intfloat/multilingual-e5-base__query_prefix__query: ",
            "intfloat/multilingual-e5-large__query_prefix__",
            "intfloat/multilingual-e5-large__query_prefix__query: ",
            "sentence-transformers/all-MiniLM-L12-v2__query_prefix__",
            "sentence-transformers/all-MiniLM-L12-v2__query_prefix__query: ",
            "USAGI"
           ],
           "tickvals": [
            0,
            1,
            2,
            3,
            4,
            5,
            6,
            7,
            8,
            9,
            10
           ],
           "values": [
            0,
            1,
            2,
            3,
            4,
            5,
            6,
            7,
            8,
            9,
            10
           ]
          }
         ],
         "line": {
          "color": [
           0,
           1,
           2,
           3,
           4,
           5,
           6,
           7,
           8,
           9,
           10
          ],
          "colorscale": [
           [
            0,
            "rgba(99,110,250,0.9)"
           ],
           [
            0.1111111111111111,
            "rgba(239,85,59,0.9)"
           ],
           [
            0.2222222222222222,
            "rgba(0,204,150,0.9)"
           ],
           [
            0.3333333333333333,
            "rgba(171,99,250,0.9)"
           ],
           [
            0.4444444444444444,
            "rgba(255,161,90,0.9)"
           ],
           [
            0.5555555555555556,
            "rgba(25,211,243,0.9)"
           ],
           [
            0.6666666666666666,
            "rgba(255,102,146,0.9)"
           ],
           [
            0.7777777777777778,
            "rgba(182,232,128,0.9)"
           ],
           [
            0.8888888888888888,
            "rgba(255,151,255,0.9)"
           ],
           [
            1,
            "rgba(254,203,82,0.9)"
           ]
          ]
         },
         "type": "parcoords"
        }
       ],
       "layout": {
        "font": {
         "color": "Black",
         "family": "Sans-serif",
         "size": 15
        },
        "height": 500,
        "template": {
         "data": {
          "bar": [
           {
            "error_x": {
             "color": "#2a3f5f"
            },
            "error_y": {
             "color": "#2a3f5f"
            },
            "marker": {
             "line": {
              "color": "#E5ECF6",
              "width": 0.5
             },
             "pattern": {
              "fillmode": "overlay",
              "size": 10,
              "solidity": 0.2
             }
            },
            "type": "bar"
           }
          ],
          "barpolar": [
           {
            "marker": {
             "line": {
              "color": "#E5ECF6",
              "width": 0.5
             },
             "pattern": {
              "fillmode": "overlay",
              "size": 10,
              "solidity": 0.2
             }
            },
            "type": "barpolar"
           }
          ],
          "carpet": [
           {
            "aaxis": {
             "endlinecolor": "#2a3f5f",
             "gridcolor": "white",
             "linecolor": "white",
             "minorgridcolor": "white",
             "startlinecolor": "#2a3f5f"
            },
            "baxis": {
             "endlinecolor": "#2a3f5f",
             "gridcolor": "white",
             "linecolor": "white",
             "minorgridcolor": "white",
             "startlinecolor": "#2a3f5f"
            },
            "type": "carpet"
           }
          ],
          "choropleth": [
           {
            "colorbar": {
             "outlinewidth": 0,
             "ticks": ""
            },
            "type": "choropleth"
           }
          ],
          "contour": [
           {
            "colorbar": {
             "outlinewidth": 0,
             "ticks": ""
            },
            "colorscale": [
             [
              0,
              "#0d0887"
             ],
             [
              0.1111111111111111,
              "#46039f"
             ],
             [
              0.2222222222222222,
              "#7201a8"
             ],
             [
              0.3333333333333333,
              "#9c179e"
             ],
             [
              0.4444444444444444,
              "#bd3786"
             ],
             [
              0.5555555555555556,
              "#d8576b"
             ],
             [
              0.6666666666666666,
              "#ed7953"
             ],
             [
              0.7777777777777778,
              "#fb9f3a"
             ],
             [
              0.8888888888888888,
              "#fdca26"
             ],
             [
              1,
              "#f0f921"
             ]
            ],
            "type": "contour"
           }
          ],
          "contourcarpet": [
           {
            "colorbar": {
             "outlinewidth": 0,
             "ticks": ""
            },
            "type": "contourcarpet"
           }
          ],
          "heatmap": [
           {
            "colorbar": {
             "outlinewidth": 0,
             "ticks": ""
            },
            "colorscale": [
             [
              0,
              "#0d0887"
             ],
             [
              0.1111111111111111,
              "#46039f"
             ],
             [
              0.2222222222222222,
              "#7201a8"
             ],
             [
              0.3333333333333333,
              "#9c179e"
             ],
             [
              0.4444444444444444,
              "#bd3786"
             ],
             [
              0.5555555555555556,
              "#d8576b"
             ],
             [
              0.6666666666666666,
              "#ed7953"
             ],
             [
              0.7777777777777778,
              "#fb9f3a"
             ],
             [
              0.8888888888888888,
              "#fdca26"
             ],
             [
              1,
              "#f0f921"
             ]
            ],
            "type": "heatmap"
           }
          ],
          "heatmapgl": [
           {
            "colorbar": {
             "outlinewidth": 0,
             "ticks": ""
            },
            "colorscale": [
             [
              0,
              "#0d0887"
             ],
             [
              0.1111111111111111,
              "#46039f"
             ],
             [
              0.2222222222222222,
              "#7201a8"
             ],
             [
              0.3333333333333333,
              "#9c179e"
             ],
             [
              0.4444444444444444,
              "#bd3786"
             ],
             [
              0.5555555555555556,
              "#d8576b"
             ],
             [
              0.6666666666666666,
              "#ed7953"
             ],
             [
              0.7777777777777778,
              "#fb9f3a"
             ],
             [
              0.8888888888888888,
              "#fdca26"
             ],
             [
              1,
              "#f0f921"
             ]
            ],
            "type": "heatmapgl"
           }
          ],
          "histogram": [
           {
            "marker": {
             "pattern": {
              "fillmode": "overlay",
              "size": 10,
              "solidity": 0.2
             }
            },
            "type": "histogram"
           }
          ],
          "histogram2d": [
           {
            "colorbar": {
             "outlinewidth": 0,
             "ticks": ""
            },
            "colorscale": [
             [
              0,
              "#0d0887"
             ],
             [
              0.1111111111111111,
              "#46039f"
             ],
             [
              0.2222222222222222,
              "#7201a8"
             ],
             [
              0.3333333333333333,
              "#9c179e"
             ],
             [
              0.4444444444444444,
              "#bd3786"
             ],
             [
              0.5555555555555556,
              "#d8576b"
             ],
             [
              0.6666666666666666,
              "#ed7953"
             ],
             [
              0.7777777777777778,
              "#fb9f3a"
             ],
             [
              0.8888888888888888,
              "#fdca26"
             ],
             [
              1,
              "#f0f921"
             ]
            ],
            "type": "histogram2d"
           }
          ],
          "histogram2dcontour": [
           {
            "colorbar": {
             "outlinewidth": 0,
             "ticks": ""
            },
            "colorscale": [
             [
              0,
              "#0d0887"
             ],
             [
              0.1111111111111111,
              "#46039f"
             ],
             [
              0.2222222222222222,
              "#7201a8"
             ],
             [
              0.3333333333333333,
              "#9c179e"
             ],
             [
              0.4444444444444444,
              "#bd3786"
             ],
             [
              0.5555555555555556,
              "#d8576b"
             ],
             [
              0.6666666666666666,
              "#ed7953"
             ],
             [
              0.7777777777777778,
              "#fb9f3a"
             ],
             [
              0.8888888888888888,
              "#fdca26"
             ],
             [
              1,
              "#f0f921"
             ]
            ],
            "type": "histogram2dcontour"
           }
          ],
          "mesh3d": [
           {
            "colorbar": {
             "outlinewidth": 0,
             "ticks": ""
            },
            "type": "mesh3d"
           }
          ],
          "parcoords": [
           {
            "line": {
             "colorbar": {
              "outlinewidth": 0,
              "ticks": ""
             }
            },
            "type": "parcoords"
           }
          ],
          "pie": [
           {
            "automargin": true,
            "type": "pie"
           }
          ],
          "scatter": [
           {
            "fillpattern": {
             "fillmode": "overlay",
             "size": 10,
             "solidity": 0.2
            },
            "type": "scatter"
           }
          ],
          "scatter3d": [
           {
            "line": {
             "colorbar": {
              "outlinewidth": 0,
              "ticks": ""
             }
            },
            "marker": {
             "colorbar": {
              "outlinewidth": 0,
              "ticks": ""
             }
            },
            "type": "scatter3d"
           }
          ],
          "scattercarpet": [
           {
            "marker": {
             "colorbar": {
              "outlinewidth": 0,
              "ticks": ""
             }
            },
            "type": "scattercarpet"
           }
          ],
          "scattergeo": [
           {
            "marker": {
             "colorbar": {
              "outlinewidth": 0,
              "ticks": ""
             }
            },
            "type": "scattergeo"
           }
          ],
          "scattergl": [
           {
            "marker": {
             "colorbar": {
              "outlinewidth": 0,
              "ticks": ""
             }
            },
            "type": "scattergl"
           }
          ],
          "scattermapbox": [
           {
            "marker": {
             "colorbar": {
              "outlinewidth": 0,
              "ticks": ""
             }
            },
            "type": "scattermapbox"
           }
          ],
          "scatterpolar": [
           {
            "marker": {
             "colorbar": {
              "outlinewidth": 0,
              "ticks": ""
             }
            },
            "type": "scatterpolar"
           }
          ],
          "scatterpolargl": [
           {
            "marker": {
             "colorbar": {
              "outlinewidth": 0,
              "ticks": ""
             }
            },
            "type": "scatterpolargl"
           }
          ],
          "scatterternary": [
           {
            "marker": {
             "colorbar": {
              "outlinewidth": 0,
              "ticks": ""
             }
            },
            "type": "scatterternary"
           }
          ],
          "surface": [
           {
            "colorbar": {
             "outlinewidth": 0,
             "ticks": ""
            },
            "colorscale": [
             [
              0,
              "#0d0887"
             ],
             [
              0.1111111111111111,
              "#46039f"
             ],
             [
              0.2222222222222222,
              "#7201a8"
             ],
             [
              0.3333333333333333,
              "#9c179e"
             ],
             [
              0.4444444444444444,
              "#bd3786"
             ],
             [
              0.5555555555555556,
              "#d8576b"
             ],
             [
              0.6666666666666666,
              "#ed7953"
             ],
             [
              0.7777777777777778,
              "#fb9f3a"
             ],
             [
              0.8888888888888888,
              "#fdca26"
             ],
             [
              1,
              "#f0f921"
             ]
            ],
            "type": "surface"
           }
          ],
          "table": [
           {
            "cells": {
             "fill": {
              "color": "#EBF0F8"
             },
             "line": {
              "color": "white"
             }
            },
            "header": {
             "fill": {
              "color": "#C8D4E3"
             },
             "line": {
              "color": "white"
             }
            },
            "type": "table"
           }
          ]
         },
         "layout": {
          "annotationdefaults": {
           "arrowcolor": "#2a3f5f",
           "arrowhead": 0,
           "arrowwidth": 1
          },
          "autotypenumbers": "strict",
          "coloraxis": {
           "colorbar": {
            "outlinewidth": 0,
            "ticks": ""
           }
          },
          "colorscale": {
           "diverging": [
            [
             0,
             "#8e0152"
            ],
            [
             0.1,
             "#c51b7d"
            ],
            [
             0.2,
             "#de77ae"
            ],
            [
             0.3,
             "#f1b6da"
            ],
            [
             0.4,
             "#fde0ef"
            ],
            [
             0.5,
             "#f7f7f7"
            ],
            [
             0.6,
             "#e6f5d0"
            ],
            [
             0.7,
             "#b8e186"
            ],
            [
             0.8,
             "#7fbc41"
            ],
            [
             0.9,
             "#4d9221"
            ],
            [
             1,
             "#276419"
            ]
           ],
           "sequential": [
            [
             0,
             "#0d0887"
            ],
            [
             0.1111111111111111,
             "#46039f"
            ],
            [
             0.2222222222222222,
             "#7201a8"
            ],
            [
             0.3333333333333333,
             "#9c179e"
            ],
            [
             0.4444444444444444,
             "#bd3786"
            ],
            [
             0.5555555555555556,
             "#d8576b"
            ],
            [
             0.6666666666666666,
             "#ed7953"
            ],
            [
             0.7777777777777778,
             "#fb9f3a"
            ],
            [
             0.8888888888888888,
             "#fdca26"
            ],
            [
             1,
             "#f0f921"
            ]
           ],
           "sequentialminus": [
            [
             0,
             "#0d0887"
            ],
            [
             0.1111111111111111,
             "#46039f"
            ],
            [
             0.2222222222222222,
             "#7201a8"
            ],
            [
             0.3333333333333333,
             "#9c179e"
            ],
            [
             0.4444444444444444,
             "#bd3786"
            ],
            [
             0.5555555555555556,
             "#d8576b"
            ],
            [
             0.6666666666666666,
             "#ed7953"
            ],
            [
             0.7777777777777778,
             "#fb9f3a"
            ],
            [
             0.8888888888888888,
             "#fdca26"
            ],
            [
             1,
             "#f0f921"
            ]
           ]
          },
          "colorway": [
           "#636efa",
           "#EF553B",
           "#00cc96",
           "#ab63fa",
           "#FFA15A",
           "#19d3f3",
           "#FF6692",
           "#B6E880",
           "#FF97FF",
           "#FECB52"
          ],
          "font": {
           "color": "#2a3f5f"
          },
          "geo": {
           "bgcolor": "white",
           "lakecolor": "white",
           "landcolor": "#E5ECF6",
           "showlakes": true,
           "showland": true,
           "subunitcolor": "white"
          },
          "hoverlabel": {
           "align": "left"
          },
          "hovermode": "closest",
          "mapbox": {
           "style": "light"
          },
          "paper_bgcolor": "white",
          "plot_bgcolor": "#E5ECF6",
          "polar": {
           "angularaxis": {
            "gridcolor": "white",
            "linecolor": "white",
            "ticks": ""
           },
           "bgcolor": "#E5ECF6",
           "radialaxis": {
            "gridcolor": "white",
            "linecolor": "white",
            "ticks": ""
           }
          },
          "scene": {
           "xaxis": {
            "backgroundcolor": "#E5ECF6",
            "gridcolor": "white",
            "gridwidth": 2,
            "linecolor": "white",
            "showbackground": true,
            "ticks": "",
            "zerolinecolor": "white"
           },
           "yaxis": {
            "backgroundcolor": "#E5ECF6",
            "gridcolor": "white",
            "gridwidth": 2,
            "linecolor": "white",
            "showbackground": true,
            "ticks": "",
            "zerolinecolor": "white"
           },
           "zaxis": {
            "backgroundcolor": "#E5ECF6",
            "gridcolor": "white",
            "gridwidth": 2,
            "linecolor": "white",
            "showbackground": true,
            "ticks": "",
            "zerolinecolor": "white"
           }
          },
          "shapedefaults": {
           "line": {
            "color": "#2a3f5f"
           }
          },
          "ternary": {
           "aaxis": {
            "gridcolor": "white",
            "linecolor": "white",
            "ticks": ""
           },
           "baxis": {
            "gridcolor": "white",
            "linecolor": "white",
            "ticks": ""
           },
           "bgcolor": "#E5ECF6",
           "caxis": {
            "gridcolor": "white",
            "linecolor": "white",
            "ticks": ""
           }
          },
          "title": {
           "x": 0.05
          },
          "xaxis": {
           "automargin": true,
           "gridcolor": "white",
           "linecolor": "white",
           "ticks": "",
           "title": {
            "standoff": 15
           },
           "zerolinecolor": "white",
           "zerolinewidth": 2
          },
          "yaxis": {
           "automargin": true,
           "gridcolor": "white",
           "linecolor": "white",
           "ticks": "",
           "title": {
            "standoff": 15
           },
           "zerolinecolor": "white",
           "zerolinewidth": 2
          }
         }
        },
        "title": {
         "text": "plm eval"
        },
        "width": 1200
       }
      }
     },
     "metadata": {},
     "output_type": "display_data"
    }
   ],
   "source": [
    "\n",
    "parallel(results_df, label='plm')         "
   ]
  },
  {
   "cell_type": "markdown",
   "metadata": {},
   "source": [
    "# Conclusions\n",
    "\n",
    "We can see that through this approach we can easily beat USAGI's reported performance (values from the literature - TOKI paper). \n",
    "\n",
    "Another curious finding is that bigger is not obviously better. This actually makes sense, since by raising the amount of dimensions, although more information is being captured, the points in space start to become equally distant to each other, so the gains in information don't translate equally to discriminant power. As an example, `multilingual-e5-small` maps tokens to a 384 dimensional vector while `multilingual-e5-large` maps to a 1024 dimensional one. It presents only a very slight improvement at the cost of ram and inference speed. For now the small one seems to be the best suited for a first POC, but these results can be marginally incresed with a bigger one in the future. "
   ]
  }
 ],
 "metadata": {
  "kernelspec": {
   "display_name": "vocab",
   "language": "python",
   "name": "python3"
  },
  "language_info": {
   "codemirror_mode": {
    "name": "ipython",
    "version": 3
   },
   "file_extension": ".py",
   "mimetype": "text/x-python",
   "name": "python",
   "nbconvert_exporter": "python",
   "pygments_lexer": "ipython3",
   "version": "3.12.2"
  }
 },
 "nbformat": 4,
 "nbformat_minor": 2
}
