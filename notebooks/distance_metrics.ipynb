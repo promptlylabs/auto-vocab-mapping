{
 "cells": [
  {
   "cell_type": "markdown",
   "metadata": {},
   "source": [
    "# Distance Metrics tests "
   ]
  },
  {
   "cell_type": "markdown",
   "metadata": {},
   "source": [
    "### Can skip this middle part - just to remember where the embeddings came from\n",
    "___"
   ]
  },
  {
   "cell_type": "code",
   "execution_count": 1,
   "metadata": {},
   "outputs": [],
   "source": [
    "import pickle\n",
    "\n",
    "with open('../lib/artifacts/dicts/sources.pickle', 'rb') as handle:\n",
    "    sources_dict = pickle.load(handle)\n",
    "\n",
    "with open('../lib/artifacts/dicts/targets.pickle', 'rb') as handle:\n",
    "    targets_dict = pickle.load(handle)"
   ]
  },
  {
   "cell_type": "code",
   "execution_count": 2,
   "metadata": {},
   "outputs": [],
   "source": [
    "sources = [('query: ' + v) for k, v in sources_dict.items()]\n",
    "targets = [('query: ' + v) for k, v in targets_dict.items()]"
   ]
  },
  {
   "cell_type": "code",
   "execution_count": 3,
   "metadata": {},
   "outputs": [],
   "source": [
    "import os\n",
    "os.environ[\"TOKENIZERS_PARALLELISM\"] = \"true\""
   ]
  },
  {
   "cell_type": "code",
   "execution_count": 4,
   "metadata": {},
   "outputs": [],
   "source": [
    "from sentence_transformers import SentenceTransformer\n",
    "\n",
    "plm = 'intfloat/multilingual-e5-small'\n",
    "\n",
    "model = SentenceTransformer(plm, trust_remote_code=False)\n",
    "\n",
    "# Encode\n",
    "sources_emb = model.encode(sources, normalize_embeddings=True)\n",
    "targets_emb = model.encode(targets, normalize_embeddings=True)"
   ]
  },
  {
   "cell_type": "code",
   "execution_count": 5,
   "metadata": {},
   "outputs": [],
   "source": [
    "import pickle \n",
    "\n",
    "with open('../lib/artifacts/dicts/sources_emb.pickle', 'wb') as handle:\n",
    "    pickle.dump(dict(zip(range(len(sources_emb)), sources_emb)), handle, protocol=pickle.HIGHEST_PROTOCOL)\n",
    "with open('../lib/artifacts/dicts/targets_emb.pickle', 'wb') as handle:\n",
    "    pickle.dump(dict(zip(range(len(targets_emb)), targets_emb)), handle, protocol=pickle.HIGHEST_PROTOCOL)"
   ]
  },
  {
   "cell_type": "markdown",
   "metadata": {},
   "source": [
    "___"
   ]
  },
  {
   "cell_type": "markdown",
   "metadata": {},
   "source": [
    "### Load embeddings from index-matched sources and targets"
   ]
  },
  {
   "cell_type": "code",
   "execution_count": 1,
   "metadata": {},
   "outputs": [],
   "source": [
    "import pickle\n",
    "\n",
    "with open('../lib/artifacts/dicts/sources_emb.pickle', 'rb') as handle:\n",
    "    sources_dict = pickle.load(handle)\n",
    "with open('../lib/artifacts/dicts/targets_emb.pickle', 'rb') as handle:\n",
    "    targets_dict = pickle.load(handle)"
   ]
  },
  {
   "cell_type": "code",
   "execution_count": 2,
   "metadata": {},
   "outputs": [],
   "source": [
    "import numpy as np\n",
    "sources_emb = np.array([v for v in sources_dict.values()])\n",
    "targets_emb = np.array([v for v in targets_dict.values()])"
   ]
  },
  {
   "cell_type": "code",
   "execution_count": 3,
   "metadata": {},
   "outputs": [],
   "source": [
    "import sys\n",
    "sys.path.insert(0, '..') # add parent folder path"
   ]
  },
  {
   "cell_type": "code",
   "execution_count": 9,
   "metadata": {},
   "outputs": [
    {
     "name": "stderr",
     "output_type": "stream",
     "text": [
      "Evaluating available metrics:  29%|██▊       | 2/7 [00:00<00:00, 10.92it/s]"
     ]
    },
    {
     "name": "stdout",
     "output_type": "stream",
     "text": [
      "normalizing\n"
     ]
    },
    {
     "name": "stderr",
     "output_type": "stream",
     "text": [
      "Evaluating available metrics:  71%|███████▏  | 5/7 [00:00<00:00,  6.25it/s]"
     ]
    },
    {
     "name": "stdout",
     "output_type": "stream",
     "text": [
      "HNSWFlat\n"
     ]
    },
    {
     "name": "stderr",
     "output_type": "stream",
     "text": [
      "Evaluating available metrics: 100%|██████████| 7/7 [00:01<00:00,  5.63it/s]\n"
     ]
    }
   ],
   "source": [
    "from time import time\n",
    "from tqdm import tqdm\n",
    "import faiss\n",
    "from distance_metrics import batch_compute_distances, batch_compute_kd_trees, evaluate_index_matched_results\n",
    "\n",
    "metrics = {\n",
    "           \"Inner Product\": faiss.METRIC_INNER_PRODUCT, \n",
    "           \"L2\": faiss.METRIC_L2, # Squared Euclidean\n",
    "           \"L1\": faiss.METRIC_L1, # Manhatan\n",
    "           \"Linf\": faiss.METRIC_Linf, # infinity distance\n",
    "           \"Camberra\": faiss.METRIC_Canberra,\n",
    "           # \"JensenShannon\": faiss.METRIC_JensenShannon, # NOTE: This is to be used between two probability arrays. So it doesn't make sense in this case.   \n",
    "           # \"Jaccard\": faiss.METRIC_Jaccard, # NOTE: This is not working properly \n",
    "           \"HNSWFlat\": \"HNSWFlat\",\n",
    "           \"KD-Trees\": \"KD-Trees\"\n",
    "}\n",
    "\n",
    "results_dict = []\n",
    "\n",
    "for m, metric in tqdm(metrics.items(), desc=\"Evaluating available metrics\"):\n",
    "\n",
    "    # Track results\n",
    "    top1 = 0\n",
    "    top5 = 0\n",
    "    top10 = 0\n",
    "    total = len(sources_emb)\n",
    "\n",
    "    # Track Encoding Time\n",
    "    start = time()\n",
    "\n",
    "    # Compute distances\n",
    "    if metric == \"KD-Trees\":\n",
    "        distance, index = batch_compute_kd_trees(feature_space=targets_emb, query=sources_emb, k=10)\n",
    "    else: distance, index = batch_compute_distances(targets_emb, sources_emb, metric, m=100, k=10)\n",
    "\n",
    "    # Compute time\n",
    "    end = time()\n",
    "    elapsed_seconds = end - start\n",
    "\n",
    "    # Evaluate results\n",
    "    evaluate = evaluate_index_matched_results(index)\n",
    "    evaluate['metric'] = m\n",
    "    evaluate['n_tests'] = total\n",
    "    evaluate['elapsed_seconds'] = elapsed_seconds\n",
    "    evaluate['preds_per_second_X1000'] = total/elapsed_seconds/1000\n",
    "\n",
    "    results_dict.append(\n",
    "        evaluate\n",
    "    )"
   ]
  },
  {
   "cell_type": "code",
   "execution_count": 11,
   "metadata": {},
   "outputs": [
    {
     "data": {
      "text/html": [
       "<div>\n",
       "<style scoped>\n",
       "    .dataframe tbody tr th:only-of-type {\n",
       "        vertical-align: middle;\n",
       "    }\n",
       "\n",
       "    .dataframe tbody tr th {\n",
       "        vertical-align: top;\n",
       "    }\n",
       "\n",
       "    .dataframe thead th {\n",
       "        text-align: right;\n",
       "    }\n",
       "</style>\n",
       "<table border=\"1\" class=\"dataframe\">\n",
       "  <thead>\n",
       "    <tr style=\"text-align: right;\">\n",
       "      <th></th>\n",
       "      <th>top1</th>\n",
       "      <th>top5</th>\n",
       "      <th>top10</th>\n",
       "      <th>metric</th>\n",
       "      <th>n_tests</th>\n",
       "      <th>elapsed_seconds</th>\n",
       "      <th>preds_per_second_X1000</th>\n",
       "    </tr>\n",
       "  </thead>\n",
       "  <tbody>\n",
       "    <tr>\n",
       "      <th>0</th>\n",
       "      <td>0.479748</td>\n",
       "      <td>0.719622</td>\n",
       "      <td>0.783978</td>\n",
       "      <td>Inner Product</td>\n",
       "      <td>2222</td>\n",
       "      <td>0.073986</td>\n",
       "      <td>30.032687</td>\n",
       "    </tr>\n",
       "    <tr>\n",
       "      <th>1</th>\n",
       "      <td>0.477498</td>\n",
       "      <td>0.718272</td>\n",
       "      <td>0.784878</td>\n",
       "      <td>L2</td>\n",
       "      <td>2222</td>\n",
       "      <td>0.080597</td>\n",
       "      <td>27.569209</td>\n",
       "    </tr>\n",
       "    <tr>\n",
       "      <th>2</th>\n",
       "      <td>0.482898</td>\n",
       "      <td>0.719622</td>\n",
       "      <td>0.776328</td>\n",
       "      <td>L1</td>\n",
       "      <td>2222</td>\n",
       "      <td>0.256344</td>\n",
       "      <td>8.668045</td>\n",
       "    </tr>\n",
       "    <tr>\n",
       "      <th>3</th>\n",
       "      <td>0.282628</td>\n",
       "      <td>0.454095</td>\n",
       "      <td>0.513501</td>\n",
       "      <td>Linf</td>\n",
       "      <td>2222</td>\n",
       "      <td>0.124348</td>\n",
       "      <td>17.869217</td>\n",
       "    </tr>\n",
       "    <tr>\n",
       "      <th>4</th>\n",
       "      <td>0.427543</td>\n",
       "      <td>0.665167</td>\n",
       "      <td>0.725023</td>\n",
       "      <td>Camberra</td>\n",
       "      <td>2222</td>\n",
       "      <td>0.168074</td>\n",
       "      <td>13.220357</td>\n",
       "    </tr>\n",
       "    <tr>\n",
       "      <th>5</th>\n",
       "      <td>0.437894</td>\n",
       "      <td>0.655266</td>\n",
       "      <td>0.713771</td>\n",
       "      <td>HNSWFlat</td>\n",
       "      <td>2222</td>\n",
       "      <td>0.023146</td>\n",
       "      <td>95.998676</td>\n",
       "    </tr>\n",
       "    <tr>\n",
       "      <th>6</th>\n",
       "      <td>0.474797</td>\n",
       "      <td>0.718722</td>\n",
       "      <td>0.786679</td>\n",
       "      <td>KD-Trees</td>\n",
       "      <td>2222</td>\n",
       "      <td>0.457060</td>\n",
       "      <td>4.861508</td>\n",
       "    </tr>\n",
       "  </tbody>\n",
       "</table>\n",
       "</div>"
      ],
      "text/plain": [
       "       top1      top5     top10         metric  n_tests  elapsed_seconds  \\\n",
       "0  0.479748  0.719622  0.783978  Inner Product     2222         0.073986   \n",
       "1  0.477498  0.718272  0.784878             L2     2222         0.080597   \n",
       "2  0.482898  0.719622  0.776328             L1     2222         0.256344   \n",
       "3  0.282628  0.454095  0.513501           Linf     2222         0.124348   \n",
       "4  0.427543  0.665167  0.725023       Camberra     2222         0.168074   \n",
       "5  0.437894  0.655266  0.713771       HNSWFlat     2222         0.023146   \n",
       "6  0.474797  0.718722  0.786679       KD-Trees     2222         0.457060   \n",
       "\n",
       "   preds_per_second_X1000  \n",
       "0               30.032687  \n",
       "1               27.569209  \n",
       "2                8.668045  \n",
       "3               17.869217  \n",
       "4               13.220357  \n",
       "5               95.998676  \n",
       "6                4.861508  "
      ]
     },
     "execution_count": 11,
     "metadata": {},
     "output_type": "execute_result"
    }
   ],
   "source": [
    "import pandas as pd\n",
    "results_df = pd.DataFrame.from_dict(results_dict)\n",
    "results_df"
   ]
  },
  {
   "cell_type": "code",
   "execution_count": 13,
   "metadata": {},
   "outputs": [
    {
     "data": {
      "text/plain": [
       "['top1',\n",
       " 'top5',\n",
       " 'top10',\n",
       " 'metric',\n",
       " 'n_tests',\n",
       " 'elapsed_seconds',\n",
       " 'preds_per_second_X1000']"
      ]
     },
     "execution_count": 13,
     "metadata": {},
     "output_type": "execute_result"
    }
   ],
   "source": [
    "results_df.columns.tolist()"
   ]
  },
  {
   "cell_type": "code",
   "execution_count": 25,
   "metadata": {},
   "outputs": [],
   "source": [
    "from utils.plotting import parallel"
   ]
  },
  {
   "cell_type": "code",
   "execution_count": 23,
   "metadata": {},
   "outputs": [],
   "source": [
    "results_df.drop(['n_tests'], axis=1, inplace=True)"
   ]
  },
  {
   "cell_type": "code",
   "execution_count": 24,
   "metadata": {},
   "outputs": [
    {
     "data": {
      "application/vnd.plotly.v1+json": {
       "config": {
        "plotlyServerURL": "https://plot.ly"
       },
       "data": [
        {
         "dimensions": [
          {
           "constraintrange": [
            0.2826282628262826,
            0.4828982898289829
           ],
           "label": "top1",
           "range": [
            0.2826282628262826,
            0.4828982898289829
           ],
           "values": [
            0.47974797479747977,
            0.4774977497749775,
            0.4828982898289829,
            0.2826282628262826,
            0.42754275427542754,
            0.4378937893789379,
            0.4747974797479748
           ]
          },
          {
           "constraintrange": [
            0.4540954095409541,
            0.7196219621962197
           ],
           "label": "top5",
           "range": [
            0.4540954095409541,
            0.7196219621962197
           ],
           "values": [
            0.7196219621962197,
            0.7182718271827183,
            0.7196219621962197,
            0.4540954095409541,
            0.6651665166516652,
            0.6552655265526552,
            0.7187218721872187
           ]
          },
          {
           "constraintrange": [
            0.5135013501350135,
            0.7866786678667866
           ],
           "label": "top10",
           "range": [
            0.5135013501350135,
            0.7866786678667866
           ],
           "values": [
            0.783978397839784,
            0.7848784878487849,
            0.7763276327632763,
            0.5135013501350135,
            0.725022502250225,
            0.7137713771377138,
            0.7866786678667866
           ]
          },
          {
           "constraintrange": [
            0.02314615249633789,
            0.4570598602294922
           ],
           "label": "elapsed_seconds",
           "range": [
            0.02314615249633789,
            0.4570598602294922
           ],
           "values": [
            0.07398605346679688,
            0.0805971622467041,
            0.2563438415527344,
            0.12434792518615723,
            0.1680741310119629,
            0.02314615249633789,
            0.4570598602294922
           ]
          },
          {
           "constraintrange": [
            4.861507634654949,
            95.99867625306442
           ],
           "label": "preds_per_second_X1000",
           "range": [
            4.861507634654949,
            95.99867625306442
           ],
           "values": [
            30.032687187419437,
            27.56920886617029,
            8.668045179243737,
            17.869216528329815,
            13.220356914068152,
            95.99867625306442,
            4.861507634654949
           ]
          },
          {
           "label": "metric",
           "range": [
            0,
            6
           ],
           "ticktext": [
            "Inner Product",
            "L2",
            "L1",
            "Linf",
            "Camberra",
            "HNSWFlat",
            "KD-Trees"
           ],
           "tickvals": [
            0,
            1,
            2,
            3,
            4,
            5,
            6
           ],
           "values": [
            0,
            1,
            2,
            3,
            4,
            5,
            6
           ]
          }
         ],
         "line": {
          "color": [
           0,
           1,
           2,
           3,
           4,
           5,
           6
          ],
          "colorscale": [
           [
            0,
            "rgba(99,110,250,0.9)"
           ],
           [
            0.1111111111111111,
            "rgba(239,85,59,0.9)"
           ],
           [
            0.2222222222222222,
            "rgba(0,204,150,0.9)"
           ],
           [
            0.3333333333333333,
            "rgba(171,99,250,0.9)"
           ],
           [
            0.4444444444444444,
            "rgba(255,161,90,0.9)"
           ],
           [
            0.5555555555555556,
            "rgba(25,211,243,0.9)"
           ],
           [
            0.6666666666666666,
            "rgba(255,102,146,0.9)"
           ],
           [
            0.7777777777777778,
            "rgba(182,232,128,0.9)"
           ],
           [
            0.8888888888888888,
            "rgba(255,151,255,0.9)"
           ],
           [
            1,
            "rgba(254,203,82,0.9)"
           ]
          ]
         },
         "type": "parcoords"
        }
       ],
       "layout": {
        "font": {
         "color": "Black",
         "family": "Sans-serif",
         "size": 13
        },
        "template": {
         "data": {
          "bar": [
           {
            "error_x": {
             "color": "#2a3f5f"
            },
            "error_y": {
             "color": "#2a3f5f"
            },
            "marker": {
             "line": {
              "color": "#E5ECF6",
              "width": 0.5
             },
             "pattern": {
              "fillmode": "overlay",
              "size": 10,
              "solidity": 0.2
             }
            },
            "type": "bar"
           }
          ],
          "barpolar": [
           {
            "marker": {
             "line": {
              "color": "#E5ECF6",
              "width": 0.5
             },
             "pattern": {
              "fillmode": "overlay",
              "size": 10,
              "solidity": 0.2
             }
            },
            "type": "barpolar"
           }
          ],
          "carpet": [
           {
            "aaxis": {
             "endlinecolor": "#2a3f5f",
             "gridcolor": "white",
             "linecolor": "white",
             "minorgridcolor": "white",
             "startlinecolor": "#2a3f5f"
            },
            "baxis": {
             "endlinecolor": "#2a3f5f",
             "gridcolor": "white",
             "linecolor": "white",
             "minorgridcolor": "white",
             "startlinecolor": "#2a3f5f"
            },
            "type": "carpet"
           }
          ],
          "choropleth": [
           {
            "colorbar": {
             "outlinewidth": 0,
             "ticks": ""
            },
            "type": "choropleth"
           }
          ],
          "contour": [
           {
            "colorbar": {
             "outlinewidth": 0,
             "ticks": ""
            },
            "colorscale": [
             [
              0,
              "#0d0887"
             ],
             [
              0.1111111111111111,
              "#46039f"
             ],
             [
              0.2222222222222222,
              "#7201a8"
             ],
             [
              0.3333333333333333,
              "#9c179e"
             ],
             [
              0.4444444444444444,
              "#bd3786"
             ],
             [
              0.5555555555555556,
              "#d8576b"
             ],
             [
              0.6666666666666666,
              "#ed7953"
             ],
             [
              0.7777777777777778,
              "#fb9f3a"
             ],
             [
              0.8888888888888888,
              "#fdca26"
             ],
             [
              1,
              "#f0f921"
             ]
            ],
            "type": "contour"
           }
          ],
          "contourcarpet": [
           {
            "colorbar": {
             "outlinewidth": 0,
             "ticks": ""
            },
            "type": "contourcarpet"
           }
          ],
          "heatmap": [
           {
            "colorbar": {
             "outlinewidth": 0,
             "ticks": ""
            },
            "colorscale": [
             [
              0,
              "#0d0887"
             ],
             [
              0.1111111111111111,
              "#46039f"
             ],
             [
              0.2222222222222222,
              "#7201a8"
             ],
             [
              0.3333333333333333,
              "#9c179e"
             ],
             [
              0.4444444444444444,
              "#bd3786"
             ],
             [
              0.5555555555555556,
              "#d8576b"
             ],
             [
              0.6666666666666666,
              "#ed7953"
             ],
             [
              0.7777777777777778,
              "#fb9f3a"
             ],
             [
              0.8888888888888888,
              "#fdca26"
             ],
             [
              1,
              "#f0f921"
             ]
            ],
            "type": "heatmap"
           }
          ],
          "heatmapgl": [
           {
            "colorbar": {
             "outlinewidth": 0,
             "ticks": ""
            },
            "colorscale": [
             [
              0,
              "#0d0887"
             ],
             [
              0.1111111111111111,
              "#46039f"
             ],
             [
              0.2222222222222222,
              "#7201a8"
             ],
             [
              0.3333333333333333,
              "#9c179e"
             ],
             [
              0.4444444444444444,
              "#bd3786"
             ],
             [
              0.5555555555555556,
              "#d8576b"
             ],
             [
              0.6666666666666666,
              "#ed7953"
             ],
             [
              0.7777777777777778,
              "#fb9f3a"
             ],
             [
              0.8888888888888888,
              "#fdca26"
             ],
             [
              1,
              "#f0f921"
             ]
            ],
            "type": "heatmapgl"
           }
          ],
          "histogram": [
           {
            "marker": {
             "pattern": {
              "fillmode": "overlay",
              "size": 10,
              "solidity": 0.2
             }
            },
            "type": "histogram"
           }
          ],
          "histogram2d": [
           {
            "colorbar": {
             "outlinewidth": 0,
             "ticks": ""
            },
            "colorscale": [
             [
              0,
              "#0d0887"
             ],
             [
              0.1111111111111111,
              "#46039f"
             ],
             [
              0.2222222222222222,
              "#7201a8"
             ],
             [
              0.3333333333333333,
              "#9c179e"
             ],
             [
              0.4444444444444444,
              "#bd3786"
             ],
             [
              0.5555555555555556,
              "#d8576b"
             ],
             [
              0.6666666666666666,
              "#ed7953"
             ],
             [
              0.7777777777777778,
              "#fb9f3a"
             ],
             [
              0.8888888888888888,
              "#fdca26"
             ],
             [
              1,
              "#f0f921"
             ]
            ],
            "type": "histogram2d"
           }
          ],
          "histogram2dcontour": [
           {
            "colorbar": {
             "outlinewidth": 0,
             "ticks": ""
            },
            "colorscale": [
             [
              0,
              "#0d0887"
             ],
             [
              0.1111111111111111,
              "#46039f"
             ],
             [
              0.2222222222222222,
              "#7201a8"
             ],
             [
              0.3333333333333333,
              "#9c179e"
             ],
             [
              0.4444444444444444,
              "#bd3786"
             ],
             [
              0.5555555555555556,
              "#d8576b"
             ],
             [
              0.6666666666666666,
              "#ed7953"
             ],
             [
              0.7777777777777778,
              "#fb9f3a"
             ],
             [
              0.8888888888888888,
              "#fdca26"
             ],
             [
              1,
              "#f0f921"
             ]
            ],
            "type": "histogram2dcontour"
           }
          ],
          "mesh3d": [
           {
            "colorbar": {
             "outlinewidth": 0,
             "ticks": ""
            },
            "type": "mesh3d"
           }
          ],
          "parcoords": [
           {
            "line": {
             "colorbar": {
              "outlinewidth": 0,
              "ticks": ""
             }
            },
            "type": "parcoords"
           }
          ],
          "pie": [
           {
            "automargin": true,
            "type": "pie"
           }
          ],
          "scatter": [
           {
            "fillpattern": {
             "fillmode": "overlay",
             "size": 10,
             "solidity": 0.2
            },
            "type": "scatter"
           }
          ],
          "scatter3d": [
           {
            "line": {
             "colorbar": {
              "outlinewidth": 0,
              "ticks": ""
             }
            },
            "marker": {
             "colorbar": {
              "outlinewidth": 0,
              "ticks": ""
             }
            },
            "type": "scatter3d"
           }
          ],
          "scattercarpet": [
           {
            "marker": {
             "colorbar": {
              "outlinewidth": 0,
              "ticks": ""
             }
            },
            "type": "scattercarpet"
           }
          ],
          "scattergeo": [
           {
            "marker": {
             "colorbar": {
              "outlinewidth": 0,
              "ticks": ""
             }
            },
            "type": "scattergeo"
           }
          ],
          "scattergl": [
           {
            "marker": {
             "colorbar": {
              "outlinewidth": 0,
              "ticks": ""
             }
            },
            "type": "scattergl"
           }
          ],
          "scattermapbox": [
           {
            "marker": {
             "colorbar": {
              "outlinewidth": 0,
              "ticks": ""
             }
            },
            "type": "scattermapbox"
           }
          ],
          "scatterpolar": [
           {
            "marker": {
             "colorbar": {
              "outlinewidth": 0,
              "ticks": ""
             }
            },
            "type": "scatterpolar"
           }
          ],
          "scatterpolargl": [
           {
            "marker": {
             "colorbar": {
              "outlinewidth": 0,
              "ticks": ""
             }
            },
            "type": "scatterpolargl"
           }
          ],
          "scatterternary": [
           {
            "marker": {
             "colorbar": {
              "outlinewidth": 0,
              "ticks": ""
             }
            },
            "type": "scatterternary"
           }
          ],
          "surface": [
           {
            "colorbar": {
             "outlinewidth": 0,
             "ticks": ""
            },
            "colorscale": [
             [
              0,
              "#0d0887"
             ],
             [
              0.1111111111111111,
              "#46039f"
             ],
             [
              0.2222222222222222,
              "#7201a8"
             ],
             [
              0.3333333333333333,
              "#9c179e"
             ],
             [
              0.4444444444444444,
              "#bd3786"
             ],
             [
              0.5555555555555556,
              "#d8576b"
             ],
             [
              0.6666666666666666,
              "#ed7953"
             ],
             [
              0.7777777777777778,
              "#fb9f3a"
             ],
             [
              0.8888888888888888,
              "#fdca26"
             ],
             [
              1,
              "#f0f921"
             ]
            ],
            "type": "surface"
           }
          ],
          "table": [
           {
            "cells": {
             "fill": {
              "color": "#EBF0F8"
             },
             "line": {
              "color": "white"
             }
            },
            "header": {
             "fill": {
              "color": "#C8D4E3"
             },
             "line": {
              "color": "white"
             }
            },
            "type": "table"
           }
          ]
         },
         "layout": {
          "annotationdefaults": {
           "arrowcolor": "#2a3f5f",
           "arrowhead": 0,
           "arrowwidth": 1
          },
          "autotypenumbers": "strict",
          "coloraxis": {
           "colorbar": {
            "outlinewidth": 0,
            "ticks": ""
           }
          },
          "colorscale": {
           "diverging": [
            [
             0,
             "#8e0152"
            ],
            [
             0.1,
             "#c51b7d"
            ],
            [
             0.2,
             "#de77ae"
            ],
            [
             0.3,
             "#f1b6da"
            ],
            [
             0.4,
             "#fde0ef"
            ],
            [
             0.5,
             "#f7f7f7"
            ],
            [
             0.6,
             "#e6f5d0"
            ],
            [
             0.7,
             "#b8e186"
            ],
            [
             0.8,
             "#7fbc41"
            ],
            [
             0.9,
             "#4d9221"
            ],
            [
             1,
             "#276419"
            ]
           ],
           "sequential": [
            [
             0,
             "#0d0887"
            ],
            [
             0.1111111111111111,
             "#46039f"
            ],
            [
             0.2222222222222222,
             "#7201a8"
            ],
            [
             0.3333333333333333,
             "#9c179e"
            ],
            [
             0.4444444444444444,
             "#bd3786"
            ],
            [
             0.5555555555555556,
             "#d8576b"
            ],
            [
             0.6666666666666666,
             "#ed7953"
            ],
            [
             0.7777777777777778,
             "#fb9f3a"
            ],
            [
             0.8888888888888888,
             "#fdca26"
            ],
            [
             1,
             "#f0f921"
            ]
           ],
           "sequentialminus": [
            [
             0,
             "#0d0887"
            ],
            [
             0.1111111111111111,
             "#46039f"
            ],
            [
             0.2222222222222222,
             "#7201a8"
            ],
            [
             0.3333333333333333,
             "#9c179e"
            ],
            [
             0.4444444444444444,
             "#bd3786"
            ],
            [
             0.5555555555555556,
             "#d8576b"
            ],
            [
             0.6666666666666666,
             "#ed7953"
            ],
            [
             0.7777777777777778,
             "#fb9f3a"
            ],
            [
             0.8888888888888888,
             "#fdca26"
            ],
            [
             1,
             "#f0f921"
            ]
           ]
          },
          "colorway": [
           "#636efa",
           "#EF553B",
           "#00cc96",
           "#ab63fa",
           "#FFA15A",
           "#19d3f3",
           "#FF6692",
           "#B6E880",
           "#FF97FF",
           "#FECB52"
          ],
          "font": {
           "color": "#2a3f5f"
          },
          "geo": {
           "bgcolor": "white",
           "lakecolor": "white",
           "landcolor": "#E5ECF6",
           "showlakes": true,
           "showland": true,
           "subunitcolor": "white"
          },
          "hoverlabel": {
           "align": "left"
          },
          "hovermode": "closest",
          "mapbox": {
           "style": "light"
          },
          "paper_bgcolor": "white",
          "plot_bgcolor": "#E5ECF6",
          "polar": {
           "angularaxis": {
            "gridcolor": "white",
            "linecolor": "white",
            "ticks": ""
           },
           "bgcolor": "#E5ECF6",
           "radialaxis": {
            "gridcolor": "white",
            "linecolor": "white",
            "ticks": ""
           }
          },
          "scene": {
           "xaxis": {
            "backgroundcolor": "#E5ECF6",
            "gridcolor": "white",
            "gridwidth": 2,
            "linecolor": "white",
            "showbackground": true,
            "ticks": "",
            "zerolinecolor": "white"
           },
           "yaxis": {
            "backgroundcolor": "#E5ECF6",
            "gridcolor": "white",
            "gridwidth": 2,
            "linecolor": "white",
            "showbackground": true,
            "ticks": "",
            "zerolinecolor": "white"
           },
           "zaxis": {
            "backgroundcolor": "#E5ECF6",
            "gridcolor": "white",
            "gridwidth": 2,
            "linecolor": "white",
            "showbackground": true,
            "ticks": "",
            "zerolinecolor": "white"
           }
          },
          "shapedefaults": {
           "line": {
            "color": "#2a3f5f"
           }
          },
          "ternary": {
           "aaxis": {
            "gridcolor": "white",
            "linecolor": "white",
            "ticks": ""
           },
           "baxis": {
            "gridcolor": "white",
            "linecolor": "white",
            "ticks": ""
           },
           "bgcolor": "#E5ECF6",
           "caxis": {
            "gridcolor": "white",
            "linecolor": "white",
            "ticks": ""
           }
          },
          "title": {
           "x": 0.05
          },
          "xaxis": {
           "automargin": true,
           "gridcolor": "white",
           "linecolor": "white",
           "ticks": "",
           "title": {
            "standoff": 15
           },
           "zerolinecolor": "white",
           "zerolinewidth": 2
          },
          "yaxis": {
           "automargin": true,
           "gridcolor": "white",
           "linecolor": "white",
           "ticks": "",
           "title": {
            "standoff": 15
           },
           "zerolinecolor": "white",
           "zerolinewidth": 2
          }
         }
        }
       }
      }
     },
     "metadata": {},
     "output_type": "display_data"
    }
   ],
   "source": [
    "parallel(results_df, label='metric')"
   ]
  },
  {
   "cell_type": "markdown",
   "metadata": {},
   "source": [
    "## Other metrics"
   ]
  },
  {
   "cell_type": "markdown",
   "metadata": {},
   "source": [
    "### eval"
   ]
  },
  {
   "cell_type": "markdown",
   "metadata": {},
   "source": [
    "## Mahalanobis"
   ]
  },
  {
   "cell_type": "code",
   "execution_count": 12,
   "metadata": {},
   "outputs": [],
   "source": [
    "import numpy as np\n",
    "import faiss\n",
    "from matplotlib import pyplot as plt\n",
    "\n",
    "stacked = np.vstack([sources_emb, targets_emb])"
   ]
  },
  {
   "cell_type": "code",
   "execution_count": 22,
   "metadata": {},
   "outputs": [
    {
     "data": {
      "image/png": "[encoded data removed]",
      "text/plain": [
       "<Figure size 640x480 with 1 Axes>"
      ]
     },
     "metadata": {},
     "output_type": "display_data"
    }
   ],
   "source": [
    "# compute and visualize the covariance matrix\n",
    "xc = targets_emb - targets_emb.mean(0)\n",
    "cov = np.dot(xc.T, xc) / xc.shape[0]\n",
    "_ = plt.imshow(cov)"
   ]
  },
  {
   "cell_type": "code",
   "execution_count": 24,
   "metadata": {},
   "outputs": [
    {
     "data": {
      "text/plain": [
       "array([[ 3.8286968e-04, -9.9552835e-06,  1.1587799e-07, ...,\n",
       "        -4.3315598e-05, -3.3048756e-05, -1.5565014e-05],\n",
       "       [-9.9552835e-06,  4.8848643e-04,  1.2768769e-05, ...,\n",
       "         5.4477765e-05,  1.0735298e-04,  8.0193298e-05],\n",
       "       [ 1.1587799e-07,  1.2768769e-05,  3.2220045e-04, ...,\n",
       "         6.3375606e-05, -1.4427606e-05,  2.4960971e-05],\n",
       "       ...,\n",
       "       [-4.3315598e-05,  5.4477765e-05,  6.3375606e-05, ...,\n",
       "         4.8934313e-04,  1.0738262e-05, -2.3427808e-06],\n",
       "       [-3.3048756e-05,  1.0735298e-04, -1.4427606e-05, ...,\n",
       "         1.0738262e-05,  4.9229956e-04,  8.6209555e-05],\n",
       "       [-1.5565014e-05,  8.0193298e-05,  2.4960971e-05, ...,\n",
       "        -2.3427808e-06,  8.6209555e-05,  4.1356971e-04]], dtype=float32)"
      ]
     },
     "execution_count": 24,
     "metadata": {},
     "output_type": "execute_result"
    }
   ],
   "source": [
    "cov"
   ]
  },
  {
   "cell_type": "code",
   "execution_count": 25,
   "metadata": {},
   "outputs": [
    {
     "ename": "LinAlgError",
     "evalue": "Matrix is not positive definite",
     "output_type": "error",
     "traceback": [
      "\u001b[0;31m---------------------------------------------------------------------------\u001b[0m",
      "\u001b[0;31mLinAlgError\u001b[0m                               Traceback (most recent call last)",
      "Cell \u001b[0;32mIn[25], line 2\u001b[0m\n\u001b[1;32m      1\u001b[0m \u001b[38;5;66;03m# map the vectors back to a space where they follow a unit Gaussian\u001b[39;00m\n\u001b[0;32m----> 2\u001b[0m L \u001b[38;5;241m=\u001b[39m \u001b[43mnp\u001b[49m\u001b[38;5;241;43m.\u001b[39;49m\u001b[43mlinalg\u001b[49m\u001b[38;5;241;43m.\u001b[39;49m\u001b[43mcholesky\u001b[49m\u001b[43m(\u001b[49m\u001b[43mcov\u001b[49m\u001b[43m)\u001b[49m\n\u001b[1;32m      3\u001b[0m mahalanobis_transform \u001b[38;5;241m=\u001b[39m np\u001b[38;5;241m.\u001b[39mlinalg\u001b[38;5;241m.\u001b[39minv(L)\n\u001b[1;32m      4\u001b[0m y \u001b[38;5;241m=\u001b[39m np\u001b[38;5;241m.\u001b[39mdot(stacked, mahalanobis_transform\u001b[38;5;241m.\u001b[39mT)\n",
      "File \u001b[0;32m/opt/miniconda3/envs/vocab/lib/python3.12/site-packages/numpy/linalg/linalg.py:779\u001b[0m, in \u001b[0;36mcholesky\u001b[0;34m(a)\u001b[0m\n\u001b[1;32m    777\u001b[0m t, result_t \u001b[38;5;241m=\u001b[39m _commonType(a)\n\u001b[1;32m    778\u001b[0m signature \u001b[38;5;241m=\u001b[39m \u001b[38;5;124m'\u001b[39m\u001b[38;5;124mD->D\u001b[39m\u001b[38;5;124m'\u001b[39m \u001b[38;5;28;01mif\u001b[39;00m isComplexType(t) \u001b[38;5;28;01melse\u001b[39;00m \u001b[38;5;124m'\u001b[39m\u001b[38;5;124md->d\u001b[39m\u001b[38;5;124m'\u001b[39m\n\u001b[0;32m--> 779\u001b[0m r \u001b[38;5;241m=\u001b[39m \u001b[43mgufunc\u001b[49m\u001b[43m(\u001b[49m\u001b[43ma\u001b[49m\u001b[43m,\u001b[49m\u001b[43m \u001b[49m\u001b[43msignature\u001b[49m\u001b[38;5;241;43m=\u001b[39;49m\u001b[43msignature\u001b[49m\u001b[43m,\u001b[49m\u001b[43m \u001b[49m\u001b[43mextobj\u001b[49m\u001b[38;5;241;43m=\u001b[39;49m\u001b[43mextobj\u001b[49m\u001b[43m)\u001b[49m\n\u001b[1;32m    780\u001b[0m \u001b[38;5;28;01mreturn\u001b[39;00m wrap(r\u001b[38;5;241m.\u001b[39mastype(result_t, copy\u001b[38;5;241m=\u001b[39m\u001b[38;5;28;01mFalse\u001b[39;00m))\n",
      "File \u001b[0;32m/opt/miniconda3/envs/vocab/lib/python3.12/site-packages/numpy/linalg/linalg.py:115\u001b[0m, in \u001b[0;36m_raise_linalgerror_nonposdef\u001b[0;34m(err, flag)\u001b[0m\n\u001b[1;32m    114\u001b[0m \u001b[38;5;28;01mdef\u001b[39;00m \u001b[38;5;21m_raise_linalgerror_nonposdef\u001b[39m(err, flag):\n\u001b[0;32m--> 115\u001b[0m     \u001b[38;5;28;01mraise\u001b[39;00m LinAlgError(\u001b[38;5;124m\"\u001b[39m\u001b[38;5;124mMatrix is not positive definite\u001b[39m\u001b[38;5;124m\"\u001b[39m)\n",
      "\u001b[0;31mLinAlgError\u001b[0m: Matrix is not positive definite"
     ]
    }
   ],
   "source": [
    "# map the vectors back to a space where they follow a unit Gaussian\n",
    "L = np.linalg.cholesky(cov)\n",
    "mahalanobis_transform = np.linalg.inv(L)\n",
    "y = np.dot(stacked, mahalanobis_transform.T)"
   ]
  },
  {
   "cell_type": "markdown",
   "metadata": {},
   "source": [
    "The matrix is singular, according to the solver. That means a zero or near-zero diagonal element, so inversion is impossible..."
   ]
  },
  {
   "cell_type": "code",
   "execution_count": null,
   "metadata": {},
   "outputs": [],
   "source": [
    "# perform L2 search in the tranformed space \n",
    "index = faiss.IndexFlatL2(16)\n",
    "index.add(y[:500])\n",
    "D, I = index.search(y[500:], 10)\n"
   ]
  },
  {
   "cell_type": "code",
   "execution_count": null,
   "metadata": {},
   "outputs": [],
   "source": [
    "# perform L2 search in the tranformed space \n",
    "index = faiss.IndexFlatL2(16)\n",
    "index.add(y[:500])\n",
    "D, I = index.search(, 10)"
   ]
  },
  {
   "cell_type": "markdown",
   "metadata": {},
   "source": [
    "### JensenShannon"
   ]
  },
  {
   "cell_type": "code",
   "execution_count": 19,
   "metadata": {},
   "outputs": [],
   "source": [
    "distance, index = batch_compute_distances(targets_emb, sources_emb, faiss.METRIC_Jaccard, k=targets_emb.shape[0])"
   ]
  },
  {
   "cell_type": "code",
   "execution_count": 22,
   "metadata": {},
   "outputs": [
    {
     "data": {
      "text/plain": [
       "array([[1384,  512,  215, ..., 1789, 1845, 1620],\n",
       "       [1384,  215,  690, ...,  403, 1890, 1620],\n",
       "       [1384,  690,  821, ..., 1620, 1890,  403],\n",
       "       [1384,  215,  690, ..., 1890,  403, 1625],\n",
       "       [1384,  215,  690, ..., 1890,  403, 1625]])"
      ]
     },
     "execution_count": 22,
     "metadata": {},
     "output_type": "execute_result"
    }
   ],
   "source": [
    "index[:5]"
   ]
  },
  {
   "cell_type": "code",
   "execution_count": 175,
   "metadata": {},
   "outputs": [],
   "source": [
    "index = faiss.index_factory(\n",
    "    targets_emb.shape[1], \"HNSW\", faiss.METRIC_L2)\n",
    "index.add(targets_emb)\n",
    "distance, index = index.search(sources_emb, k=10)"
   ]
  },
  {
   "cell_type": "code",
   "execution_count": 176,
   "metadata": {},
   "outputs": [
    {
     "data": {
      "text/plain": [
       "array([[   0,  955,   15, ...,    7,   10,   20],\n",
       "       [  15,   18,   19, ...,   13,    2,   12],\n",
       "       [   1,    3,    7, ...,   13,  247,  469],\n",
       "       ...,\n",
       "       [2219, 2202, 2096, ..., 2100, 2174, 2217],\n",
       "       [2152, 2146, 2220, ..., 2210, 2145, 2172],\n",
       "       [2221,  223, 1319, ..., 1436,  988,  639]])"
      ]
     },
     "execution_count": 176,
     "metadata": {},
     "output_type": "execute_result"
    }
   ],
   "source": [
    "index"
   ]
  },
  {
   "cell_type": "code",
   "execution_count": 177,
   "metadata": {},
   "outputs": [
    {
     "name": "stdout",
     "output_type": "stream",
     "text": [
      "0.4198919891989199 0.6296129612961296 0.6854185418541854\n"
     ]
    }
   ],
   "source": [
    "evaluate(index)"
   ]
  },
  {
   "cell_type": "markdown",
   "metadata": {},
   "source": [
    "## Euclidean"
   ]
  },
  {
   "cell_type": "code",
   "execution_count": 47,
   "metadata": {},
   "outputs": [],
   "source": [
    "index = faiss.IndexFlatL2(targets_emb.shape[1])\n",
    "index.add(targets_emb)\n",
    "distance, index = index.search(np.array([sources_emb[0]]), k=targets_emb.shape[0])"
   ]
  },
  {
   "cell_type": "code",
   "execution_count": 48,
   "metadata": {},
   "outputs": [
    {
     "data": {
      "text/plain": [
       "array([[   0,  955,   15, ..., 1852,  222, 1887]])"
      ]
     },
     "execution_count": 48,
     "metadata": {},
     "output_type": "execute_result"
    }
   ],
   "source": [
    "index"
   ]
  },
  {
   "cell_type": "markdown",
   "metadata": {},
   "source": [
    "# HNSW - Hierarchical Navigable Small Worlds"
   ]
  },
  {
   "cell_type": "markdown",
   "metadata": {},
   "source": [
    "# HNSW Flat"
   ]
  },
  {
   "cell_type": "code",
   "execution_count": 160,
   "metadata": {},
   "outputs": [],
   "source": [
    "M = 100\n",
    "index = faiss.IndexHNSWFlat(targets_emb.shape[1], M)\n",
    "index.add(targets_emb)\n",
    "distance, index = index.search(sources_emb, k=10)"
   ]
  },
  {
   "cell_type": "code",
   "execution_count": 161,
   "metadata": {},
   "outputs": [
    {
     "data": {
      "text/plain": [
       "array([[   0,   15,   18, ...,   10,   20,   13],\n",
       "       [  15,   18,   19, ...,   13,    2,   14],\n",
       "       [   1,    3,    7, ...,   13,  247,  469],\n",
       "       ...,\n",
       "       [2219, 2202, 2096, ..., 2100, 2174, 2217],\n",
       "       [2152, 2146, 2220, ..., 2210, 2145, 2172],\n",
       "       [2221,  223, 1319, ..., 1436,  988,  639]])"
      ]
     },
     "execution_count": 161,
     "metadata": {},
     "output_type": "execute_result"
    }
   ],
   "source": [
    "index"
   ]
  },
  {
   "cell_type": "code",
   "execution_count": 163,
   "metadata": {},
   "outputs": [
    {
     "name": "stdout",
     "output_type": "stream",
     "text": [
      "0.4414941494149415 0.6620162016201621 0.7182718271827183\n"
     ]
    }
   ],
   "source": []
  },
  {
   "cell_type": "markdown",
   "metadata": {},
   "source": [
    "# KD-Trees"
   ]
  },
  {
   "cell_type": "code",
   "execution_count": 5,
   "metadata": {},
   "outputs": [],
   "source": [
    "from distance_metrics import batch_compute_kd_trees\n",
    "distance, index = batch_compute_kd_trees(feature_space=targets_emb, query=sources_emb, k=10)"
   ]
  },
  {
   "cell_type": "code",
   "execution_count": 6,
   "metadata": {},
   "outputs": [
    {
     "data": {
      "text/plain": [
       "array([[   0,  955,   15, ...,    7,   10,   20],\n",
       "       [  15,   18,   19, ...,   13,   14,    2],\n",
       "       [  15,   19,   18, ...,   13,  247,  469],\n",
       "       ...,\n",
       "       [2219, 2202, 2096, ..., 2100, 2174, 2217],\n",
       "       [2152, 2220, 2146, ..., 2210, 2145, 2172],\n",
       "       [2221,  223, 1319, ..., 1436,  988, 1288]])"
      ]
     },
     "execution_count": 6,
     "metadata": {},
     "output_type": "execute_result"
    }
   ],
   "source": [
    "index"
   ]
  },
  {
   "cell_type": "code",
   "execution_count": 7,
   "metadata": {},
   "outputs": [
    {
     "data": {
      "text/plain": [
       "{'top1': 0.4747974797479748,\n",
       " 'top5': 0.7187218721872187,\n",
       " 'top10': 0.7866786678667866}"
      ]
     },
     "execution_count": 7,
     "metadata": {},
     "output_type": "execute_result"
    }
   ],
   "source": [
    "evaluate_index_matched_results(index)"
   ]
  },
  {
   "cell_type": "markdown",
   "metadata": {},
   "source": [
    "# Jaccard"
   ]
  },
  {
   "cell_type": "code",
   "execution_count": 34,
   "metadata": {},
   "outputs": [
    {
     "data": {
      "text/plain": [
       "1.0"
      ]
     },
     "execution_count": 34,
     "metadata": {},
     "output_type": "execute_result"
    }
   ],
   "source": [
    "from scipy.spatial import distance\n",
    "\n",
    "distance.jaccard(sources_emb[0], targets_emb[7])"
   ]
  },
  {
   "cell_type": "code",
   "execution_count": null,
   "metadata": {},
   "outputs": [],
   "source": []
  }
 ],
 "metadata": {
  "kernelspec": {
   "display_name": "vocab",
   "language": "python",
   "name": "python3"
  },
  "language_info": {
   "codemirror_mode": {
    "name": "ipython",
    "version": 3
   },
   "file_extension": ".py",
   "mimetype": "text/x-python",
   "name": "python",
   "nbconvert_exporter": "python",
   "pygments_lexer": "ipython3",
   "version": "3.12.2"
  }
 },
 "nbformat": 4,
 "nbformat_minor": 2
}
